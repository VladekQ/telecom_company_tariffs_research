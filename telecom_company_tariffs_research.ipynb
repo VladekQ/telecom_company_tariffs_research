{
 "cells": [
  {
   "cell_type": "markdown",
   "metadata": {},
   "source": [
    "# Описание проекта"
   ]
  },
  {
   "cell_type": "markdown",
   "metadata": {},
   "source": [
    "«Мегалайн» — федеральный оператор сотовой связи. Клиентам предлагают два тарифных плана: «Смарт» и «Ультра». Чтобы скорректировать рекламный бюджет, коммерческий департамент хочет понять, какой тариф приносит больше денег.\n",
    "\n",
    "Необходимо сделать предварительный анализ тарифов на небольшой выборке клиентов. В распоряжении данные 500 пользователей «Мегалайна»: кто они, откуда, каким тарифом пользуются, сколько звонков и сообщений каждый отправил за 2018 год. Нужно проанализировать поведение клиентов и сделать вывод — какой тариф лучше."
   ]
  },
  {
   "cell_type": "markdown",
   "metadata": {},
   "source": [
    "# Описание тарифов"
   ]
  },
  {
   "cell_type": "markdown",
   "metadata": {},
   "source": [
    "<b>Тариф «Смарт»</b>\n",
    "\n",
    "\n",
    "1. Ежемесячная плата: 550 рублей\n",
    "2. Включено 500 минут разговора, 50 сообщений и 15 Гб интернет-трафика\n",
    "3. Стоимость услуг сверх тарифного пакета:\n",
    "   - минута разговора: 3 рубля\n",
    "   - сообщение: 3 рубля\n",
    "   - 1 Гб интернет-трафика: 200 рублей\n",
    "   \n",
    "<b>Тариф «Ультра»</b>\n",
    "\n",
    "\n",
    "1. Ежемесячная плата: 1950 рублей\n",
    "2. Включено 3000 минут разговора, 1000 сообщений и 30 Гб интернет-трафика\n",
    "3. Стоимость услуг сверх тарифного пакета:\n",
    "   - минута разговора: 1 рубль\n",
    "   - сообщение: 1 рубль\n",
    "   - 1 Гб интернет-трафика: 150 рублей"
   ]
  },
  {
   "cell_type": "markdown",
   "metadata": {},
   "source": [
    "<b>Примечание:</b>\n",
    "\n",
    "«Мегалайн» всегда округляет секунды до минут, а мегабайты — до гигабайт. Каждый звонок округляется отдельно: даже если он длился всего 1 секунду, будет засчитан как 1 минута.\n",
    "\n",
    "\n",
    "Для веб-трафика отдельные сессии не считаются. Вместо этого общая сумма за месяц округляется в бо́льшую сторону. Если абонент использует 1025 мегабайт в этом месяце, с него возьмут плату за 2 гигабайта."
   ]
  },
  {
   "cell_type": "markdown",
   "metadata": {},
   "source": [
    "## Загрузка и изучение данных"
   ]
  },
  {
   "cell_type": "code",
   "execution_count": 1,
   "metadata": {},
   "outputs": [],
   "source": [
    "import pandas as pd\n",
    "import numpy as np\n",
    "from scipy import stats as st\n",
    "\n",
    "calls = pd.read_csv('calls.csv')\n",
    "internet = pd.read_csv('internet.csv', index_col = 'Unnamed: 0')\n",
    "messages = pd.read_csv('messages.csv')\n",
    "tariffs = pd.read_csv('tariffs.csv')\n",
    "users = pd.read_csv('users.csv')\n",
    "datasets = [calls, internet, messages, tariffs, users]"
   ]
  },
  {
   "cell_type": "code",
   "execution_count": 2,
   "metadata": {},
   "outputs": [
    {
     "name": "stdout",
     "output_type": "stream",
     "text": [
      "Датасет\n",
      "<class 'pandas.core.frame.DataFrame'>\n",
      "RangeIndex: 202607 entries, 0 to 202606\n",
      "Data columns (total 4 columns):\n",
      " #   Column     Non-Null Count   Dtype  \n",
      "---  ------     --------------   -----  \n",
      " 0   id         202607 non-null  object \n",
      " 1   call_date  202607 non-null  object \n",
      " 2   duration   202607 non-null  float64\n",
      " 3   user_id    202607 non-null  int64  \n",
      "dtypes: float64(1), int64(1), object(2)\n",
      "memory usage: 6.2+ MB\n",
      "-----------------------\n",
      "            duration        user_id\n",
      "count  202607.000000  202607.000000\n",
      "mean        6.755887    1253.940619\n",
      "std         5.843365     144.722751\n",
      "min         0.000000    1000.000000\n",
      "25%         1.300000    1126.000000\n",
      "50%         6.000000    1260.000000\n",
      "75%        10.700000    1379.000000\n",
      "max        38.000000    1499.000000\n",
      "-----------------------\n",
      "       id   call_date  duration  user_id\n",
      "0  1000_0  2018-07-25      0.00     1000\n",
      "1  1000_1  2018-08-17      0.00     1000\n",
      "2  1000_2  2018-06-11      2.85     1000\n",
      "3  1000_3  2018-09-21     13.80     1000\n",
      "4  1000_4  2018-12-15      5.18     1000\n",
      "\n",
      "/////////////////////////////////////////////////////////////////////////////\n",
      "\n",
      "Датасет\n",
      "<class 'pandas.core.frame.DataFrame'>\n",
      "Int64Index: 149396 entries, 0 to 149395\n",
      "Data columns (total 4 columns):\n",
      " #   Column        Non-Null Count   Dtype  \n",
      "---  ------        --------------   -----  \n",
      " 0   id            149396 non-null  object \n",
      " 1   mb_used       149396 non-null  float64\n",
      " 2   session_date  149396 non-null  object \n",
      " 3   user_id       149396 non-null  int64  \n",
      "dtypes: float64(1), int64(1), object(2)\n",
      "memory usage: 5.7+ MB\n",
      "-----------------------\n",
      "             mb_used        user_id\n",
      "count  149396.000000  149396.000000\n",
      "mean      370.192426    1252.099842\n",
      "std       278.300951     144.050823\n",
      "min         0.000000    1000.000000\n",
      "25%       138.187500    1130.000000\n",
      "50%       348.015000    1251.000000\n",
      "75%       559.552500    1380.000000\n",
      "max      1724.830000    1499.000000\n",
      "-----------------------\n",
      "       id  mb_used session_date  user_id\n",
      "0  1000_0   112.95   2018-11-25     1000\n",
      "1  1000_1  1052.81   2018-09-07     1000\n",
      "2  1000_2  1197.26   2018-06-25     1000\n",
      "3  1000_3   550.27   2018-08-22     1000\n",
      "4  1000_4   302.56   2018-09-24     1000\n",
      "\n",
      "/////////////////////////////////////////////////////////////////////////////\n",
      "\n",
      "Датасет\n",
      "<class 'pandas.core.frame.DataFrame'>\n",
      "RangeIndex: 123036 entries, 0 to 123035\n",
      "Data columns (total 3 columns):\n",
      " #   Column        Non-Null Count   Dtype \n",
      "---  ------        --------------   ----- \n",
      " 0   id            123036 non-null  object\n",
      " 1   message_date  123036 non-null  object\n",
      " 2   user_id       123036 non-null  int64 \n",
      "dtypes: int64(1), object(2)\n",
      "memory usage: 2.8+ MB\n",
      "-----------------------\n",
      "             user_id\n",
      "count  123036.000000\n",
      "mean     1256.989410\n",
      "std       143.523967\n",
      "min      1000.000000\n",
      "25%      1134.000000\n",
      "50%      1271.000000\n",
      "75%      1381.000000\n",
      "max      1499.000000\n",
      "-----------------------\n",
      "       id message_date  user_id\n",
      "0  1000_0   2018-06-27     1000\n",
      "1  1000_1   2018-10-08     1000\n",
      "2  1000_2   2018-08-04     1000\n",
      "3  1000_3   2018-06-16     1000\n",
      "4  1000_4   2018-12-05     1000\n",
      "\n",
      "/////////////////////////////////////////////////////////////////////////////\n",
      "\n",
      "Датасет\n",
      "<class 'pandas.core.frame.DataFrame'>\n",
      "RangeIndex: 2 entries, 0 to 1\n",
      "Data columns (total 8 columns):\n",
      " #   Column                 Non-Null Count  Dtype \n",
      "---  ------                 --------------  ----- \n",
      " 0   messages_included      2 non-null      int64 \n",
      " 1   mb_per_month_included  2 non-null      int64 \n",
      " 2   minutes_included       2 non-null      int64 \n",
      " 3   rub_monthly_fee        2 non-null      int64 \n",
      " 4   rub_per_gb             2 non-null      int64 \n",
      " 5   rub_per_message        2 non-null      int64 \n",
      " 6   rub_per_minute         2 non-null      int64 \n",
      " 7   tariff_name            2 non-null      object\n",
      "dtypes: int64(7), object(1)\n",
      "memory usage: 256.0+ bytes\n",
      "-----------------------\n",
      "       messages_included  mb_per_month_included  minutes_included  \\\n",
      "count           2.000000               2.000000          2.000000   \n",
      "mean          525.000000           23040.000000       1750.000000   \n",
      "std           671.751442           10861.160159       1767.766953   \n",
      "min            50.000000           15360.000000        500.000000   \n",
      "25%           287.500000           19200.000000       1125.000000   \n",
      "50%           525.000000           23040.000000       1750.000000   \n",
      "75%           762.500000           26880.000000       2375.000000   \n",
      "max          1000.000000           30720.000000       3000.000000   \n",
      "\n",
      "       rub_monthly_fee  rub_per_gb  rub_per_message  rub_per_minute  \n",
      "count         2.000000    2.000000         2.000000        2.000000  \n",
      "mean       1250.000000  175.000000         2.000000        2.000000  \n",
      "std         989.949494   35.355339         1.414214        1.414214  \n",
      "min         550.000000  150.000000         1.000000        1.000000  \n",
      "25%         900.000000  162.500000         1.500000        1.500000  \n",
      "50%        1250.000000  175.000000         2.000000        2.000000  \n",
      "75%        1600.000000  187.500000         2.500000        2.500000  \n",
      "max        1950.000000  200.000000         3.000000        3.000000  \n",
      "-----------------------\n",
      "   messages_included  mb_per_month_included  minutes_included  \\\n",
      "0                 50                  15360               500   \n",
      "1               1000                  30720              3000   \n",
      "\n",
      "   rub_monthly_fee  rub_per_gb  rub_per_message  rub_per_minute tariff_name  \n",
      "0              550         200                3               3       smart  \n",
      "1             1950         150                1               1       ultra  \n",
      "\n",
      "/////////////////////////////////////////////////////////////////////////////\n",
      "\n",
      "Датасет\n",
      "<class 'pandas.core.frame.DataFrame'>\n",
      "RangeIndex: 500 entries, 0 to 499\n",
      "Data columns (total 8 columns):\n",
      " #   Column      Non-Null Count  Dtype \n",
      "---  ------      --------------  ----- \n",
      " 0   user_id     500 non-null    int64 \n",
      " 1   age         500 non-null    int64 \n",
      " 2   churn_date  38 non-null     object\n",
      " 3   city        500 non-null    object\n",
      " 4   first_name  500 non-null    object\n",
      " 5   last_name   500 non-null    object\n",
      " 6   reg_date    500 non-null    object\n",
      " 7   tariff      500 non-null    object\n",
      "dtypes: int64(2), object(6)\n",
      "memory usage: 31.4+ KB\n",
      "-----------------------\n",
      "           user_id        age\n",
      "count   500.000000  500.00000\n",
      "mean   1249.500000   46.58800\n",
      "std     144.481833   16.66763\n",
      "min    1000.000000   18.00000\n",
      "25%    1124.750000   32.00000\n",
      "50%    1249.500000   46.00000\n",
      "75%    1374.250000   62.00000\n",
      "max    1499.000000   75.00000\n",
      "-----------------------\n",
      "   user_id  age churn_date         city first_name  last_name    reg_date  \\\n",
      "0     1000   52        NaN    Краснодар     Рафаил  Верещагин  2018-05-25   \n",
      "1     1001   41        NaN       Москва       Иван       Ежов  2018-11-01   \n",
      "2     1002   59        NaN  Стерлитамак    Евгений  Абрамович  2018-06-17   \n",
      "3     1003   23        NaN       Москва      Белла   Белякова  2018-08-17   \n",
      "4     1004   68        NaN  Новокузнецк    Татьяна   Авдеенко  2018-05-14   \n",
      "\n",
      "  tariff  \n",
      "0  ultra  \n",
      "1  smart  \n",
      "2  smart  \n",
      "3  ultra  \n",
      "4  ultra  \n",
      "\n",
      "/////////////////////////////////////////////////////////////////////////////\n",
      "\n"
     ]
    }
   ],
   "source": [
    "for dataset in datasets:\n",
    "    print('Датасет')\n",
    "    dataset.info()\n",
    "    print('-----------------------')\n",
    "    print(dataset.describe())\n",
    "    print('-----------------------')\n",
    "    print(dataset.head())\n",
    "    print()\n",
    "    print('/////////////////////////////////////////////////////////////////////////////')\n",
    "    print()"
   ]
  },
  {
   "cell_type": "markdown",
   "metadata": {},
   "source": [
    "Пропущенные значения имеются лишь в одном столбце 'churn_date' в датасете 'users'. Этот параметр отображает дату прекращения использования тарифа, если значение пропущено, значит данный клиент все еще пользовался тарифом на момент выгрузки данных. Оставим эти пропущенные значения, они имеют смысл."
   ]
  },
  {
   "cell_type": "markdown",
   "metadata": {},
   "source": [
    "## Изменение типов данных"
   ]
  },
  {
   "cell_type": "markdown",
   "metadata": {},
   "source": [
    "Плата за тариф взимается 1 раз в месяц, соответственно и продолжительность разговоров (в минутах), количество сообщений, количество интернет-трафика учитывается за месяц. Для того, чтобы отслеживать эти данные с точностью до месяцев, необходимо в таблицах <b>calls, internet, messages</b> изменить тип данных в столбцах <b>call_date, session_date, message_date</b> соответственно на тип <b>'datetime64'</b>.\n",
    "\n",
    "Также в таблице <b>users</b> необходимо изменить тип данных столбцов <b>churn_date, reg_date</b> на тип <b>datetime64</b>."
   ]
  },
  {
   "cell_type": "code",
   "execution_count": 3,
   "metadata": {},
   "outputs": [
    {
     "name": "stdout",
     "output_type": "stream",
     "text": [
      "<class 'pandas.core.frame.DataFrame'>\n",
      "RangeIndex: 202607 entries, 0 to 202606\n",
      "Data columns (total 4 columns):\n",
      " #   Column     Non-Null Count   Dtype         \n",
      "---  ------     --------------   -----         \n",
      " 0   id         202607 non-null  object        \n",
      " 1   call_date  202607 non-null  datetime64[ns]\n",
      " 2   duration   202607 non-null  float64       \n",
      " 3   user_id    202607 non-null  int64         \n",
      "dtypes: datetime64[ns](1), float64(1), int64(1), object(1)\n",
      "memory usage: 6.2+ MB\n"
     ]
    }
   ],
   "source": [
    "calls['call_date'] = pd.to_datetime(calls['call_date'], format='%Y-%m-%d')\n",
    "calls.info()"
   ]
  },
  {
   "cell_type": "code",
   "execution_count": 4,
   "metadata": {},
   "outputs": [
    {
     "name": "stdout",
     "output_type": "stream",
     "text": [
      "<class 'pandas.core.frame.DataFrame'>\n",
      "Int64Index: 149396 entries, 0 to 149395\n",
      "Data columns (total 4 columns):\n",
      " #   Column        Non-Null Count   Dtype         \n",
      "---  ------        --------------   -----         \n",
      " 0   id            149396 non-null  object        \n",
      " 1   mb_used       149396 non-null  float64       \n",
      " 2   session_date  149396 non-null  datetime64[ns]\n",
      " 3   user_id       149396 non-null  int64         \n",
      "dtypes: datetime64[ns](1), float64(1), int64(1), object(1)\n",
      "memory usage: 5.7+ MB\n"
     ]
    }
   ],
   "source": [
    "internet['session_date'] = pd.to_datetime(internet['session_date'], format='%Y-%m-%d')\n",
    "internet.info()"
   ]
  },
  {
   "cell_type": "code",
   "execution_count": 5,
   "metadata": {},
   "outputs": [
    {
     "name": "stdout",
     "output_type": "stream",
     "text": [
      "<class 'pandas.core.frame.DataFrame'>\n",
      "RangeIndex: 123036 entries, 0 to 123035\n",
      "Data columns (total 3 columns):\n",
      " #   Column        Non-Null Count   Dtype         \n",
      "---  ------        --------------   -----         \n",
      " 0   id            123036 non-null  object        \n",
      " 1   message_date  123036 non-null  datetime64[ns]\n",
      " 2   user_id       123036 non-null  int64         \n",
      "dtypes: datetime64[ns](1), int64(1), object(1)\n",
      "memory usage: 2.8+ MB\n"
     ]
    }
   ],
   "source": [
    "messages['message_date'] = pd.to_datetime(messages['message_date'], format='%Y-%m-%d')\n",
    "messages.info()"
   ]
  },
  {
   "cell_type": "code",
   "execution_count": 6,
   "metadata": {},
   "outputs": [
    {
     "name": "stdout",
     "output_type": "stream",
     "text": [
      "<class 'pandas.core.frame.DataFrame'>\n",
      "RangeIndex: 500 entries, 0 to 499\n",
      "Data columns (total 8 columns):\n",
      " #   Column      Non-Null Count  Dtype         \n",
      "---  ------      --------------  -----         \n",
      " 0   user_id     500 non-null    int64         \n",
      " 1   age         500 non-null    int64         \n",
      " 2   churn_date  38 non-null     datetime64[ns]\n",
      " 3   city        500 non-null    object        \n",
      " 4   first_name  500 non-null    object        \n",
      " 5   last_name   500 non-null    object        \n",
      " 6   reg_date    500 non-null    datetime64[ns]\n",
      " 7   tariff      500 non-null    object        \n",
      "dtypes: datetime64[ns](2), int64(2), object(4)\n",
      "memory usage: 31.4+ KB\n"
     ]
    }
   ],
   "source": [
    "users['churn_date'] = pd.to_datetime(users['churn_date'], format='%Y-%m-%d', errors='ignore')\n",
    "users['reg_date'] = pd.to_datetime(users['reg_date'], format='%Y-%m-%d')\n",
    "users.info()"
   ]
  },
  {
   "cell_type": "markdown",
   "metadata": {},
   "source": [
    "Тип данных изменен."
   ]
  },
  {
   "cell_type": "markdown",
   "metadata": {},
   "source": [
    "## Анализ данных на ошибки и аномалии"
   ]
  },
  {
   "cell_type": "markdown",
   "metadata": {},
   "source": [
    "### Таблица звонков 'calls'"
   ]
  },
  {
   "cell_type": "markdown",
   "metadata": {},
   "source": [
    "Рассмотрим каждую таблицу подробнее. Первая - <b>calls</b>. Для начала приведем значения столбца <b>'duration'</b> к принципу нашего оператора: округлять длительность звонков в большую сторону."
   ]
  },
  {
   "cell_type": "code",
   "execution_count": 7,
   "metadata": {},
   "outputs": [
    {
     "data": {
      "text/html": [
       "<div>\n",
       "<style scoped>\n",
       "    .dataframe tbody tr th:only-of-type {\n",
       "        vertical-align: middle;\n",
       "    }\n",
       "\n",
       "    .dataframe tbody tr th {\n",
       "        vertical-align: top;\n",
       "    }\n",
       "\n",
       "    .dataframe thead th {\n",
       "        text-align: right;\n",
       "    }\n",
       "</style>\n",
       "<table border=\"1\" class=\"dataframe\">\n",
       "  <thead>\n",
       "    <tr style=\"text-align: right;\">\n",
       "      <th></th>\n",
       "      <th>id</th>\n",
       "      <th>call_date</th>\n",
       "      <th>duration</th>\n",
       "      <th>user_id</th>\n",
       "    </tr>\n",
       "  </thead>\n",
       "  <tbody>\n",
       "    <tr>\n",
       "      <th>0</th>\n",
       "      <td>1000_0</td>\n",
       "      <td>2018-07-25</td>\n",
       "      <td>0.0</td>\n",
       "      <td>1000</td>\n",
       "    </tr>\n",
       "    <tr>\n",
       "      <th>1</th>\n",
       "      <td>1000_1</td>\n",
       "      <td>2018-08-17</td>\n",
       "      <td>0.0</td>\n",
       "      <td>1000</td>\n",
       "    </tr>\n",
       "    <tr>\n",
       "      <th>2</th>\n",
       "      <td>1000_2</td>\n",
       "      <td>2018-06-11</td>\n",
       "      <td>3.0</td>\n",
       "      <td>1000</td>\n",
       "    </tr>\n",
       "    <tr>\n",
       "      <th>3</th>\n",
       "      <td>1000_3</td>\n",
       "      <td>2018-09-21</td>\n",
       "      <td>14.0</td>\n",
       "      <td>1000</td>\n",
       "    </tr>\n",
       "    <tr>\n",
       "      <th>4</th>\n",
       "      <td>1000_4</td>\n",
       "      <td>2018-12-15</td>\n",
       "      <td>6.0</td>\n",
       "      <td>1000</td>\n",
       "    </tr>\n",
       "  </tbody>\n",
       "</table>\n",
       "</div>"
      ],
      "text/plain": [
       "       id  call_date  duration  user_id\n",
       "0  1000_0 2018-07-25       0.0     1000\n",
       "1  1000_1 2018-08-17       0.0     1000\n",
       "2  1000_2 2018-06-11       3.0     1000\n",
       "3  1000_3 2018-09-21      14.0     1000\n",
       "4  1000_4 2018-12-15       6.0     1000"
      ]
     },
     "execution_count": 7,
     "metadata": {},
     "output_type": "execute_result"
    }
   ],
   "source": [
    "calls['duration'] = np.ceil(calls['duration'])\n",
    "calls.head()"
   ]
  },
  {
   "cell_type": "code",
   "execution_count": 8,
   "metadata": {
    "scrolled": true
   },
   "outputs": [
    {
     "data": {
      "text/html": [
       "<div>\n",
       "<style scoped>\n",
       "    .dataframe tbody tr th:only-of-type {\n",
       "        vertical-align: middle;\n",
       "    }\n",
       "\n",
       "    .dataframe tbody tr th {\n",
       "        vertical-align: top;\n",
       "    }\n",
       "\n",
       "    .dataframe thead th {\n",
       "        text-align: right;\n",
       "    }\n",
       "</style>\n",
       "<table border=\"1\" class=\"dataframe\">\n",
       "  <thead>\n",
       "    <tr style=\"text-align: right;\">\n",
       "      <th></th>\n",
       "      <th>id</th>\n",
       "      <th>call_date</th>\n",
       "      <th>duration</th>\n",
       "      <th>user_id</th>\n",
       "    </tr>\n",
       "  </thead>\n",
       "  <tbody>\n",
       "    <tr>\n",
       "      <th>0</th>\n",
       "      <td>1000_0</td>\n",
       "      <td>2018-07-25</td>\n",
       "      <td>0.0</td>\n",
       "      <td>1000</td>\n",
       "    </tr>\n",
       "    <tr>\n",
       "      <th>1</th>\n",
       "      <td>1000_1</td>\n",
       "      <td>2018-08-17</td>\n",
       "      <td>0.0</td>\n",
       "      <td>1000</td>\n",
       "    </tr>\n",
       "    <tr>\n",
       "      <th>2</th>\n",
       "      <td>1000_2</td>\n",
       "      <td>2018-06-11</td>\n",
       "      <td>3.0</td>\n",
       "      <td>1000</td>\n",
       "    </tr>\n",
       "    <tr>\n",
       "      <th>3</th>\n",
       "      <td>1000_3</td>\n",
       "      <td>2018-09-21</td>\n",
       "      <td>14.0</td>\n",
       "      <td>1000</td>\n",
       "    </tr>\n",
       "    <tr>\n",
       "      <th>4</th>\n",
       "      <td>1000_4</td>\n",
       "      <td>2018-12-15</td>\n",
       "      <td>6.0</td>\n",
       "      <td>1000</td>\n",
       "    </tr>\n",
       "    <tr>\n",
       "      <th>5</th>\n",
       "      <td>1000_5</td>\n",
       "      <td>2018-11-02</td>\n",
       "      <td>0.0</td>\n",
       "      <td>1000</td>\n",
       "    </tr>\n",
       "    <tr>\n",
       "      <th>6</th>\n",
       "      <td>1000_6</td>\n",
       "      <td>2018-10-18</td>\n",
       "      <td>0.0</td>\n",
       "      <td>1000</td>\n",
       "    </tr>\n",
       "    <tr>\n",
       "      <th>7</th>\n",
       "      <td>1000_7</td>\n",
       "      <td>2018-08-22</td>\n",
       "      <td>19.0</td>\n",
       "      <td>1000</td>\n",
       "    </tr>\n",
       "    <tr>\n",
       "      <th>8</th>\n",
       "      <td>1000_8</td>\n",
       "      <td>2018-09-15</td>\n",
       "      <td>19.0</td>\n",
       "      <td>1000</td>\n",
       "    </tr>\n",
       "    <tr>\n",
       "      <th>9</th>\n",
       "      <td>1000_9</td>\n",
       "      <td>2018-08-15</td>\n",
       "      <td>0.0</td>\n",
       "      <td>1000</td>\n",
       "    </tr>\n",
       "    <tr>\n",
       "      <th>10</th>\n",
       "      <td>1000_10</td>\n",
       "      <td>2018-08-22</td>\n",
       "      <td>6.0</td>\n",
       "      <td>1000</td>\n",
       "    </tr>\n",
       "    <tr>\n",
       "      <th>11</th>\n",
       "      <td>1000_11</td>\n",
       "      <td>2018-05-28</td>\n",
       "      <td>19.0</td>\n",
       "      <td>1000</td>\n",
       "    </tr>\n",
       "    <tr>\n",
       "      <th>12</th>\n",
       "      <td>1000_12</td>\n",
       "      <td>2018-07-05</td>\n",
       "      <td>3.0</td>\n",
       "      <td>1000</td>\n",
       "    </tr>\n",
       "    <tr>\n",
       "      <th>13</th>\n",
       "      <td>1000_13</td>\n",
       "      <td>2018-09-29</td>\n",
       "      <td>8.0</td>\n",
       "      <td>1000</td>\n",
       "    </tr>\n",
       "    <tr>\n",
       "      <th>14</th>\n",
       "      <td>1000_14</td>\n",
       "      <td>2018-12-11</td>\n",
       "      <td>10.0</td>\n",
       "      <td>1000</td>\n",
       "    </tr>\n",
       "    <tr>\n",
       "      <th>15</th>\n",
       "      <td>1000_15</td>\n",
       "      <td>2018-07-27</td>\n",
       "      <td>10.0</td>\n",
       "      <td>1000</td>\n",
       "    </tr>\n",
       "    <tr>\n",
       "      <th>16</th>\n",
       "      <td>1000_16</td>\n",
       "      <td>2018-08-11</td>\n",
       "      <td>5.0</td>\n",
       "      <td>1000</td>\n",
       "    </tr>\n",
       "    <tr>\n",
       "      <th>17</th>\n",
       "      <td>1000_17</td>\n",
       "      <td>2018-08-02</td>\n",
       "      <td>13.0</td>\n",
       "      <td>1000</td>\n",
       "    </tr>\n",
       "    <tr>\n",
       "      <th>18</th>\n",
       "      <td>1000_18</td>\n",
       "      <td>2018-06-15</td>\n",
       "      <td>5.0</td>\n",
       "      <td>1000</td>\n",
       "    </tr>\n",
       "    <tr>\n",
       "      <th>19</th>\n",
       "      <td>1000_19</td>\n",
       "      <td>2018-11-02</td>\n",
       "      <td>16.0</td>\n",
       "      <td>1000</td>\n",
       "    </tr>\n",
       "    <tr>\n",
       "      <th>20</th>\n",
       "      <td>1000_20</td>\n",
       "      <td>2018-10-18</td>\n",
       "      <td>8.0</td>\n",
       "      <td>1000</td>\n",
       "    </tr>\n",
       "    <tr>\n",
       "      <th>21</th>\n",
       "      <td>1000_21</td>\n",
       "      <td>2018-09-21</td>\n",
       "      <td>9.0</td>\n",
       "      <td>1000</td>\n",
       "    </tr>\n",
       "    <tr>\n",
       "      <th>22</th>\n",
       "      <td>1000_22</td>\n",
       "      <td>2018-12-04</td>\n",
       "      <td>2.0</td>\n",
       "      <td>1000</td>\n",
       "    </tr>\n",
       "    <tr>\n",
       "      <th>23</th>\n",
       "      <td>1000_23</td>\n",
       "      <td>2018-08-20</td>\n",
       "      <td>10.0</td>\n",
       "      <td>1000</td>\n",
       "    </tr>\n",
       "    <tr>\n",
       "      <th>24</th>\n",
       "      <td>1000_24</td>\n",
       "      <td>2018-09-25</td>\n",
       "      <td>13.0</td>\n",
       "      <td>1000</td>\n",
       "    </tr>\n",
       "    <tr>\n",
       "      <th>25</th>\n",
       "      <td>1000_25</td>\n",
       "      <td>2018-07-21</td>\n",
       "      <td>15.0</td>\n",
       "      <td>1000</td>\n",
       "    </tr>\n",
       "    <tr>\n",
       "      <th>26</th>\n",
       "      <td>1000_26</td>\n",
       "      <td>2018-08-27</td>\n",
       "      <td>5.0</td>\n",
       "      <td>1000</td>\n",
       "    </tr>\n",
       "    <tr>\n",
       "      <th>27</th>\n",
       "      <td>1000_27</td>\n",
       "      <td>2018-08-25</td>\n",
       "      <td>11.0</td>\n",
       "      <td>1000</td>\n",
       "    </tr>\n",
       "    <tr>\n",
       "      <th>28</th>\n",
       "      <td>1000_28</td>\n",
       "      <td>2018-12-12</td>\n",
       "      <td>24.0</td>\n",
       "      <td>1000</td>\n",
       "    </tr>\n",
       "    <tr>\n",
       "      <th>29</th>\n",
       "      <td>1000_29</td>\n",
       "      <td>2018-07-19</td>\n",
       "      <td>12.0</td>\n",
       "      <td>1000</td>\n",
       "    </tr>\n",
       "    <tr>\n",
       "      <th>30</th>\n",
       "      <td>1000_30</td>\n",
       "      <td>2018-11-14</td>\n",
       "      <td>12.0</td>\n",
       "      <td>1000</td>\n",
       "    </tr>\n",
       "    <tr>\n",
       "      <th>31</th>\n",
       "      <td>1000_31</td>\n",
       "      <td>2018-11-14</td>\n",
       "      <td>8.0</td>\n",
       "      <td>1000</td>\n",
       "    </tr>\n",
       "    <tr>\n",
       "      <th>32</th>\n",
       "      <td>1000_32</td>\n",
       "      <td>2018-12-26</td>\n",
       "      <td>15.0</td>\n",
       "      <td>1000</td>\n",
       "    </tr>\n",
       "    <tr>\n",
       "      <th>33</th>\n",
       "      <td>1000_33</td>\n",
       "      <td>2018-12-02</td>\n",
       "      <td>2.0</td>\n",
       "      <td>1000</td>\n",
       "    </tr>\n",
       "    <tr>\n",
       "      <th>34</th>\n",
       "      <td>1000_34</td>\n",
       "      <td>2018-10-08</td>\n",
       "      <td>23.0</td>\n",
       "      <td>1000</td>\n",
       "    </tr>\n",
       "    <tr>\n",
       "      <th>35</th>\n",
       "      <td>1000_35</td>\n",
       "      <td>2018-09-23</td>\n",
       "      <td>9.0</td>\n",
       "      <td>1000</td>\n",
       "    </tr>\n",
       "    <tr>\n",
       "      <th>36</th>\n",
       "      <td>1000_36</td>\n",
       "      <td>2018-10-09</td>\n",
       "      <td>0.0</td>\n",
       "      <td>1000</td>\n",
       "    </tr>\n",
       "    <tr>\n",
       "      <th>37</th>\n",
       "      <td>1000_37</td>\n",
       "      <td>2018-08-15</td>\n",
       "      <td>7.0</td>\n",
       "      <td>1000</td>\n",
       "    </tr>\n",
       "    <tr>\n",
       "      <th>38</th>\n",
       "      <td>1000_38</td>\n",
       "      <td>2018-05-25</td>\n",
       "      <td>0.0</td>\n",
       "      <td>1000</td>\n",
       "    </tr>\n",
       "    <tr>\n",
       "      <th>39</th>\n",
       "      <td>1000_39</td>\n",
       "      <td>2018-06-13</td>\n",
       "      <td>0.0</td>\n",
       "      <td>1000</td>\n",
       "    </tr>\n",
       "    <tr>\n",
       "      <th>40</th>\n",
       "      <td>1000_40</td>\n",
       "      <td>2018-10-25</td>\n",
       "      <td>0.0</td>\n",
       "      <td>1000</td>\n",
       "    </tr>\n",
       "    <tr>\n",
       "      <th>41</th>\n",
       "      <td>1000_41</td>\n",
       "      <td>2018-12-29</td>\n",
       "      <td>7.0</td>\n",
       "      <td>1000</td>\n",
       "    </tr>\n",
       "    <tr>\n",
       "      <th>42</th>\n",
       "      <td>1000_42</td>\n",
       "      <td>2018-07-12</td>\n",
       "      <td>2.0</td>\n",
       "      <td>1000</td>\n",
       "    </tr>\n",
       "    <tr>\n",
       "      <th>43</th>\n",
       "      <td>1000_43</td>\n",
       "      <td>2018-11-20</td>\n",
       "      <td>10.0</td>\n",
       "      <td>1000</td>\n",
       "    </tr>\n",
       "    <tr>\n",
       "      <th>44</th>\n",
       "      <td>1000_44</td>\n",
       "      <td>2018-06-05</td>\n",
       "      <td>7.0</td>\n",
       "      <td>1000</td>\n",
       "    </tr>\n",
       "    <tr>\n",
       "      <th>45</th>\n",
       "      <td>1000_45</td>\n",
       "      <td>2018-10-13</td>\n",
       "      <td>11.0</td>\n",
       "      <td>1000</td>\n",
       "    </tr>\n",
       "    <tr>\n",
       "      <th>46</th>\n",
       "      <td>1000_46</td>\n",
       "      <td>2018-06-26</td>\n",
       "      <td>8.0</td>\n",
       "      <td>1000</td>\n",
       "    </tr>\n",
       "    <tr>\n",
       "      <th>47</th>\n",
       "      <td>1000_47</td>\n",
       "      <td>2018-07-14</td>\n",
       "      <td>0.0</td>\n",
       "      <td>1000</td>\n",
       "    </tr>\n",
       "    <tr>\n",
       "      <th>48</th>\n",
       "      <td>1000_48</td>\n",
       "      <td>2018-07-20</td>\n",
       "      <td>11.0</td>\n",
       "      <td>1000</td>\n",
       "    </tr>\n",
       "    <tr>\n",
       "      <th>49</th>\n",
       "      <td>1000_49</td>\n",
       "      <td>2018-09-21</td>\n",
       "      <td>7.0</td>\n",
       "      <td>1000</td>\n",
       "    </tr>\n",
       "  </tbody>\n",
       "</table>\n",
       "</div>"
      ],
      "text/plain": [
       "         id  call_date  duration  user_id\n",
       "0    1000_0 2018-07-25       0.0     1000\n",
       "1    1000_1 2018-08-17       0.0     1000\n",
       "2    1000_2 2018-06-11       3.0     1000\n",
       "3    1000_3 2018-09-21      14.0     1000\n",
       "4    1000_4 2018-12-15       6.0     1000\n",
       "5    1000_5 2018-11-02       0.0     1000\n",
       "6    1000_6 2018-10-18       0.0     1000\n",
       "7    1000_7 2018-08-22      19.0     1000\n",
       "8    1000_8 2018-09-15      19.0     1000\n",
       "9    1000_9 2018-08-15       0.0     1000\n",
       "10  1000_10 2018-08-22       6.0     1000\n",
       "11  1000_11 2018-05-28      19.0     1000\n",
       "12  1000_12 2018-07-05       3.0     1000\n",
       "13  1000_13 2018-09-29       8.0     1000\n",
       "14  1000_14 2018-12-11      10.0     1000\n",
       "15  1000_15 2018-07-27      10.0     1000\n",
       "16  1000_16 2018-08-11       5.0     1000\n",
       "17  1000_17 2018-08-02      13.0     1000\n",
       "18  1000_18 2018-06-15       5.0     1000\n",
       "19  1000_19 2018-11-02      16.0     1000\n",
       "20  1000_20 2018-10-18       8.0     1000\n",
       "21  1000_21 2018-09-21       9.0     1000\n",
       "22  1000_22 2018-12-04       2.0     1000\n",
       "23  1000_23 2018-08-20      10.0     1000\n",
       "24  1000_24 2018-09-25      13.0     1000\n",
       "25  1000_25 2018-07-21      15.0     1000\n",
       "26  1000_26 2018-08-27       5.0     1000\n",
       "27  1000_27 2018-08-25      11.0     1000\n",
       "28  1000_28 2018-12-12      24.0     1000\n",
       "29  1000_29 2018-07-19      12.0     1000\n",
       "30  1000_30 2018-11-14      12.0     1000\n",
       "31  1000_31 2018-11-14       8.0     1000\n",
       "32  1000_32 2018-12-26      15.0     1000\n",
       "33  1000_33 2018-12-02       2.0     1000\n",
       "34  1000_34 2018-10-08      23.0     1000\n",
       "35  1000_35 2018-09-23       9.0     1000\n",
       "36  1000_36 2018-10-09       0.0     1000\n",
       "37  1000_37 2018-08-15       7.0     1000\n",
       "38  1000_38 2018-05-25       0.0     1000\n",
       "39  1000_39 2018-06-13       0.0     1000\n",
       "40  1000_40 2018-10-25       0.0     1000\n",
       "41  1000_41 2018-12-29       7.0     1000\n",
       "42  1000_42 2018-07-12       2.0     1000\n",
       "43  1000_43 2018-11-20      10.0     1000\n",
       "44  1000_44 2018-06-05       7.0     1000\n",
       "45  1000_45 2018-10-13      11.0     1000\n",
       "46  1000_46 2018-06-26       8.0     1000\n",
       "47  1000_47 2018-07-14       0.0     1000\n",
       "48  1000_48 2018-07-20      11.0     1000\n",
       "49  1000_49 2018-09-21       7.0     1000"
      ]
     },
     "execution_count": 8,
     "metadata": {},
     "output_type": "execute_result"
    }
   ],
   "source": [
    "calls.head(50)"
   ]
  },
  {
   "cell_type": "code",
   "execution_count": 9,
   "metadata": {},
   "outputs": [
    {
     "data": {
      "text/html": [
       "<div>\n",
       "<style scoped>\n",
       "    .dataframe tbody tr th:only-of-type {\n",
       "        vertical-align: middle;\n",
       "    }\n",
       "\n",
       "    .dataframe tbody tr th {\n",
       "        vertical-align: top;\n",
       "    }\n",
       "\n",
       "    .dataframe thead th {\n",
       "        text-align: right;\n",
       "    }\n",
       "</style>\n",
       "<table border=\"1\" class=\"dataframe\">\n",
       "  <thead>\n",
       "    <tr style=\"text-align: right;\">\n",
       "      <th></th>\n",
       "      <th>duration</th>\n",
       "      <th>user_id</th>\n",
       "    </tr>\n",
       "  </thead>\n",
       "  <tbody>\n",
       "    <tr>\n",
       "      <th>count</th>\n",
       "      <td>202607.000000</td>\n",
       "      <td>202607.000000</td>\n",
       "    </tr>\n",
       "    <tr>\n",
       "      <th>mean</th>\n",
       "      <td>7.158198</td>\n",
       "      <td>1253.940619</td>\n",
       "    </tr>\n",
       "    <tr>\n",
       "      <th>std</th>\n",
       "      <td>5.959173</td>\n",
       "      <td>144.722751</td>\n",
       "    </tr>\n",
       "    <tr>\n",
       "      <th>min</th>\n",
       "      <td>0.000000</td>\n",
       "      <td>1000.000000</td>\n",
       "    </tr>\n",
       "    <tr>\n",
       "      <th>25%</th>\n",
       "      <td>2.000000</td>\n",
       "      <td>1126.000000</td>\n",
       "    </tr>\n",
       "    <tr>\n",
       "      <th>50%</th>\n",
       "      <td>6.000000</td>\n",
       "      <td>1260.000000</td>\n",
       "    </tr>\n",
       "    <tr>\n",
       "      <th>75%</th>\n",
       "      <td>11.000000</td>\n",
       "      <td>1379.000000</td>\n",
       "    </tr>\n",
       "    <tr>\n",
       "      <th>max</th>\n",
       "      <td>38.000000</td>\n",
       "      <td>1499.000000</td>\n",
       "    </tr>\n",
       "  </tbody>\n",
       "</table>\n",
       "</div>"
      ],
      "text/plain": [
       "            duration        user_id\n",
       "count  202607.000000  202607.000000\n",
       "mean        7.158198    1253.940619\n",
       "std         5.959173     144.722751\n",
       "min         0.000000    1000.000000\n",
       "25%         2.000000    1126.000000\n",
       "50%         6.000000    1260.000000\n",
       "75%        11.000000    1379.000000\n",
       "max        38.000000    1499.000000"
      ]
     },
     "execution_count": 9,
     "metadata": {},
     "output_type": "execute_result"
    }
   ],
   "source": [
    "calls.describe()"
   ]
  },
  {
   "cell_type": "markdown",
   "metadata": {},
   "source": [
    "Средняя длительность разговора: 7.15 мин.\n",
    "\n",
    "Медиана длительности разговора: 6 мин."
   ]
  },
  {
   "cell_type": "markdown",
   "metadata": {},
   "source": [
    "Максимальная длительность разговора: 38 мин.\n",
    "\n",
    "<b>Минимальная длительность разговора: 0 мин.</b>\n",
    "\n",
    "Вспомним примечание к задаче, в котором написано: <b>Каждый звонок округляется отдельно: даже если он длился всего 1 секунду, будет засчитан как 1 минута.</b>\n",
    "\n",
    "Но мы видим нулевые значения, это странно, вероятнее всего это <b>пропущенные звонки</b>, клиент просто не дозвонился.\n",
    "\n",
    "Необходимо устранить эту <b>'аномалию'</b>, можно сделать это несколькими способами:\n",
    "\n",
    "- Заполнить эти значения медианой продолжительности разговора;\n",
    "- Удалить данные с нулевой продолжительностью разговора;\n",
    "- Оставить данные с нулевой длительностью.\n",
    "\n",
    "Считаю, что правильным способом будет <b>удаление таких данных</b>, так как они изменяют показатели \"средней продолжительности разговора\" и \"медианы продолжительности разговора\", а также изменяют количество звонков в целом, что может отразиться на результатах анализа данных."
   ]
  },
  {
   "cell_type": "code",
   "execution_count": 10,
   "metadata": {},
   "outputs": [
    {
     "name": "stdout",
     "output_type": "stream",
     "text": [
      "Средняя длительность звонков: 7.16\n",
      "Медиана длительности звонков: 6.00\n",
      "Стандартное отклонение: 5.96\n"
     ]
    },
    {
     "data": {
      "image/png": "[encoded data removed]",
      "text/plain": [
       "<Figure size 432x288 with 1 Axes>"
      ]
     },
     "metadata": {
      "needs_background": "light"
     },
     "output_type": "display_data"
    }
   ],
   "source": [
    "# Гистограмма длительности звонков учитывая нулевые значения\n",
    "calls['duration'].plot(kind='hist', grid=True, title='Длительность звонков')\n",
    "print('Средняя длительность звонков: {:.2f}'.format(calls['duration'].mean()))\n",
    "print('Медиана длительности звонков: {:.2f}'.format(calls['duration'].median()))\n",
    "print('Стандартное отклонение: {:.2f}'.format(np.std(calls['duration'])))"
   ]
  },
  {
   "cell_type": "code",
   "execution_count": 11,
   "metadata": {},
   "outputs": [
    {
     "name": "stdout",
     "output_type": "stream",
     "text": [
      "Средняя длительность звонков: 8.90\n",
      "Медиана длительности звонков: 8.00\n",
      "Стандартное отклонение: 5.35\n"
     ]
    },
    {
     "data": {
      "image/png": "[encoded data removed]",
      "text/plain": [
       "<Figure size 432x288 with 1 Axes>"
      ]
     },
     "metadata": {
      "needs_background": "light"
     },
     "output_type": "display_data"
    }
   ],
   "source": [
    "# Гистограмма длительности звонков не учитывая нулевые значения\n",
    "calls.query('duration > 0')['duration'].plot(kind='hist', grid=True, title='Длительность звонков без пропущенных звонков')\n",
    "print('Средняя длительность звонков: {:.2f}'.format(calls.query('duration > 0')['duration'].mean()))\n",
    "print('Медиана длительности звонков: {:.2f}'.format(calls.query('duration > 0')['duration'].median()))\n",
    "print('Стандартное отклонение: {:.2f}'.format(np.std(calls.query('duration > 0')['duration'])))"
   ]
  },
  {
   "cell_type": "markdown",
   "metadata": {},
   "source": [
    "Среднее значение, медиана, а также стандартное отклонение заметно меняются, если не учитывать \"пропущенные звонки\", а также распределение длительности звонков стремится к нормальному.\n",
    "\n",
    "Подведем итог после удаления данных:\n",
    "\n",
    "- Средняя длительность и медиана увеличились, очевидно, что они стали более правдоподобными;\n",
    "- Стандартное отклонение уменьшилось;\n",
    "- Количество \"полноценных\" звонков теперь действительно.\n",
    "\n",
    "Единственный минус данного способа: мы удалили часть звонков, пускай они и пропущенные (пустые), но их количество может нам рассказать об активности \"пользователя\". В любом случае, активность могла бы дать нам лишь догадки о количестве звонков пользователя, например, в следующем месяце. В нашем случае мы анализируем использованное количество минут."
   ]
  },
  {
   "cell_type": "code",
   "execution_count": 12,
   "metadata": {},
   "outputs": [],
   "source": [
    "calls = calls.query('duration > 0').reset_index(drop=True)"
   ]
  },
  {
   "cell_type": "code",
   "execution_count": 13,
   "metadata": {},
   "outputs": [
    {
     "name": "stdout",
     "output_type": "stream",
     "text": [
      "Количество строк после удаления \"пропущенных звонков\": 162994\n"
     ]
    }
   ],
   "source": [
    "print('Количество строк после удаления \"пропущенных звонков\": {}'.format(calls.shape[0]))"
   ]
  },
  {
   "cell_type": "markdown",
   "metadata": {},
   "source": [
    "### Таблица интернет трафика 'internet'"
   ]
  },
  {
   "cell_type": "markdown",
   "metadata": {},
   "source": [
    "Вторая таблица для подробного рассмотрения - <b>internet</b>."
   ]
  },
  {
   "cell_type": "code",
   "execution_count": 14,
   "metadata": {
    "scrolled": true
   },
   "outputs": [
    {
     "data": {
      "text/html": [
       "<div>\n",
       "<style scoped>\n",
       "    .dataframe tbody tr th:only-of-type {\n",
       "        vertical-align: middle;\n",
       "    }\n",
       "\n",
       "    .dataframe tbody tr th {\n",
       "        vertical-align: top;\n",
       "    }\n",
       "\n",
       "    .dataframe thead th {\n",
       "        text-align: right;\n",
       "    }\n",
       "</style>\n",
       "<table border=\"1\" class=\"dataframe\">\n",
       "  <thead>\n",
       "    <tr style=\"text-align: right;\">\n",
       "      <th></th>\n",
       "      <th>id</th>\n",
       "      <th>mb_used</th>\n",
       "      <th>session_date</th>\n",
       "      <th>user_id</th>\n",
       "    </tr>\n",
       "  </thead>\n",
       "  <tbody>\n",
       "    <tr>\n",
       "      <th>0</th>\n",
       "      <td>1000_0</td>\n",
       "      <td>112.95</td>\n",
       "      <td>2018-11-25</td>\n",
       "      <td>1000</td>\n",
       "    </tr>\n",
       "    <tr>\n",
       "      <th>1</th>\n",
       "      <td>1000_1</td>\n",
       "      <td>1052.81</td>\n",
       "      <td>2018-09-07</td>\n",
       "      <td>1000</td>\n",
       "    </tr>\n",
       "    <tr>\n",
       "      <th>2</th>\n",
       "      <td>1000_2</td>\n",
       "      <td>1197.26</td>\n",
       "      <td>2018-06-25</td>\n",
       "      <td>1000</td>\n",
       "    </tr>\n",
       "    <tr>\n",
       "      <th>3</th>\n",
       "      <td>1000_3</td>\n",
       "      <td>550.27</td>\n",
       "      <td>2018-08-22</td>\n",
       "      <td>1000</td>\n",
       "    </tr>\n",
       "    <tr>\n",
       "      <th>4</th>\n",
       "      <td>1000_4</td>\n",
       "      <td>302.56</td>\n",
       "      <td>2018-09-24</td>\n",
       "      <td>1000</td>\n",
       "    </tr>\n",
       "    <tr>\n",
       "      <th>5</th>\n",
       "      <td>1000_5</td>\n",
       "      <td>399.97</td>\n",
       "      <td>2018-10-02</td>\n",
       "      <td>1000</td>\n",
       "    </tr>\n",
       "    <tr>\n",
       "      <th>6</th>\n",
       "      <td>1000_6</td>\n",
       "      <td>540.08</td>\n",
       "      <td>2018-09-07</td>\n",
       "      <td>1000</td>\n",
       "    </tr>\n",
       "    <tr>\n",
       "      <th>7</th>\n",
       "      <td>1000_7</td>\n",
       "      <td>415.70</td>\n",
       "      <td>2018-07-11</td>\n",
       "      <td>1000</td>\n",
       "    </tr>\n",
       "    <tr>\n",
       "      <th>8</th>\n",
       "      <td>1000_8</td>\n",
       "      <td>505.40</td>\n",
       "      <td>2018-10-08</td>\n",
       "      <td>1000</td>\n",
       "    </tr>\n",
       "    <tr>\n",
       "      <th>9</th>\n",
       "      <td>1000_9</td>\n",
       "      <td>345.54</td>\n",
       "      <td>2018-09-03</td>\n",
       "      <td>1000</td>\n",
       "    </tr>\n",
       "    <tr>\n",
       "      <th>10</th>\n",
       "      <td>1000_10</td>\n",
       "      <td>385.14</td>\n",
       "      <td>2018-09-27</td>\n",
       "      <td>1000</td>\n",
       "    </tr>\n",
       "    <tr>\n",
       "      <th>11</th>\n",
       "      <td>1000_11</td>\n",
       "      <td>0.00</td>\n",
       "      <td>2018-08-28</td>\n",
       "      <td>1000</td>\n",
       "    </tr>\n",
       "    <tr>\n",
       "      <th>12</th>\n",
       "      <td>1000_12</td>\n",
       "      <td>375.87</td>\n",
       "      <td>2018-06-20</td>\n",
       "      <td>1000</td>\n",
       "    </tr>\n",
       "    <tr>\n",
       "      <th>13</th>\n",
       "      <td>1000_13</td>\n",
       "      <td>393.83</td>\n",
       "      <td>2018-08-09</td>\n",
       "      <td>1000</td>\n",
       "    </tr>\n",
       "    <tr>\n",
       "      <th>14</th>\n",
       "      <td>1000_14</td>\n",
       "      <td>180.64</td>\n",
       "      <td>2018-08-11</td>\n",
       "      <td>1000</td>\n",
       "    </tr>\n",
       "    <tr>\n",
       "      <th>15</th>\n",
       "      <td>1000_15</td>\n",
       "      <td>337.71</td>\n",
       "      <td>2018-07-21</td>\n",
       "      <td>1000</td>\n",
       "    </tr>\n",
       "    <tr>\n",
       "      <th>16</th>\n",
       "      <td>1000_16</td>\n",
       "      <td>459.28</td>\n",
       "      <td>2018-06-09</td>\n",
       "      <td>1000</td>\n",
       "    </tr>\n",
       "    <tr>\n",
       "      <th>17</th>\n",
       "      <td>1000_17</td>\n",
       "      <td>204.14</td>\n",
       "      <td>2018-06-03</td>\n",
       "      <td>1000</td>\n",
       "    </tr>\n",
       "    <tr>\n",
       "      <th>18</th>\n",
       "      <td>1000_18</td>\n",
       "      <td>658.10</td>\n",
       "      <td>2018-11-01</td>\n",
       "      <td>1000</td>\n",
       "    </tr>\n",
       "    <tr>\n",
       "      <th>19</th>\n",
       "      <td>1000_19</td>\n",
       "      <td>452.73</td>\n",
       "      <td>2018-11-28</td>\n",
       "      <td>1000</td>\n",
       "    </tr>\n",
       "    <tr>\n",
       "      <th>20</th>\n",
       "      <td>1000_20</td>\n",
       "      <td>336.96</td>\n",
       "      <td>2018-08-20</td>\n",
       "      <td>1000</td>\n",
       "    </tr>\n",
       "    <tr>\n",
       "      <th>21</th>\n",
       "      <td>1000_21</td>\n",
       "      <td>564.37</td>\n",
       "      <td>2018-12-06</td>\n",
       "      <td>1000</td>\n",
       "    </tr>\n",
       "    <tr>\n",
       "      <th>22</th>\n",
       "      <td>1000_22</td>\n",
       "      <td>723.38</td>\n",
       "      <td>2018-07-02</td>\n",
       "      <td>1000</td>\n",
       "    </tr>\n",
       "    <tr>\n",
       "      <th>23</th>\n",
       "      <td>1000_23</td>\n",
       "      <td>603.61</td>\n",
       "      <td>2018-10-19</td>\n",
       "      <td>1000</td>\n",
       "    </tr>\n",
       "    <tr>\n",
       "      <th>24</th>\n",
       "      <td>1000_24</td>\n",
       "      <td>53.18</td>\n",
       "      <td>2018-10-30</td>\n",
       "      <td>1000</td>\n",
       "    </tr>\n",
       "    <tr>\n",
       "      <th>25</th>\n",
       "      <td>1000_25</td>\n",
       "      <td>153.44</td>\n",
       "      <td>2018-06-17</td>\n",
       "      <td>1000</td>\n",
       "    </tr>\n",
       "    <tr>\n",
       "      <th>26</th>\n",
       "      <td>1000_26</td>\n",
       "      <td>951.38</td>\n",
       "      <td>2018-11-06</td>\n",
       "      <td>1000</td>\n",
       "    </tr>\n",
       "    <tr>\n",
       "      <th>27</th>\n",
       "      <td>1000_27</td>\n",
       "      <td>799.91</td>\n",
       "      <td>2018-08-28</td>\n",
       "      <td>1000</td>\n",
       "    </tr>\n",
       "    <tr>\n",
       "      <th>28</th>\n",
       "      <td>1000_28</td>\n",
       "      <td>923.89</td>\n",
       "      <td>2018-09-14</td>\n",
       "      <td>1000</td>\n",
       "    </tr>\n",
       "    <tr>\n",
       "      <th>29</th>\n",
       "      <td>1000_29</td>\n",
       "      <td>622.43</td>\n",
       "      <td>2018-11-15</td>\n",
       "      <td>1000</td>\n",
       "    </tr>\n",
       "    <tr>\n",
       "      <th>30</th>\n",
       "      <td>1000_30</td>\n",
       "      <td>577.19</td>\n",
       "      <td>2018-06-09</td>\n",
       "      <td>1000</td>\n",
       "    </tr>\n",
       "    <tr>\n",
       "      <th>31</th>\n",
       "      <td>1000_31</td>\n",
       "      <td>506.48</td>\n",
       "      <td>2018-11-06</td>\n",
       "      <td>1000</td>\n",
       "    </tr>\n",
       "    <tr>\n",
       "      <th>32</th>\n",
       "      <td>1000_32</td>\n",
       "      <td>571.41</td>\n",
       "      <td>2018-08-26</td>\n",
       "      <td>1000</td>\n",
       "    </tr>\n",
       "    <tr>\n",
       "      <th>33</th>\n",
       "      <td>1000_33</td>\n",
       "      <td>432.34</td>\n",
       "      <td>2018-10-15</td>\n",
       "      <td>1000</td>\n",
       "    </tr>\n",
       "    <tr>\n",
       "      <th>34</th>\n",
       "      <td>1000_34</td>\n",
       "      <td>533.64</td>\n",
       "      <td>2018-09-24</td>\n",
       "      <td>1000</td>\n",
       "    </tr>\n",
       "    <tr>\n",
       "      <th>35</th>\n",
       "      <td>1000_35</td>\n",
       "      <td>660.31</td>\n",
       "      <td>2018-08-28</td>\n",
       "      <td>1000</td>\n",
       "    </tr>\n",
       "    <tr>\n",
       "      <th>36</th>\n",
       "      <td>1000_36</td>\n",
       "      <td>1249.74</td>\n",
       "      <td>2018-11-06</td>\n",
       "      <td>1000</td>\n",
       "    </tr>\n",
       "    <tr>\n",
       "      <th>37</th>\n",
       "      <td>1000_37</td>\n",
       "      <td>747.58</td>\n",
       "      <td>2018-06-03</td>\n",
       "      <td>1000</td>\n",
       "    </tr>\n",
       "    <tr>\n",
       "      <th>38</th>\n",
       "      <td>1000_38</td>\n",
       "      <td>0.00</td>\n",
       "      <td>2018-11-27</td>\n",
       "      <td>1000</td>\n",
       "    </tr>\n",
       "    <tr>\n",
       "      <th>39</th>\n",
       "      <td>1000_39</td>\n",
       "      <td>142.75</td>\n",
       "      <td>2018-10-17</td>\n",
       "      <td>1000</td>\n",
       "    </tr>\n",
       "    <tr>\n",
       "      <th>40</th>\n",
       "      <td>1000_40</td>\n",
       "      <td>575.19</td>\n",
       "      <td>2018-10-07</td>\n",
       "      <td>1000</td>\n",
       "    </tr>\n",
       "    <tr>\n",
       "      <th>41</th>\n",
       "      <td>1000_41</td>\n",
       "      <td>724.48</td>\n",
       "      <td>2018-08-05</td>\n",
       "      <td>1000</td>\n",
       "    </tr>\n",
       "    <tr>\n",
       "      <th>42</th>\n",
       "      <td>1000_42</td>\n",
       "      <td>558.38</td>\n",
       "      <td>2018-07-06</td>\n",
       "      <td>1000</td>\n",
       "    </tr>\n",
       "    <tr>\n",
       "      <th>43</th>\n",
       "      <td>1000_43</td>\n",
       "      <td>555.63</td>\n",
       "      <td>2018-10-03</td>\n",
       "      <td>1000</td>\n",
       "    </tr>\n",
       "    <tr>\n",
       "      <th>44</th>\n",
       "      <td>1000_44</td>\n",
       "      <td>546.02</td>\n",
       "      <td>2018-09-07</td>\n",
       "      <td>1000</td>\n",
       "    </tr>\n",
       "    <tr>\n",
       "      <th>45</th>\n",
       "      <td>1000_45</td>\n",
       "      <td>549.20</td>\n",
       "      <td>2018-11-02</td>\n",
       "      <td>1000</td>\n",
       "    </tr>\n",
       "    <tr>\n",
       "      <th>46</th>\n",
       "      <td>1000_46</td>\n",
       "      <td>0.00</td>\n",
       "      <td>2018-06-30</td>\n",
       "      <td>1000</td>\n",
       "    </tr>\n",
       "    <tr>\n",
       "      <th>47</th>\n",
       "      <td>1000_47</td>\n",
       "      <td>197.93</td>\n",
       "      <td>2018-11-17</td>\n",
       "      <td>1000</td>\n",
       "    </tr>\n",
       "    <tr>\n",
       "      <th>48</th>\n",
       "      <td>1000_48</td>\n",
       "      <td>210.52</td>\n",
       "      <td>2018-06-06</td>\n",
       "      <td>1000</td>\n",
       "    </tr>\n",
       "    <tr>\n",
       "      <th>49</th>\n",
       "      <td>1000_49</td>\n",
       "      <td>629.12</td>\n",
       "      <td>2018-11-20</td>\n",
       "      <td>1000</td>\n",
       "    </tr>\n",
       "  </tbody>\n",
       "</table>\n",
       "</div>"
      ],
      "text/plain": [
       "         id  mb_used session_date  user_id\n",
       "0    1000_0   112.95   2018-11-25     1000\n",
       "1    1000_1  1052.81   2018-09-07     1000\n",
       "2    1000_2  1197.26   2018-06-25     1000\n",
       "3    1000_3   550.27   2018-08-22     1000\n",
       "4    1000_4   302.56   2018-09-24     1000\n",
       "5    1000_5   399.97   2018-10-02     1000\n",
       "6    1000_6   540.08   2018-09-07     1000\n",
       "7    1000_7   415.70   2018-07-11     1000\n",
       "8    1000_8   505.40   2018-10-08     1000\n",
       "9    1000_9   345.54   2018-09-03     1000\n",
       "10  1000_10   385.14   2018-09-27     1000\n",
       "11  1000_11     0.00   2018-08-28     1000\n",
       "12  1000_12   375.87   2018-06-20     1000\n",
       "13  1000_13   393.83   2018-08-09     1000\n",
       "14  1000_14   180.64   2018-08-11     1000\n",
       "15  1000_15   337.71   2018-07-21     1000\n",
       "16  1000_16   459.28   2018-06-09     1000\n",
       "17  1000_17   204.14   2018-06-03     1000\n",
       "18  1000_18   658.10   2018-11-01     1000\n",
       "19  1000_19   452.73   2018-11-28     1000\n",
       "20  1000_20   336.96   2018-08-20     1000\n",
       "21  1000_21   564.37   2018-12-06     1000\n",
       "22  1000_22   723.38   2018-07-02     1000\n",
       "23  1000_23   603.61   2018-10-19     1000\n",
       "24  1000_24    53.18   2018-10-30     1000\n",
       "25  1000_25   153.44   2018-06-17     1000\n",
       "26  1000_26   951.38   2018-11-06     1000\n",
       "27  1000_27   799.91   2018-08-28     1000\n",
       "28  1000_28   923.89   2018-09-14     1000\n",
       "29  1000_29   622.43   2018-11-15     1000\n",
       "30  1000_30   577.19   2018-06-09     1000\n",
       "31  1000_31   506.48   2018-11-06     1000\n",
       "32  1000_32   571.41   2018-08-26     1000\n",
       "33  1000_33   432.34   2018-10-15     1000\n",
       "34  1000_34   533.64   2018-09-24     1000\n",
       "35  1000_35   660.31   2018-08-28     1000\n",
       "36  1000_36  1249.74   2018-11-06     1000\n",
       "37  1000_37   747.58   2018-06-03     1000\n",
       "38  1000_38     0.00   2018-11-27     1000\n",
       "39  1000_39   142.75   2018-10-17     1000\n",
       "40  1000_40   575.19   2018-10-07     1000\n",
       "41  1000_41   724.48   2018-08-05     1000\n",
       "42  1000_42   558.38   2018-07-06     1000\n",
       "43  1000_43   555.63   2018-10-03     1000\n",
       "44  1000_44   546.02   2018-09-07     1000\n",
       "45  1000_45   549.20   2018-11-02     1000\n",
       "46  1000_46     0.00   2018-06-30     1000\n",
       "47  1000_47   197.93   2018-11-17     1000\n",
       "48  1000_48   210.52   2018-06-06     1000\n",
       "49  1000_49   629.12   2018-11-20     1000"
      ]
     },
     "execution_count": 14,
     "metadata": {},
     "output_type": "execute_result"
    }
   ],
   "source": [
    "internet.head(50)"
   ]
  },
  {
   "cell_type": "code",
   "execution_count": 15,
   "metadata": {},
   "outputs": [
    {
     "data": {
      "text/html": [
       "<div>\n",
       "<style scoped>\n",
       "    .dataframe tbody tr th:only-of-type {\n",
       "        vertical-align: middle;\n",
       "    }\n",
       "\n",
       "    .dataframe tbody tr th {\n",
       "        vertical-align: top;\n",
       "    }\n",
       "\n",
       "    .dataframe thead th {\n",
       "        text-align: right;\n",
       "    }\n",
       "</style>\n",
       "<table border=\"1\" class=\"dataframe\">\n",
       "  <thead>\n",
       "    <tr style=\"text-align: right;\">\n",
       "      <th></th>\n",
       "      <th>mb_used</th>\n",
       "      <th>user_id</th>\n",
       "    </tr>\n",
       "  </thead>\n",
       "  <tbody>\n",
       "    <tr>\n",
       "      <th>count</th>\n",
       "      <td>149396.000000</td>\n",
       "      <td>149396.000000</td>\n",
       "    </tr>\n",
       "    <tr>\n",
       "      <th>mean</th>\n",
       "      <td>370.192426</td>\n",
       "      <td>1252.099842</td>\n",
       "    </tr>\n",
       "    <tr>\n",
       "      <th>std</th>\n",
       "      <td>278.300951</td>\n",
       "      <td>144.050823</td>\n",
       "    </tr>\n",
       "    <tr>\n",
       "      <th>min</th>\n",
       "      <td>0.000000</td>\n",
       "      <td>1000.000000</td>\n",
       "    </tr>\n",
       "    <tr>\n",
       "      <th>25%</th>\n",
       "      <td>138.187500</td>\n",
       "      <td>1130.000000</td>\n",
       "    </tr>\n",
       "    <tr>\n",
       "      <th>50%</th>\n",
       "      <td>348.015000</td>\n",
       "      <td>1251.000000</td>\n",
       "    </tr>\n",
       "    <tr>\n",
       "      <th>75%</th>\n",
       "      <td>559.552500</td>\n",
       "      <td>1380.000000</td>\n",
       "    </tr>\n",
       "    <tr>\n",
       "      <th>max</th>\n",
       "      <td>1724.830000</td>\n",
       "      <td>1499.000000</td>\n",
       "    </tr>\n",
       "  </tbody>\n",
       "</table>\n",
       "</div>"
      ],
      "text/plain": [
       "             mb_used        user_id\n",
       "count  149396.000000  149396.000000\n",
       "mean      370.192426    1252.099842\n",
       "std       278.300951     144.050823\n",
       "min         0.000000    1000.000000\n",
       "25%       138.187500    1130.000000\n",
       "50%       348.015000    1251.000000\n",
       "75%       559.552500    1380.000000\n",
       "max      1724.830000    1499.000000"
      ]
     },
     "execution_count": 15,
     "metadata": {},
     "output_type": "execute_result"
    }
   ],
   "source": [
    "internet.describe()"
   ]
  },
  {
   "cell_type": "markdown",
   "metadata": {},
   "source": [
    "В данной таблице мы также можем наблюдать <b>\"нулевые\" сессии</b> - потраченный интернет трафик составляет 0.0. Я считаю, что в действительности такое невозможно, ведь, сессия записывается, когда пользователь запускает какое-либо приложение, использующее интернет. Как правило, такие приложения начинают использовать трафик сразу же после запуска, соответственно, пускай хоть это будет 1 Кбайт, но он будет использован. <b>Использованный трафик не может быть равен 0.</b>\n",
    "\n",
    "Соответственно, считаю правильным <b>удалить сессии, в которых было использовано 0 инетрнет трафика</b>, ведь такие еще и искажают дальнейшие значения, полученные с помощью анализа данных."
   ]
  },
  {
   "cell_type": "code",
   "execution_count": 16,
   "metadata": {},
   "outputs": [
    {
     "name": "stdout",
     "output_type": "stream",
     "text": [
      "Средняя длительность звонков: 370.19\n",
      "Медиана длительности звонков: 348.01\n",
      "Стандартное отклонение: 278.30\n"
     ]
    },
    {
     "data": {
      "image/png": "[encoded data removed]",
      "text/plain": [
       "<Figure size 432x288 with 1 Axes>"
      ]
     },
     "metadata": {
      "needs_background": "light"
     },
     "output_type": "display_data"
    }
   ],
   "source": [
    "# Гистограмма использования интернет трафика учитывая нулевые значения\n",
    "internet['mb_used'].plot(kind='hist', grid=True, title='Интернет трафик (в мегабайтах)')\n",
    "print('Средняя длительность звонков: {:.2f}'.format(internet['mb_used'].mean()))\n",
    "print('Медиана длительности звонков: {:.2f}'.format(internet['mb_used'].median()))\n",
    "print('Стандартное отклонение: {:.2f}'.format(np.std(internet['mb_used'])))"
   ]
  },
  {
   "cell_type": "code",
   "execution_count": 17,
   "metadata": {},
   "outputs": [
    {
     "name": "stdout",
     "output_type": "stream",
     "text": [
      "Средняя длительность звонков: 426.09\n",
      "Медиана длительности звонков: 400.54\n",
      "Стандартное отклонение: 255.60\n"
     ]
    },
    {
     "data": {
      "image/png": "[encoded data removed]",
      "text/plain": [
       "<Figure size 432x288 with 1 Axes>"
      ]
     },
     "metadata": {
      "needs_background": "light"
     },
     "output_type": "display_data"
    }
   ],
   "source": [
    "# Гистограмма использования интернет трафика не учитывая нулевые значения\n",
    "internet.query('mb_used > 0')['mb_used'].plot(kind='hist', grid=True, title='Интернет трафик без нулевых сессий (в мегабайтах)')\n",
    "print('Средняя длительность звонков: {:.2f}'.format(internet.query('mb_used > 0')['mb_used'].mean()))\n",
    "print('Медиана длительности звонков: {:.2f}'.format(internet.query('mb_used > 0')['mb_used'].median()))\n",
    "print('Стандартное отклонение: {:.2f}'.format(np.std(internet.query('mb_used > 0')['mb_used'])))"
   ]
  },
  {
   "cell_type": "markdown",
   "metadata": {},
   "source": [
    "Мы можем наблюдать те же изменения, что и для таблицы \"звонков\", средний использованный интернет трафик и его медиана увеличилась, а стандартное отклонение уменшилось. А также распределение стремится к нормальному."
   ]
  },
  {
   "cell_type": "code",
   "execution_count": 18,
   "metadata": {},
   "outputs": [
    {
     "data": {
      "text/html": [
       "<div>\n",
       "<style scoped>\n",
       "    .dataframe tbody tr th:only-of-type {\n",
       "        vertical-align: middle;\n",
       "    }\n",
       "\n",
       "    .dataframe tbody tr th {\n",
       "        vertical-align: top;\n",
       "    }\n",
       "\n",
       "    .dataframe thead th {\n",
       "        text-align: right;\n",
       "    }\n",
       "</style>\n",
       "<table border=\"1\" class=\"dataframe\">\n",
       "  <thead>\n",
       "    <tr style=\"text-align: right;\">\n",
       "      <th></th>\n",
       "      <th>id</th>\n",
       "      <th>mb_used</th>\n",
       "      <th>session_date</th>\n",
       "      <th>user_id</th>\n",
       "    </tr>\n",
       "  </thead>\n",
       "  <tbody>\n",
       "    <tr>\n",
       "      <th>0</th>\n",
       "      <td>1000_0</td>\n",
       "      <td>112.95</td>\n",
       "      <td>2018-11-25</td>\n",
       "      <td>1000</td>\n",
       "    </tr>\n",
       "    <tr>\n",
       "      <th>1</th>\n",
       "      <td>1000_1</td>\n",
       "      <td>1052.81</td>\n",
       "      <td>2018-09-07</td>\n",
       "      <td>1000</td>\n",
       "    </tr>\n",
       "    <tr>\n",
       "      <th>2</th>\n",
       "      <td>1000_2</td>\n",
       "      <td>1197.26</td>\n",
       "      <td>2018-06-25</td>\n",
       "      <td>1000</td>\n",
       "    </tr>\n",
       "    <tr>\n",
       "      <th>3</th>\n",
       "      <td>1000_3</td>\n",
       "      <td>550.27</td>\n",
       "      <td>2018-08-22</td>\n",
       "      <td>1000</td>\n",
       "    </tr>\n",
       "    <tr>\n",
       "      <th>4</th>\n",
       "      <td>1000_4</td>\n",
       "      <td>302.56</td>\n",
       "      <td>2018-09-24</td>\n",
       "      <td>1000</td>\n",
       "    </tr>\n",
       "  </tbody>\n",
       "</table>\n",
       "</div>"
      ],
      "text/plain": [
       "       id  mb_used session_date  user_id\n",
       "0  1000_0   112.95   2018-11-25     1000\n",
       "1  1000_1  1052.81   2018-09-07     1000\n",
       "2  1000_2  1197.26   2018-06-25     1000\n",
       "3  1000_3   550.27   2018-08-22     1000\n",
       "4  1000_4   302.56   2018-09-24     1000"
      ]
     },
     "execution_count": 18,
     "metadata": {},
     "output_type": "execute_result"
    }
   ],
   "source": [
    "internet = internet.query('mb_used > 0').reset_index(drop=True)\n",
    "internet.head()"
   ]
  },
  {
   "cell_type": "markdown",
   "metadata": {},
   "source": [
    "### Таблица сообщений 'messages'"
   ]
  },
  {
   "cell_type": "markdown",
   "metadata": {},
   "source": [
    "Следующая таблица для рассмотрения - <b>messages</b>"
   ]
  },
  {
   "cell_type": "code",
   "execution_count": 19,
   "metadata": {
    "scrolled": true
   },
   "outputs": [
    {
     "data": {
      "text/html": [
       "<div>\n",
       "<style scoped>\n",
       "    .dataframe tbody tr th:only-of-type {\n",
       "        vertical-align: middle;\n",
       "    }\n",
       "\n",
       "    .dataframe tbody tr th {\n",
       "        vertical-align: top;\n",
       "    }\n",
       "\n",
       "    .dataframe thead th {\n",
       "        text-align: right;\n",
       "    }\n",
       "</style>\n",
       "<table border=\"1\" class=\"dataframe\">\n",
       "  <thead>\n",
       "    <tr style=\"text-align: right;\">\n",
       "      <th></th>\n",
       "      <th>id</th>\n",
       "      <th>message_date</th>\n",
       "      <th>user_id</th>\n",
       "    </tr>\n",
       "  </thead>\n",
       "  <tbody>\n",
       "    <tr>\n",
       "      <th>0</th>\n",
       "      <td>1000_0</td>\n",
       "      <td>2018-06-27</td>\n",
       "      <td>1000</td>\n",
       "    </tr>\n",
       "    <tr>\n",
       "      <th>1</th>\n",
       "      <td>1000_1</td>\n",
       "      <td>2018-10-08</td>\n",
       "      <td>1000</td>\n",
       "    </tr>\n",
       "    <tr>\n",
       "      <th>2</th>\n",
       "      <td>1000_2</td>\n",
       "      <td>2018-08-04</td>\n",
       "      <td>1000</td>\n",
       "    </tr>\n",
       "    <tr>\n",
       "      <th>3</th>\n",
       "      <td>1000_3</td>\n",
       "      <td>2018-06-16</td>\n",
       "      <td>1000</td>\n",
       "    </tr>\n",
       "    <tr>\n",
       "      <th>4</th>\n",
       "      <td>1000_4</td>\n",
       "      <td>2018-12-05</td>\n",
       "      <td>1000</td>\n",
       "    </tr>\n",
       "    <tr>\n",
       "      <th>5</th>\n",
       "      <td>1000_5</td>\n",
       "      <td>2018-06-20</td>\n",
       "      <td>1000</td>\n",
       "    </tr>\n",
       "    <tr>\n",
       "      <th>6</th>\n",
       "      <td>1000_6</td>\n",
       "      <td>2018-11-19</td>\n",
       "      <td>1000</td>\n",
       "    </tr>\n",
       "    <tr>\n",
       "      <th>7</th>\n",
       "      <td>1000_7</td>\n",
       "      <td>2018-10-29</td>\n",
       "      <td>1000</td>\n",
       "    </tr>\n",
       "    <tr>\n",
       "      <th>8</th>\n",
       "      <td>1000_8</td>\n",
       "      <td>2018-06-25</td>\n",
       "      <td>1000</td>\n",
       "    </tr>\n",
       "    <tr>\n",
       "      <th>9</th>\n",
       "      <td>1000_9</td>\n",
       "      <td>2018-12-18</td>\n",
       "      <td>1000</td>\n",
       "    </tr>\n",
       "    <tr>\n",
       "      <th>10</th>\n",
       "      <td>1000_10</td>\n",
       "      <td>2018-05-30</td>\n",
       "      <td>1000</td>\n",
       "    </tr>\n",
       "    <tr>\n",
       "      <th>11</th>\n",
       "      <td>1000_11</td>\n",
       "      <td>2018-07-06</td>\n",
       "      <td>1000</td>\n",
       "    </tr>\n",
       "    <tr>\n",
       "      <th>12</th>\n",
       "      <td>1000_12</td>\n",
       "      <td>2018-08-20</td>\n",
       "      <td>1000</td>\n",
       "    </tr>\n",
       "    <tr>\n",
       "      <th>13</th>\n",
       "      <td>1000_13</td>\n",
       "      <td>2018-10-30</td>\n",
       "      <td>1000</td>\n",
       "    </tr>\n",
       "    <tr>\n",
       "      <th>14</th>\n",
       "      <td>1000_14</td>\n",
       "      <td>2018-09-14</td>\n",
       "      <td>1000</td>\n",
       "    </tr>\n",
       "    <tr>\n",
       "      <th>15</th>\n",
       "      <td>1000_15</td>\n",
       "      <td>2018-08-28</td>\n",
       "      <td>1000</td>\n",
       "    </tr>\n",
       "    <tr>\n",
       "      <th>16</th>\n",
       "      <td>1000_16</td>\n",
       "      <td>2018-06-25</td>\n",
       "      <td>1000</td>\n",
       "    </tr>\n",
       "    <tr>\n",
       "      <th>17</th>\n",
       "      <td>1000_17</td>\n",
       "      <td>2018-06-29</td>\n",
       "      <td>1000</td>\n",
       "    </tr>\n",
       "    <tr>\n",
       "      <th>18</th>\n",
       "      <td>1000_18</td>\n",
       "      <td>2018-07-07</td>\n",
       "      <td>1000</td>\n",
       "    </tr>\n",
       "    <tr>\n",
       "      <th>19</th>\n",
       "      <td>1000_19</td>\n",
       "      <td>2018-05-29</td>\n",
       "      <td>1000</td>\n",
       "    </tr>\n",
       "    <tr>\n",
       "      <th>20</th>\n",
       "      <td>1000_20</td>\n",
       "      <td>2018-05-28</td>\n",
       "      <td>1000</td>\n",
       "    </tr>\n",
       "    <tr>\n",
       "      <th>21</th>\n",
       "      <td>1000_21</td>\n",
       "      <td>2018-08-15</td>\n",
       "      <td>1000</td>\n",
       "    </tr>\n",
       "    <tr>\n",
       "      <th>22</th>\n",
       "      <td>1000_22</td>\n",
       "      <td>2018-07-29</td>\n",
       "      <td>1000</td>\n",
       "    </tr>\n",
       "    <tr>\n",
       "      <th>23</th>\n",
       "      <td>1000_23</td>\n",
       "      <td>2018-12-07</td>\n",
       "      <td>1000</td>\n",
       "    </tr>\n",
       "    <tr>\n",
       "      <th>24</th>\n",
       "      <td>1000_24</td>\n",
       "      <td>2018-12-25</td>\n",
       "      <td>1000</td>\n",
       "    </tr>\n",
       "    <tr>\n",
       "      <th>25</th>\n",
       "      <td>1000_25</td>\n",
       "      <td>2018-10-31</td>\n",
       "      <td>1000</td>\n",
       "    </tr>\n",
       "    <tr>\n",
       "      <th>26</th>\n",
       "      <td>1000_26</td>\n",
       "      <td>2018-07-29</td>\n",
       "      <td>1000</td>\n",
       "    </tr>\n",
       "    <tr>\n",
       "      <th>27</th>\n",
       "      <td>1000_27</td>\n",
       "      <td>2018-07-30</td>\n",
       "      <td>1000</td>\n",
       "    </tr>\n",
       "    <tr>\n",
       "      <th>28</th>\n",
       "      <td>1000_28</td>\n",
       "      <td>2018-11-05</td>\n",
       "      <td>1000</td>\n",
       "    </tr>\n",
       "    <tr>\n",
       "      <th>29</th>\n",
       "      <td>1000_29</td>\n",
       "      <td>2018-12-15</td>\n",
       "      <td>1000</td>\n",
       "    </tr>\n",
       "    <tr>\n",
       "      <th>30</th>\n",
       "      <td>1000_30</td>\n",
       "      <td>2018-12-04</td>\n",
       "      <td>1000</td>\n",
       "    </tr>\n",
       "    <tr>\n",
       "      <th>31</th>\n",
       "      <td>1000_31</td>\n",
       "      <td>2018-06-30</td>\n",
       "      <td>1000</td>\n",
       "    </tr>\n",
       "    <tr>\n",
       "      <th>32</th>\n",
       "      <td>1000_32</td>\n",
       "      <td>2018-07-07</td>\n",
       "      <td>1000</td>\n",
       "    </tr>\n",
       "    <tr>\n",
       "      <th>33</th>\n",
       "      <td>1000_33</td>\n",
       "      <td>2018-12-22</td>\n",
       "      <td>1000</td>\n",
       "    </tr>\n",
       "    <tr>\n",
       "      <th>34</th>\n",
       "      <td>1000_34</td>\n",
       "      <td>2018-10-02</td>\n",
       "      <td>1000</td>\n",
       "    </tr>\n",
       "    <tr>\n",
       "      <th>35</th>\n",
       "      <td>1000_35</td>\n",
       "      <td>2018-08-29</td>\n",
       "      <td>1000</td>\n",
       "    </tr>\n",
       "    <tr>\n",
       "      <th>36</th>\n",
       "      <td>1000_36</td>\n",
       "      <td>2018-08-15</td>\n",
       "      <td>1000</td>\n",
       "    </tr>\n",
       "    <tr>\n",
       "      <th>37</th>\n",
       "      <td>1000_37</td>\n",
       "      <td>2018-12-07</td>\n",
       "      <td>1000</td>\n",
       "    </tr>\n",
       "    <tr>\n",
       "      <th>38</th>\n",
       "      <td>1000_38</td>\n",
       "      <td>2018-11-05</td>\n",
       "      <td>1000</td>\n",
       "    </tr>\n",
       "    <tr>\n",
       "      <th>39</th>\n",
       "      <td>1000_39</td>\n",
       "      <td>2018-09-09</td>\n",
       "      <td>1000</td>\n",
       "    </tr>\n",
       "    <tr>\n",
       "      <th>40</th>\n",
       "      <td>1000_40</td>\n",
       "      <td>2018-07-19</td>\n",
       "      <td>1000</td>\n",
       "    </tr>\n",
       "    <tr>\n",
       "      <th>41</th>\n",
       "      <td>1000_41</td>\n",
       "      <td>2018-09-04</td>\n",
       "      <td>1000</td>\n",
       "    </tr>\n",
       "    <tr>\n",
       "      <th>42</th>\n",
       "      <td>1000_42</td>\n",
       "      <td>2018-07-15</td>\n",
       "      <td>1000</td>\n",
       "    </tr>\n",
       "    <tr>\n",
       "      <th>43</th>\n",
       "      <td>1000_43</td>\n",
       "      <td>2018-10-25</td>\n",
       "      <td>1000</td>\n",
       "    </tr>\n",
       "    <tr>\n",
       "      <th>44</th>\n",
       "      <td>1000_44</td>\n",
       "      <td>2018-12-04</td>\n",
       "      <td>1000</td>\n",
       "    </tr>\n",
       "    <tr>\n",
       "      <th>45</th>\n",
       "      <td>1000_45</td>\n",
       "      <td>2018-12-08</td>\n",
       "      <td>1000</td>\n",
       "    </tr>\n",
       "    <tr>\n",
       "      <th>46</th>\n",
       "      <td>1000_46</td>\n",
       "      <td>2018-06-01</td>\n",
       "      <td>1000</td>\n",
       "    </tr>\n",
       "    <tr>\n",
       "      <th>47</th>\n",
       "      <td>1000_47</td>\n",
       "      <td>2018-06-12</td>\n",
       "      <td>1000</td>\n",
       "    </tr>\n",
       "    <tr>\n",
       "      <th>48</th>\n",
       "      <td>1000_48</td>\n",
       "      <td>2018-12-21</td>\n",
       "      <td>1000</td>\n",
       "    </tr>\n",
       "    <tr>\n",
       "      <th>49</th>\n",
       "      <td>1000_49</td>\n",
       "      <td>2018-10-07</td>\n",
       "      <td>1000</td>\n",
       "    </tr>\n",
       "  </tbody>\n",
       "</table>\n",
       "</div>"
      ],
      "text/plain": [
       "         id message_date  user_id\n",
       "0    1000_0   2018-06-27     1000\n",
       "1    1000_1   2018-10-08     1000\n",
       "2    1000_2   2018-08-04     1000\n",
       "3    1000_3   2018-06-16     1000\n",
       "4    1000_4   2018-12-05     1000\n",
       "5    1000_5   2018-06-20     1000\n",
       "6    1000_6   2018-11-19     1000\n",
       "7    1000_7   2018-10-29     1000\n",
       "8    1000_8   2018-06-25     1000\n",
       "9    1000_9   2018-12-18     1000\n",
       "10  1000_10   2018-05-30     1000\n",
       "11  1000_11   2018-07-06     1000\n",
       "12  1000_12   2018-08-20     1000\n",
       "13  1000_13   2018-10-30     1000\n",
       "14  1000_14   2018-09-14     1000\n",
       "15  1000_15   2018-08-28     1000\n",
       "16  1000_16   2018-06-25     1000\n",
       "17  1000_17   2018-06-29     1000\n",
       "18  1000_18   2018-07-07     1000\n",
       "19  1000_19   2018-05-29     1000\n",
       "20  1000_20   2018-05-28     1000\n",
       "21  1000_21   2018-08-15     1000\n",
       "22  1000_22   2018-07-29     1000\n",
       "23  1000_23   2018-12-07     1000\n",
       "24  1000_24   2018-12-25     1000\n",
       "25  1000_25   2018-10-31     1000\n",
       "26  1000_26   2018-07-29     1000\n",
       "27  1000_27   2018-07-30     1000\n",
       "28  1000_28   2018-11-05     1000\n",
       "29  1000_29   2018-12-15     1000\n",
       "30  1000_30   2018-12-04     1000\n",
       "31  1000_31   2018-06-30     1000\n",
       "32  1000_32   2018-07-07     1000\n",
       "33  1000_33   2018-12-22     1000\n",
       "34  1000_34   2018-10-02     1000\n",
       "35  1000_35   2018-08-29     1000\n",
       "36  1000_36   2018-08-15     1000\n",
       "37  1000_37   2018-12-07     1000\n",
       "38  1000_38   2018-11-05     1000\n",
       "39  1000_39   2018-09-09     1000\n",
       "40  1000_40   2018-07-19     1000\n",
       "41  1000_41   2018-09-04     1000\n",
       "42  1000_42   2018-07-15     1000\n",
       "43  1000_43   2018-10-25     1000\n",
       "44  1000_44   2018-12-04     1000\n",
       "45  1000_45   2018-12-08     1000\n",
       "46  1000_46   2018-06-01     1000\n",
       "47  1000_47   2018-06-12     1000\n",
       "48  1000_48   2018-12-21     1000\n",
       "49  1000_49   2018-10-07     1000"
      ]
     },
     "execution_count": 19,
     "metadata": {},
     "output_type": "execute_result"
    }
   ],
   "source": [
    "messages.head(50)"
   ]
  },
  {
   "cell_type": "code",
   "execution_count": 20,
   "metadata": {},
   "outputs": [
    {
     "data": {
      "text/html": [
       "<div>\n",
       "<style scoped>\n",
       "    .dataframe tbody tr th:only-of-type {\n",
       "        vertical-align: middle;\n",
       "    }\n",
       "\n",
       "    .dataframe tbody tr th {\n",
       "        vertical-align: top;\n",
       "    }\n",
       "\n",
       "    .dataframe thead th {\n",
       "        text-align: right;\n",
       "    }\n",
       "</style>\n",
       "<table border=\"1\" class=\"dataframe\">\n",
       "  <thead>\n",
       "    <tr style=\"text-align: right;\">\n",
       "      <th></th>\n",
       "      <th>user_id</th>\n",
       "    </tr>\n",
       "  </thead>\n",
       "  <tbody>\n",
       "    <tr>\n",
       "      <th>count</th>\n",
       "      <td>123036.000000</td>\n",
       "    </tr>\n",
       "    <tr>\n",
       "      <th>mean</th>\n",
       "      <td>1256.989410</td>\n",
       "    </tr>\n",
       "    <tr>\n",
       "      <th>std</th>\n",
       "      <td>143.523967</td>\n",
       "    </tr>\n",
       "    <tr>\n",
       "      <th>min</th>\n",
       "      <td>1000.000000</td>\n",
       "    </tr>\n",
       "    <tr>\n",
       "      <th>25%</th>\n",
       "      <td>1134.000000</td>\n",
       "    </tr>\n",
       "    <tr>\n",
       "      <th>50%</th>\n",
       "      <td>1271.000000</td>\n",
       "    </tr>\n",
       "    <tr>\n",
       "      <th>75%</th>\n",
       "      <td>1381.000000</td>\n",
       "    </tr>\n",
       "    <tr>\n",
       "      <th>max</th>\n",
       "      <td>1499.000000</td>\n",
       "    </tr>\n",
       "  </tbody>\n",
       "</table>\n",
       "</div>"
      ],
      "text/plain": [
       "             user_id\n",
       "count  123036.000000\n",
       "mean     1256.989410\n",
       "std       143.523967\n",
       "min      1000.000000\n",
       "25%      1134.000000\n",
       "50%      1271.000000\n",
       "75%      1381.000000\n",
       "max      1499.000000"
      ]
     },
     "execution_count": 20,
     "metadata": {},
     "output_type": "execute_result"
    }
   ],
   "source": [
    "messages.describe()"
   ]
  },
  {
   "cell_type": "markdown",
   "metadata": {},
   "source": [
    "В данной таблице нет проблем с данными. В ней приведены лишь даты отправления сообщений."
   ]
  },
  {
   "cell_type": "markdown",
   "metadata": {},
   "source": [
    "### Таблица пользователей 'users'"
   ]
  },
  {
   "cell_type": "code",
   "execution_count": 21,
   "metadata": {
    "scrolled": true
   },
   "outputs": [
    {
     "data": {
      "text/html": [
       "<div>\n",
       "<style scoped>\n",
       "    .dataframe tbody tr th:only-of-type {\n",
       "        vertical-align: middle;\n",
       "    }\n",
       "\n",
       "    .dataframe tbody tr th {\n",
       "        vertical-align: top;\n",
       "    }\n",
       "\n",
       "    .dataframe thead th {\n",
       "        text-align: right;\n",
       "    }\n",
       "</style>\n",
       "<table border=\"1\" class=\"dataframe\">\n",
       "  <thead>\n",
       "    <tr style=\"text-align: right;\">\n",
       "      <th></th>\n",
       "      <th>user_id</th>\n",
       "      <th>age</th>\n",
       "      <th>churn_date</th>\n",
       "      <th>city</th>\n",
       "      <th>first_name</th>\n",
       "      <th>last_name</th>\n",
       "      <th>reg_date</th>\n",
       "      <th>tariff</th>\n",
       "    </tr>\n",
       "  </thead>\n",
       "  <tbody>\n",
       "    <tr>\n",
       "      <th>0</th>\n",
       "      <td>1000</td>\n",
       "      <td>52</td>\n",
       "      <td>NaT</td>\n",
       "      <td>Краснодар</td>\n",
       "      <td>Рафаил</td>\n",
       "      <td>Верещагин</td>\n",
       "      <td>2018-05-25</td>\n",
       "      <td>ultra</td>\n",
       "    </tr>\n",
       "    <tr>\n",
       "      <th>1</th>\n",
       "      <td>1001</td>\n",
       "      <td>41</td>\n",
       "      <td>NaT</td>\n",
       "      <td>Москва</td>\n",
       "      <td>Иван</td>\n",
       "      <td>Ежов</td>\n",
       "      <td>2018-11-01</td>\n",
       "      <td>smart</td>\n",
       "    </tr>\n",
       "    <tr>\n",
       "      <th>2</th>\n",
       "      <td>1002</td>\n",
       "      <td>59</td>\n",
       "      <td>NaT</td>\n",
       "      <td>Стерлитамак</td>\n",
       "      <td>Евгений</td>\n",
       "      <td>Абрамович</td>\n",
       "      <td>2018-06-17</td>\n",
       "      <td>smart</td>\n",
       "    </tr>\n",
       "    <tr>\n",
       "      <th>3</th>\n",
       "      <td>1003</td>\n",
       "      <td>23</td>\n",
       "      <td>NaT</td>\n",
       "      <td>Москва</td>\n",
       "      <td>Белла</td>\n",
       "      <td>Белякова</td>\n",
       "      <td>2018-08-17</td>\n",
       "      <td>ultra</td>\n",
       "    </tr>\n",
       "    <tr>\n",
       "      <th>4</th>\n",
       "      <td>1004</td>\n",
       "      <td>68</td>\n",
       "      <td>NaT</td>\n",
       "      <td>Новокузнецк</td>\n",
       "      <td>Татьяна</td>\n",
       "      <td>Авдеенко</td>\n",
       "      <td>2018-05-14</td>\n",
       "      <td>ultra</td>\n",
       "    </tr>\n",
       "    <tr>\n",
       "      <th>5</th>\n",
       "      <td>1005</td>\n",
       "      <td>67</td>\n",
       "      <td>NaT</td>\n",
       "      <td>Набережные Челны</td>\n",
       "      <td>Афанасий</td>\n",
       "      <td>Горлов</td>\n",
       "      <td>2018-01-25</td>\n",
       "      <td>smart</td>\n",
       "    </tr>\n",
       "    <tr>\n",
       "      <th>6</th>\n",
       "      <td>1006</td>\n",
       "      <td>21</td>\n",
       "      <td>NaT</td>\n",
       "      <td>Ульяновск</td>\n",
       "      <td>Леонид</td>\n",
       "      <td>Ермолаев</td>\n",
       "      <td>2018-02-26</td>\n",
       "      <td>smart</td>\n",
       "    </tr>\n",
       "    <tr>\n",
       "      <th>7</th>\n",
       "      <td>1007</td>\n",
       "      <td>65</td>\n",
       "      <td>NaT</td>\n",
       "      <td>Москва</td>\n",
       "      <td>Юна</td>\n",
       "      <td>Березина</td>\n",
       "      <td>2018-04-19</td>\n",
       "      <td>smart</td>\n",
       "    </tr>\n",
       "    <tr>\n",
       "      <th>8</th>\n",
       "      <td>1008</td>\n",
       "      <td>63</td>\n",
       "      <td>NaT</td>\n",
       "      <td>Челябинск</td>\n",
       "      <td>Рустэм</td>\n",
       "      <td>Пономарёв</td>\n",
       "      <td>2018-12-19</td>\n",
       "      <td>smart</td>\n",
       "    </tr>\n",
       "    <tr>\n",
       "      <th>9</th>\n",
       "      <td>1009</td>\n",
       "      <td>24</td>\n",
       "      <td>NaT</td>\n",
       "      <td>Пермь</td>\n",
       "      <td>Василиса</td>\n",
       "      <td>Блинова</td>\n",
       "      <td>2018-03-22</td>\n",
       "      <td>smart</td>\n",
       "    </tr>\n",
       "    <tr>\n",
       "      <th>10</th>\n",
       "      <td>1010</td>\n",
       "      <td>26</td>\n",
       "      <td>NaT</td>\n",
       "      <td>Тюмень</td>\n",
       "      <td>Эдуард</td>\n",
       "      <td>Кононов</td>\n",
       "      <td>2018-08-05</td>\n",
       "      <td>smart</td>\n",
       "    </tr>\n",
       "    <tr>\n",
       "      <th>11</th>\n",
       "      <td>1011</td>\n",
       "      <td>44</td>\n",
       "      <td>NaT</td>\n",
       "      <td>Самара</td>\n",
       "      <td>Веселина</td>\n",
       "      <td>Алёшко</td>\n",
       "      <td>2018-03-19</td>\n",
       "      <td>smart</td>\n",
       "    </tr>\n",
       "    <tr>\n",
       "      <th>12</th>\n",
       "      <td>1012</td>\n",
       "      <td>38</td>\n",
       "      <td>NaT</td>\n",
       "      <td>Санкт-Петербург</td>\n",
       "      <td>Варлам</td>\n",
       "      <td>Соловьев</td>\n",
       "      <td>2018-03-28</td>\n",
       "      <td>smart</td>\n",
       "    </tr>\n",
       "    <tr>\n",
       "      <th>13</th>\n",
       "      <td>1013</td>\n",
       "      <td>36</td>\n",
       "      <td>NaT</td>\n",
       "      <td>Иваново</td>\n",
       "      <td>Борис</td>\n",
       "      <td>Андреенко</td>\n",
       "      <td>2018-11-14</td>\n",
       "      <td>ultra</td>\n",
       "    </tr>\n",
       "    <tr>\n",
       "      <th>14</th>\n",
       "      <td>1014</td>\n",
       "      <td>64</td>\n",
       "      <td>NaT</td>\n",
       "      <td>Чебоксары</td>\n",
       "      <td>Яков</td>\n",
       "      <td>Акинфьев</td>\n",
       "      <td>2018-05-15</td>\n",
       "      <td>smart</td>\n",
       "    </tr>\n",
       "    <tr>\n",
       "      <th>15</th>\n",
       "      <td>1015</td>\n",
       "      <td>26</td>\n",
       "      <td>NaT</td>\n",
       "      <td>Челябинск</td>\n",
       "      <td>Рузана</td>\n",
       "      <td>Алюшина</td>\n",
       "      <td>2018-04-30</td>\n",
       "      <td>smart</td>\n",
       "    </tr>\n",
       "    <tr>\n",
       "      <th>16</th>\n",
       "      <td>1016</td>\n",
       "      <td>58</td>\n",
       "      <td>NaT</td>\n",
       "      <td>Омск</td>\n",
       "      <td>Марица</td>\n",
       "      <td>Сазонова</td>\n",
       "      <td>2018-11-21</td>\n",
       "      <td>ultra</td>\n",
       "    </tr>\n",
       "    <tr>\n",
       "      <th>17</th>\n",
       "      <td>1017</td>\n",
       "      <td>73</td>\n",
       "      <td>NaT</td>\n",
       "      <td>Краснодар</td>\n",
       "      <td>Мария</td>\n",
       "      <td>Аленникова</td>\n",
       "      <td>2018-05-22</td>\n",
       "      <td>smart</td>\n",
       "    </tr>\n",
       "    <tr>\n",
       "      <th>18</th>\n",
       "      <td>1018</td>\n",
       "      <td>71</td>\n",
       "      <td>NaT</td>\n",
       "      <td>Уфа</td>\n",
       "      <td>Матвей</td>\n",
       "      <td>Золотов</td>\n",
       "      <td>2018-04-01</td>\n",
       "      <td>ultra</td>\n",
       "    </tr>\n",
       "    <tr>\n",
       "      <th>19</th>\n",
       "      <td>1019</td>\n",
       "      <td>63</td>\n",
       "      <td>2018-10-05</td>\n",
       "      <td>Томск</td>\n",
       "      <td>Игнатий</td>\n",
       "      <td>Круглов</td>\n",
       "      <td>2018-05-16</td>\n",
       "      <td>ultra</td>\n",
       "    </tr>\n",
       "    <tr>\n",
       "      <th>20</th>\n",
       "      <td>1020</td>\n",
       "      <td>59</td>\n",
       "      <td>2018-12-18</td>\n",
       "      <td>Чита</td>\n",
       "      <td>Тала</td>\n",
       "      <td>Костина</td>\n",
       "      <td>2018-10-22</td>\n",
       "      <td>smart</td>\n",
       "    </tr>\n",
       "    <tr>\n",
       "      <th>21</th>\n",
       "      <td>1021</td>\n",
       "      <td>61</td>\n",
       "      <td>NaT</td>\n",
       "      <td>Краснодар</td>\n",
       "      <td>Святослав</td>\n",
       "      <td>Тихонов</td>\n",
       "      <td>2018-04-26</td>\n",
       "      <td>ultra</td>\n",
       "    </tr>\n",
       "    <tr>\n",
       "      <th>22</th>\n",
       "      <td>1022</td>\n",
       "      <td>72</td>\n",
       "      <td>NaT</td>\n",
       "      <td>Санкт-Петербург</td>\n",
       "      <td>Василиса</td>\n",
       "      <td>Трофимова</td>\n",
       "      <td>2018-12-01</td>\n",
       "      <td>smart</td>\n",
       "    </tr>\n",
       "    <tr>\n",
       "      <th>23</th>\n",
       "      <td>1023</td>\n",
       "      <td>42</td>\n",
       "      <td>NaT</td>\n",
       "      <td>Томск</td>\n",
       "      <td>Людмила</td>\n",
       "      <td>Мельникова</td>\n",
       "      <td>2018-10-22</td>\n",
       "      <td>smart</td>\n",
       "    </tr>\n",
       "    <tr>\n",
       "      <th>24</th>\n",
       "      <td>1024</td>\n",
       "      <td>73</td>\n",
       "      <td>NaT</td>\n",
       "      <td>Санкт-Петербург</td>\n",
       "      <td>Иулиан</td>\n",
       "      <td>Антипов</td>\n",
       "      <td>2018-10-31</td>\n",
       "      <td>ultra</td>\n",
       "    </tr>\n",
       "    <tr>\n",
       "      <th>25</th>\n",
       "      <td>1025</td>\n",
       "      <td>56</td>\n",
       "      <td>NaT</td>\n",
       "      <td>Уфа</td>\n",
       "      <td>Матвей</td>\n",
       "      <td>Акинин</td>\n",
       "      <td>2018-03-15</td>\n",
       "      <td>smart</td>\n",
       "    </tr>\n",
       "    <tr>\n",
       "      <th>26</th>\n",
       "      <td>1026</td>\n",
       "      <td>32</td>\n",
       "      <td>NaT</td>\n",
       "      <td>Мурманск</td>\n",
       "      <td>Евгений</td>\n",
       "      <td>Бородин</td>\n",
       "      <td>2018-10-06</td>\n",
       "      <td>smart</td>\n",
       "    </tr>\n",
       "    <tr>\n",
       "      <th>27</th>\n",
       "      <td>1027</td>\n",
       "      <td>62</td>\n",
       "      <td>NaT</td>\n",
       "      <td>Петрозаводск</td>\n",
       "      <td>Владислав</td>\n",
       "      <td>Авдеев</td>\n",
       "      <td>2018-04-10</td>\n",
       "      <td>smart</td>\n",
       "    </tr>\n",
       "    <tr>\n",
       "      <th>28</th>\n",
       "      <td>1028</td>\n",
       "      <td>20</td>\n",
       "      <td>NaT</td>\n",
       "      <td>Тверь</td>\n",
       "      <td>Рустем</td>\n",
       "      <td>Евсеев</td>\n",
       "      <td>2018-10-02</td>\n",
       "      <td>ultra</td>\n",
       "    </tr>\n",
       "    <tr>\n",
       "      <th>29</th>\n",
       "      <td>1029</td>\n",
       "      <td>51</td>\n",
       "      <td>NaT</td>\n",
       "      <td>Екатеринбург</td>\n",
       "      <td>Алексей</td>\n",
       "      <td>Селезнев</td>\n",
       "      <td>2018-09-15</td>\n",
       "      <td>smart</td>\n",
       "    </tr>\n",
       "    <tr>\n",
       "      <th>30</th>\n",
       "      <td>1030</td>\n",
       "      <td>28</td>\n",
       "      <td>NaT</td>\n",
       "      <td>Махачкала</td>\n",
       "      <td>Мариетта</td>\n",
       "      <td>Русанова</td>\n",
       "      <td>2018-05-23</td>\n",
       "      <td>smart</td>\n",
       "    </tr>\n",
       "    <tr>\n",
       "      <th>31</th>\n",
       "      <td>1031</td>\n",
       "      <td>66</td>\n",
       "      <td>NaT</td>\n",
       "      <td>Москва</td>\n",
       "      <td>Лаврентий</td>\n",
       "      <td>Тимофеев</td>\n",
       "      <td>2018-11-02</td>\n",
       "      <td>smart</td>\n",
       "    </tr>\n",
       "    <tr>\n",
       "      <th>32</th>\n",
       "      <td>1032</td>\n",
       "      <td>31</td>\n",
       "      <td>NaT</td>\n",
       "      <td>Ульяновск</td>\n",
       "      <td>Инна</td>\n",
       "      <td>Игнатьева</td>\n",
       "      <td>2018-01-04</td>\n",
       "      <td>smart</td>\n",
       "    </tr>\n",
       "    <tr>\n",
       "      <th>33</th>\n",
       "      <td>1033</td>\n",
       "      <td>71</td>\n",
       "      <td>NaT</td>\n",
       "      <td>Москва</td>\n",
       "      <td>Лия</td>\n",
       "      <td>Бабушкина</td>\n",
       "      <td>2018-07-15</td>\n",
       "      <td>smart</td>\n",
       "    </tr>\n",
       "    <tr>\n",
       "      <th>34</th>\n",
       "      <td>1034</td>\n",
       "      <td>66</td>\n",
       "      <td>2018-11-21</td>\n",
       "      <td>Вологда</td>\n",
       "      <td>Святослав</td>\n",
       "      <td>Бондарев</td>\n",
       "      <td>2018-08-26</td>\n",
       "      <td>smart</td>\n",
       "    </tr>\n",
       "    <tr>\n",
       "      <th>35</th>\n",
       "      <td>1035</td>\n",
       "      <td>37</td>\n",
       "      <td>NaT</td>\n",
       "      <td>Тюмень</td>\n",
       "      <td>Розалия</td>\n",
       "      <td>Аракина</td>\n",
       "      <td>2018-04-03</td>\n",
       "      <td>smart</td>\n",
       "    </tr>\n",
       "    <tr>\n",
       "      <th>36</th>\n",
       "      <td>1036</td>\n",
       "      <td>47</td>\n",
       "      <td>NaT</td>\n",
       "      <td>Санкт-Петербург</td>\n",
       "      <td>Анжелика</td>\n",
       "      <td>Андропова</td>\n",
       "      <td>2018-07-14</td>\n",
       "      <td>smart</td>\n",
       "    </tr>\n",
       "    <tr>\n",
       "      <th>37</th>\n",
       "      <td>1037</td>\n",
       "      <td>73</td>\n",
       "      <td>NaT</td>\n",
       "      <td>Череповец</td>\n",
       "      <td>Изольда</td>\n",
       "      <td>Архипова</td>\n",
       "      <td>2018-10-13</td>\n",
       "      <td>smart</td>\n",
       "    </tr>\n",
       "    <tr>\n",
       "      <th>38</th>\n",
       "      <td>1038</td>\n",
       "      <td>31</td>\n",
       "      <td>NaT</td>\n",
       "      <td>Москва</td>\n",
       "      <td>Мария</td>\n",
       "      <td>Денисова</td>\n",
       "      <td>2018-10-07</td>\n",
       "      <td>smart</td>\n",
       "    </tr>\n",
       "    <tr>\n",
       "      <th>39</th>\n",
       "      <td>1039</td>\n",
       "      <td>40</td>\n",
       "      <td>NaT</td>\n",
       "      <td>Ярославль</td>\n",
       "      <td>Агнесса</td>\n",
       "      <td>Андреенко</td>\n",
       "      <td>2018-06-21</td>\n",
       "      <td>ultra</td>\n",
       "    </tr>\n",
       "    <tr>\n",
       "      <th>40</th>\n",
       "      <td>1040</td>\n",
       "      <td>23</td>\n",
       "      <td>NaT</td>\n",
       "      <td>Сочи</td>\n",
       "      <td>Юрий</td>\n",
       "      <td>Одинцов</td>\n",
       "      <td>2018-06-08</td>\n",
       "      <td>smart</td>\n",
       "    </tr>\n",
       "    <tr>\n",
       "      <th>41</th>\n",
       "      <td>1041</td>\n",
       "      <td>58</td>\n",
       "      <td>NaT</td>\n",
       "      <td>Москва</td>\n",
       "      <td>Михаил</td>\n",
       "      <td>Кравцов</td>\n",
       "      <td>2018-11-29</td>\n",
       "      <td>smart</td>\n",
       "    </tr>\n",
       "    <tr>\n",
       "      <th>42</th>\n",
       "      <td>1042</td>\n",
       "      <td>42</td>\n",
       "      <td>NaT</td>\n",
       "      <td>Хабаровск</td>\n",
       "      <td>Константин</td>\n",
       "      <td>Добрынин</td>\n",
       "      <td>2018-11-25</td>\n",
       "      <td>smart</td>\n",
       "    </tr>\n",
       "    <tr>\n",
       "      <th>43</th>\n",
       "      <td>1043</td>\n",
       "      <td>69</td>\n",
       "      <td>NaT</td>\n",
       "      <td>Ставрополь</td>\n",
       "      <td>Марианна</td>\n",
       "      <td>Родионова</td>\n",
       "      <td>2018-07-08</td>\n",
       "      <td>smart</td>\n",
       "    </tr>\n",
       "    <tr>\n",
       "      <th>44</th>\n",
       "      <td>1044</td>\n",
       "      <td>51</td>\n",
       "      <td>NaT</td>\n",
       "      <td>Рязань</td>\n",
       "      <td>Иннокентий</td>\n",
       "      <td>Рябов</td>\n",
       "      <td>2018-05-09</td>\n",
       "      <td>smart</td>\n",
       "    </tr>\n",
       "    <tr>\n",
       "      <th>45</th>\n",
       "      <td>1045</td>\n",
       "      <td>48</td>\n",
       "      <td>NaT</td>\n",
       "      <td>Улан-Удэ</td>\n",
       "      <td>Джемма</td>\n",
       "      <td>Карасева</td>\n",
       "      <td>2018-01-30</td>\n",
       "      <td>smart</td>\n",
       "    </tr>\n",
       "    <tr>\n",
       "      <th>46</th>\n",
       "      <td>1046</td>\n",
       "      <td>72</td>\n",
       "      <td>NaT</td>\n",
       "      <td>Тула</td>\n",
       "      <td>Екатерина</td>\n",
       "      <td>Александрова</td>\n",
       "      <td>2018-08-20</td>\n",
       "      <td>smart</td>\n",
       "    </tr>\n",
       "    <tr>\n",
       "      <th>47</th>\n",
       "      <td>1047</td>\n",
       "      <td>67</td>\n",
       "      <td>NaT</td>\n",
       "      <td>Саратов</td>\n",
       "      <td>Милица</td>\n",
       "      <td>Меркулова</td>\n",
       "      <td>2018-10-29</td>\n",
       "      <td>smart</td>\n",
       "    </tr>\n",
       "    <tr>\n",
       "      <th>48</th>\n",
       "      <td>1048</td>\n",
       "      <td>73</td>\n",
       "      <td>NaT</td>\n",
       "      <td>Новокузнецк</td>\n",
       "      <td>Лола</td>\n",
       "      <td>Мясникова</td>\n",
       "      <td>2018-08-19</td>\n",
       "      <td>ultra</td>\n",
       "    </tr>\n",
       "    <tr>\n",
       "      <th>49</th>\n",
       "      <td>1049</td>\n",
       "      <td>41</td>\n",
       "      <td>NaT</td>\n",
       "      <td>Москва</td>\n",
       "      <td>Габриель</td>\n",
       "      <td>Ларин</td>\n",
       "      <td>2018-03-10</td>\n",
       "      <td>ultra</td>\n",
       "    </tr>\n",
       "  </tbody>\n",
       "</table>\n",
       "</div>"
      ],
      "text/plain": [
       "    user_id  age churn_date              city  first_name     last_name  \\\n",
       "0      1000   52        NaT         Краснодар      Рафаил     Верещагин   \n",
       "1      1001   41        NaT            Москва        Иван          Ежов   \n",
       "2      1002   59        NaT       Стерлитамак     Евгений     Абрамович   \n",
       "3      1003   23        NaT            Москва       Белла      Белякова   \n",
       "4      1004   68        NaT       Новокузнецк     Татьяна      Авдеенко   \n",
       "5      1005   67        NaT  Набережные Челны    Афанасий        Горлов   \n",
       "6      1006   21        NaT         Ульяновск      Леонид      Ермолаев   \n",
       "7      1007   65        NaT            Москва         Юна      Березина   \n",
       "8      1008   63        NaT         Челябинск      Рустэм     Пономарёв   \n",
       "9      1009   24        NaT             Пермь    Василиса       Блинова   \n",
       "10     1010   26        NaT            Тюмень      Эдуард       Кононов   \n",
       "11     1011   44        NaT            Самара    Веселина        Алёшко   \n",
       "12     1012   38        NaT   Санкт-Петербург      Варлам      Соловьев   \n",
       "13     1013   36        NaT           Иваново       Борис     Андреенко   \n",
       "14     1014   64        NaT         Чебоксары        Яков      Акинфьев   \n",
       "15     1015   26        NaT         Челябинск      Рузана       Алюшина   \n",
       "16     1016   58        NaT              Омск      Марица      Сазонова   \n",
       "17     1017   73        NaT         Краснодар       Мария    Аленникова   \n",
       "18     1018   71        NaT               Уфа      Матвей       Золотов   \n",
       "19     1019   63 2018-10-05             Томск     Игнатий       Круглов   \n",
       "20     1020   59 2018-12-18              Чита        Тала       Костина   \n",
       "21     1021   61        NaT         Краснодар   Святослав       Тихонов   \n",
       "22     1022   72        NaT   Санкт-Петербург    Василиса     Трофимова   \n",
       "23     1023   42        NaT             Томск     Людмила    Мельникова   \n",
       "24     1024   73        NaT   Санкт-Петербург      Иулиан       Антипов   \n",
       "25     1025   56        NaT               Уфа      Матвей        Акинин   \n",
       "26     1026   32        NaT          Мурманск     Евгений       Бородин   \n",
       "27     1027   62        NaT      Петрозаводск   Владислав        Авдеев   \n",
       "28     1028   20        NaT             Тверь      Рустем        Евсеев   \n",
       "29     1029   51        NaT      Екатеринбург     Алексей      Селезнев   \n",
       "30     1030   28        NaT         Махачкала    Мариетта      Русанова   \n",
       "31     1031   66        NaT            Москва   Лаврентий      Тимофеев   \n",
       "32     1032   31        NaT         Ульяновск        Инна     Игнатьева   \n",
       "33     1033   71        NaT            Москва         Лия     Бабушкина   \n",
       "34     1034   66 2018-11-21           Вологда   Святослав      Бондарев   \n",
       "35     1035   37        NaT            Тюмень     Розалия       Аракина   \n",
       "36     1036   47        NaT   Санкт-Петербург    Анжелика     Андропова   \n",
       "37     1037   73        NaT         Череповец     Изольда      Архипова   \n",
       "38     1038   31        NaT            Москва       Мария      Денисова   \n",
       "39     1039   40        NaT         Ярославль     Агнесса     Андреенко   \n",
       "40     1040   23        NaT              Сочи        Юрий       Одинцов   \n",
       "41     1041   58        NaT            Москва      Михаил       Кравцов   \n",
       "42     1042   42        NaT         Хабаровск  Константин      Добрынин   \n",
       "43     1043   69        NaT        Ставрополь    Марианна     Родионова   \n",
       "44     1044   51        NaT            Рязань  Иннокентий         Рябов   \n",
       "45     1045   48        NaT          Улан-Удэ      Джемма      Карасева   \n",
       "46     1046   72        NaT              Тула   Екатерина  Александрова   \n",
       "47     1047   67        NaT           Саратов      Милица     Меркулова   \n",
       "48     1048   73        NaT       Новокузнецк        Лола     Мясникова   \n",
       "49     1049   41        NaT            Москва    Габриель         Ларин   \n",
       "\n",
       "     reg_date tariff  \n",
       "0  2018-05-25  ultra  \n",
       "1  2018-11-01  smart  \n",
       "2  2018-06-17  smart  \n",
       "3  2018-08-17  ultra  \n",
       "4  2018-05-14  ultra  \n",
       "5  2018-01-25  smart  \n",
       "6  2018-02-26  smart  \n",
       "7  2018-04-19  smart  \n",
       "8  2018-12-19  smart  \n",
       "9  2018-03-22  smart  \n",
       "10 2018-08-05  smart  \n",
       "11 2018-03-19  smart  \n",
       "12 2018-03-28  smart  \n",
       "13 2018-11-14  ultra  \n",
       "14 2018-05-15  smart  \n",
       "15 2018-04-30  smart  \n",
       "16 2018-11-21  ultra  \n",
       "17 2018-05-22  smart  \n",
       "18 2018-04-01  ultra  \n",
       "19 2018-05-16  ultra  \n",
       "20 2018-10-22  smart  \n",
       "21 2018-04-26  ultra  \n",
       "22 2018-12-01  smart  \n",
       "23 2018-10-22  smart  \n",
       "24 2018-10-31  ultra  \n",
       "25 2018-03-15  smart  \n",
       "26 2018-10-06  smart  \n",
       "27 2018-04-10  smart  \n",
       "28 2018-10-02  ultra  \n",
       "29 2018-09-15  smart  \n",
       "30 2018-05-23  smart  \n",
       "31 2018-11-02  smart  \n",
       "32 2018-01-04  smart  \n",
       "33 2018-07-15  smart  \n",
       "34 2018-08-26  smart  \n",
       "35 2018-04-03  smart  \n",
       "36 2018-07-14  smart  \n",
       "37 2018-10-13  smart  \n",
       "38 2018-10-07  smart  \n",
       "39 2018-06-21  ultra  \n",
       "40 2018-06-08  smart  \n",
       "41 2018-11-29  smart  \n",
       "42 2018-11-25  smart  \n",
       "43 2018-07-08  smart  \n",
       "44 2018-05-09  smart  \n",
       "45 2018-01-30  smart  \n",
       "46 2018-08-20  smart  \n",
       "47 2018-10-29  smart  \n",
       "48 2018-08-19  ultra  \n",
       "49 2018-03-10  ultra  "
      ]
     },
     "execution_count": 21,
     "metadata": {},
     "output_type": "execute_result"
    }
   ],
   "source": [
    "users.head(50)"
   ]
  },
  {
   "cell_type": "code",
   "execution_count": 22,
   "metadata": {},
   "outputs": [
    {
     "data": {
      "text/html": [
       "<div>\n",
       "<style scoped>\n",
       "    .dataframe tbody tr th:only-of-type {\n",
       "        vertical-align: middle;\n",
       "    }\n",
       "\n",
       "    .dataframe tbody tr th {\n",
       "        vertical-align: top;\n",
       "    }\n",
       "\n",
       "    .dataframe thead th {\n",
       "        text-align: right;\n",
       "    }\n",
       "</style>\n",
       "<table border=\"1\" class=\"dataframe\">\n",
       "  <thead>\n",
       "    <tr style=\"text-align: right;\">\n",
       "      <th></th>\n",
       "      <th>user_id</th>\n",
       "      <th>age</th>\n",
       "    </tr>\n",
       "  </thead>\n",
       "  <tbody>\n",
       "    <tr>\n",
       "      <th>count</th>\n",
       "      <td>500.000000</td>\n",
       "      <td>500.00000</td>\n",
       "    </tr>\n",
       "    <tr>\n",
       "      <th>mean</th>\n",
       "      <td>1249.500000</td>\n",
       "      <td>46.58800</td>\n",
       "    </tr>\n",
       "    <tr>\n",
       "      <th>std</th>\n",
       "      <td>144.481833</td>\n",
       "      <td>16.66763</td>\n",
       "    </tr>\n",
       "    <tr>\n",
       "      <th>min</th>\n",
       "      <td>1000.000000</td>\n",
       "      <td>18.00000</td>\n",
       "    </tr>\n",
       "    <tr>\n",
       "      <th>25%</th>\n",
       "      <td>1124.750000</td>\n",
       "      <td>32.00000</td>\n",
       "    </tr>\n",
       "    <tr>\n",
       "      <th>50%</th>\n",
       "      <td>1249.500000</td>\n",
       "      <td>46.00000</td>\n",
       "    </tr>\n",
       "    <tr>\n",
       "      <th>75%</th>\n",
       "      <td>1374.250000</td>\n",
       "      <td>62.00000</td>\n",
       "    </tr>\n",
       "    <tr>\n",
       "      <th>max</th>\n",
       "      <td>1499.000000</td>\n",
       "      <td>75.00000</td>\n",
       "    </tr>\n",
       "  </tbody>\n",
       "</table>\n",
       "</div>"
      ],
      "text/plain": [
       "           user_id        age\n",
       "count   500.000000  500.00000\n",
       "mean   1249.500000   46.58800\n",
       "std     144.481833   16.66763\n",
       "min    1000.000000   18.00000\n",
       "25%    1124.750000   32.00000\n",
       "50%    1249.500000   46.00000\n",
       "75%    1374.250000   62.00000\n",
       "max    1499.000000   75.00000"
      ]
     },
     "execution_count": 22,
     "metadata": {},
     "output_type": "execute_result"
    }
   ],
   "source": [
    "users.describe()"
   ]
  },
  {
   "cell_type": "markdown",
   "metadata": {},
   "source": [
    "В данной таблице нет ничего необычного."
   ]
  },
  {
   "cell_type": "markdown",
   "metadata": {},
   "source": [
    "## Подсчет результатов для каждого пользователя"
   ]
  },
  {
   "cell_type": "markdown",
   "metadata": {},
   "source": [
    "### Кол-во звонков и минут"
   ]
  },
  {
   "cell_type": "markdown",
   "metadata": {},
   "source": [
    "Создадим функцию, которая принимает как аргумент сгруппированные по столбцу 'user_id' датафреймы из таблицы <b>calls</b>. К каждому датафрейму добавляется столбец <b>'month'</b>. Далее формируется сводная таблица, за индекс она принимает месяца, а за значения \"длительность разговора\", функция сводной таблицы - суммирование и подсчет количества значений. Для удобства отображения информации изменим названия столбцов сводной таблицы на 'duration' и 'calls_count' соответственно. Фукнция <b>возвращает сводную таблицу</b>.\n",
    "\n",
    "Далее в переменной <b>calls_by_month</b> сохраняется общая сводная таблица по всем 'user_id'. Так как индексация в сводных таблицах внутри функции проходила по месяцам, соответственно, месяц будет являться индексом, используем метод reset_index() с параметром level='month', чтобы сделать месяца столбцом. Проверяем результат."
   ]
  },
  {
   "cell_type": "code",
   "execution_count": 23,
   "metadata": {},
   "outputs": [
    {
     "data": {
      "text/html": [
       "<div>\n",
       "<style scoped>\n",
       "    .dataframe tbody tr th:only-of-type {\n",
       "        vertical-align: middle;\n",
       "    }\n",
       "\n",
       "    .dataframe tbody tr th {\n",
       "        vertical-align: top;\n",
       "    }\n",
       "\n",
       "    .dataframe thead th {\n",
       "        text-align: right;\n",
       "    }\n",
       "</style>\n",
       "<table border=\"1\" class=\"dataframe\">\n",
       "  <thead>\n",
       "    <tr style=\"text-align: right;\">\n",
       "      <th></th>\n",
       "      <th>month</th>\n",
       "      <th>duration</th>\n",
       "      <th>calls_count</th>\n",
       "    </tr>\n",
       "    <tr>\n",
       "      <th>user_id</th>\n",
       "      <th></th>\n",
       "      <th></th>\n",
       "      <th></th>\n",
       "    </tr>\n",
       "  </thead>\n",
       "  <tbody>\n",
       "    <tr>\n",
       "      <th>1000</th>\n",
       "      <td>5</td>\n",
       "      <td>159.0</td>\n",
       "      <td>17</td>\n",
       "    </tr>\n",
       "    <tr>\n",
       "      <th>1000</th>\n",
       "      <td>6</td>\n",
       "      <td>172.0</td>\n",
       "      <td>28</td>\n",
       "    </tr>\n",
       "    <tr>\n",
       "      <th>1000</th>\n",
       "      <td>7</td>\n",
       "      <td>340.0</td>\n",
       "      <td>41</td>\n",
       "    </tr>\n",
       "    <tr>\n",
       "      <th>1000</th>\n",
       "      <td>8</td>\n",
       "      <td>408.0</td>\n",
       "      <td>42</td>\n",
       "    </tr>\n",
       "    <tr>\n",
       "      <th>1000</th>\n",
       "      <td>9</td>\n",
       "      <td>466.0</td>\n",
       "      <td>46</td>\n",
       "    </tr>\n",
       "    <tr>\n",
       "      <th>...</th>\n",
       "      <td>...</td>\n",
       "      <td>...</td>\n",
       "      <td>...</td>\n",
       "    </tr>\n",
       "    <tr>\n",
       "      <th>1498</th>\n",
       "      <td>10</td>\n",
       "      <td>247.0</td>\n",
       "      <td>30</td>\n",
       "    </tr>\n",
       "    <tr>\n",
       "      <th>1499</th>\n",
       "      <td>9</td>\n",
       "      <td>70.0</td>\n",
       "      <td>8</td>\n",
       "    </tr>\n",
       "    <tr>\n",
       "      <th>1499</th>\n",
       "      <td>10</td>\n",
       "      <td>449.0</td>\n",
       "      <td>44</td>\n",
       "    </tr>\n",
       "    <tr>\n",
       "      <th>1499</th>\n",
       "      <td>11</td>\n",
       "      <td>612.0</td>\n",
       "      <td>62</td>\n",
       "    </tr>\n",
       "    <tr>\n",
       "      <th>1499</th>\n",
       "      <td>12</td>\n",
       "      <td>492.0</td>\n",
       "      <td>56</td>\n",
       "    </tr>\n",
       "  </tbody>\n",
       "</table>\n",
       "<p>3168 rows × 3 columns</p>\n",
       "</div>"
      ],
      "text/plain": [
       "         month  duration  calls_count\n",
       "user_id                              \n",
       "1000         5     159.0           17\n",
       "1000         6     172.0           28\n",
       "1000         7     340.0           41\n",
       "1000         8     408.0           42\n",
       "1000         9     466.0           46\n",
       "...        ...       ...          ...\n",
       "1498        10     247.0           30\n",
       "1499         9      70.0            8\n",
       "1499        10     449.0           44\n",
       "1499        11     612.0           62\n",
       "1499        12     492.0           56\n",
       "\n",
       "[3168 rows x 3 columns]"
      ]
     },
     "execution_count": 23,
     "metadata": {},
     "output_type": "execute_result"
    }
   ],
   "source": [
    "def calls_months(grouped_calls):\n",
    "    grouped_calls['month'] = grouped_calls['call_date'].dt.month\n",
    "    calls_by_month = grouped_calls.pivot_table(index='month', values='duration', aggfunc=['sum', 'count'])\n",
    "    calls_by_month.columns = ['duration', 'calls_count']\n",
    "    return calls_by_month\n",
    "\n",
    "calls_by_month = calls.groupby('user_id').apply(calls_months)\n",
    "calls_by_month.reset_index(level='month', inplace=True)\n",
    "calls_by_month"
   ]
  },
  {
   "cell_type": "markdown",
   "metadata": {},
   "source": [
    "Таблица выглядет вполне приемлимо. Теперь у нас есть информация о звонках по каждому месяца для каждого пользователя."
   ]
  },
  {
   "cell_type": "markdown",
   "metadata": {},
   "source": [
    "### Кол-во сообщений по месяцам"
   ]
  },
  {
   "cell_type": "markdown",
   "metadata": {},
   "source": [
    "Проделаем те же самые шаги, как и для звонков, единственное отличие будет заключаться в том, что функцией сводной таблицы будет являться только \"подсчет\".\n",
    "\n",
    "Результат функции <b>messages_months</b> записывается в переменную <b>messages_by_month</b>. Далее проделываем те же шаги, что и для звонков. Проверяем результат."
   ]
  },
  {
   "cell_type": "code",
   "execution_count": 24,
   "metadata": {},
   "outputs": [
    {
     "data": {
      "text/html": [
       "<div>\n",
       "<style scoped>\n",
       "    .dataframe tbody tr th:only-of-type {\n",
       "        vertical-align: middle;\n",
       "    }\n",
       "\n",
       "    .dataframe tbody tr th {\n",
       "        vertical-align: top;\n",
       "    }\n",
       "\n",
       "    .dataframe thead th {\n",
       "        text-align: right;\n",
       "    }\n",
       "</style>\n",
       "<table border=\"1\" class=\"dataframe\">\n",
       "  <thead>\n",
       "    <tr style=\"text-align: right;\">\n",
       "      <th></th>\n",
       "      <th>month</th>\n",
       "      <th>messages_count</th>\n",
       "    </tr>\n",
       "    <tr>\n",
       "      <th>user_id</th>\n",
       "      <th></th>\n",
       "      <th></th>\n",
       "    </tr>\n",
       "  </thead>\n",
       "  <tbody>\n",
       "    <tr>\n",
       "      <th>1000</th>\n",
       "      <td>5</td>\n",
       "      <td>22</td>\n",
       "    </tr>\n",
       "    <tr>\n",
       "      <th>1000</th>\n",
       "      <td>6</td>\n",
       "      <td>60</td>\n",
       "    </tr>\n",
       "    <tr>\n",
       "      <th>1000</th>\n",
       "      <td>7</td>\n",
       "      <td>75</td>\n",
       "    </tr>\n",
       "    <tr>\n",
       "      <th>1000</th>\n",
       "      <td>8</td>\n",
       "      <td>81</td>\n",
       "    </tr>\n",
       "    <tr>\n",
       "      <th>1000</th>\n",
       "      <td>9</td>\n",
       "      <td>57</td>\n",
       "    </tr>\n",
       "    <tr>\n",
       "      <th>...</th>\n",
       "      <td>...</td>\n",
       "      <td>...</td>\n",
       "    </tr>\n",
       "    <tr>\n",
       "      <th>1498</th>\n",
       "      <td>10</td>\n",
       "      <td>42</td>\n",
       "    </tr>\n",
       "    <tr>\n",
       "      <th>1499</th>\n",
       "      <td>9</td>\n",
       "      <td>11</td>\n",
       "    </tr>\n",
       "    <tr>\n",
       "      <th>1499</th>\n",
       "      <td>10</td>\n",
       "      <td>48</td>\n",
       "    </tr>\n",
       "    <tr>\n",
       "      <th>1499</th>\n",
       "      <td>11</td>\n",
       "      <td>59</td>\n",
       "    </tr>\n",
       "    <tr>\n",
       "      <th>1499</th>\n",
       "      <td>12</td>\n",
       "      <td>66</td>\n",
       "    </tr>\n",
       "  </tbody>\n",
       "</table>\n",
       "<p>2717 rows × 2 columns</p>\n",
       "</div>"
      ],
      "text/plain": [
       "         month  messages_count\n",
       "user_id                       \n",
       "1000         5              22\n",
       "1000         6              60\n",
       "1000         7              75\n",
       "1000         8              81\n",
       "1000         9              57\n",
       "...        ...             ...\n",
       "1498        10              42\n",
       "1499         9              11\n",
       "1499        10              48\n",
       "1499        11              59\n",
       "1499        12              66\n",
       "\n",
       "[2717 rows x 2 columns]"
      ]
     },
     "execution_count": 24,
     "metadata": {},
     "output_type": "execute_result"
    }
   ],
   "source": [
    "def messages_months(grouped_messages):\n",
    "    grouped_messages['month'] = grouped_messages['message_date'].dt.month\n",
    "    messages_by_month = grouped_messages.pivot_table(index='month', values='message_date', aggfunc='count')\n",
    "    messages_by_month.columns = ['messages_count']\n",
    "    return messages_by_month\n",
    "\n",
    "messages_by_month = messages.groupby('user_id').apply(messages_months)\n",
    "messages_by_month.reset_index(level='month', inplace=True)\n",
    "messages_by_month"
   ]
  },
  {
   "cell_type": "markdown",
   "metadata": {},
   "source": [
    "Теперь у нас есть информация о количестве сообщений по месяцам для каждого пользователя."
   ]
  },
  {
   "cell_type": "markdown",
   "metadata": {},
   "source": [
    "### Объем интернет-трафика по месяцам"
   ]
  },
  {
   "cell_type": "markdown",
   "metadata": {},
   "source": [
    "С интернет-трафиком сделаем все по той же схеме, только функция сводной таблицы уже будет заключаться в суммировании, после этого переводим значения \"МегаБайтов\" в \"ГигаБайты\" и округляем в большую сторону, также изменяем название столбца.\n",
    "\n",
    "Записываем результат функции в переменную <b>internet_by_month</b>. Проверяем результат."
   ]
  },
  {
   "cell_type": "code",
   "execution_count": 25,
   "metadata": {},
   "outputs": [
    {
     "data": {
      "text/html": [
       "<div>\n",
       "<style scoped>\n",
       "    .dataframe tbody tr th:only-of-type {\n",
       "        vertical-align: middle;\n",
       "    }\n",
       "\n",
       "    .dataframe tbody tr th {\n",
       "        vertical-align: top;\n",
       "    }\n",
       "\n",
       "    .dataframe thead th {\n",
       "        text-align: right;\n",
       "    }\n",
       "</style>\n",
       "<table border=\"1\" class=\"dataframe\">\n",
       "  <thead>\n",
       "    <tr style=\"text-align: right;\">\n",
       "      <th></th>\n",
       "      <th>month</th>\n",
       "      <th>gb_used</th>\n",
       "    </tr>\n",
       "    <tr>\n",
       "      <th>user_id</th>\n",
       "      <th></th>\n",
       "      <th></th>\n",
       "    </tr>\n",
       "  </thead>\n",
       "  <tbody>\n",
       "    <tr>\n",
       "      <th>1000</th>\n",
       "      <td>5</td>\n",
       "      <td>3.0</td>\n",
       "    </tr>\n",
       "    <tr>\n",
       "      <th>1000</th>\n",
       "      <td>6</td>\n",
       "      <td>23.0</td>\n",
       "    </tr>\n",
       "    <tr>\n",
       "      <th>1000</th>\n",
       "      <td>7</td>\n",
       "      <td>14.0</td>\n",
       "    </tr>\n",
       "    <tr>\n",
       "      <th>1000</th>\n",
       "      <td>8</td>\n",
       "      <td>14.0</td>\n",
       "    </tr>\n",
       "    <tr>\n",
       "      <th>1000</th>\n",
       "      <td>9</td>\n",
       "      <td>15.0</td>\n",
       "    </tr>\n",
       "    <tr>\n",
       "      <th>...</th>\n",
       "      <td>...</td>\n",
       "      <td>...</td>\n",
       "    </tr>\n",
       "    <tr>\n",
       "      <th>1498</th>\n",
       "      <td>10</td>\n",
       "      <td>21.0</td>\n",
       "    </tr>\n",
       "    <tr>\n",
       "      <th>1499</th>\n",
       "      <td>9</td>\n",
       "      <td>2.0</td>\n",
       "    </tr>\n",
       "    <tr>\n",
       "      <th>1499</th>\n",
       "      <td>10</td>\n",
       "      <td>18.0</td>\n",
       "    </tr>\n",
       "    <tr>\n",
       "      <th>1499</th>\n",
       "      <td>11</td>\n",
       "      <td>18.0</td>\n",
       "    </tr>\n",
       "    <tr>\n",
       "      <th>1499</th>\n",
       "      <td>12</td>\n",
       "      <td>13.0</td>\n",
       "    </tr>\n",
       "  </tbody>\n",
       "</table>\n",
       "<p>3201 rows × 2 columns</p>\n",
       "</div>"
      ],
      "text/plain": [
       "         month  gb_used\n",
       "user_id                \n",
       "1000         5      3.0\n",
       "1000         6     23.0\n",
       "1000         7     14.0\n",
       "1000         8     14.0\n",
       "1000         9     15.0\n",
       "...        ...      ...\n",
       "1498        10     21.0\n",
       "1499         9      2.0\n",
       "1499        10     18.0\n",
       "1499        11     18.0\n",
       "1499        12     13.0\n",
       "\n",
       "[3201 rows x 2 columns]"
      ]
     },
     "execution_count": 25,
     "metadata": {},
     "output_type": "execute_result"
    }
   ],
   "source": [
    "def internet_months(grouped_internet):\n",
    "    grouped_internet['month'] = grouped_internet['session_date'].dt.month\n",
    "    internet_by_month = (grouped_internet.pivot_table(index='month', values='mb_used', aggfunc='sum') / 1024).apply(np.ceil)\n",
    "    internet_by_month.columns = ['gb_used']\n",
    "    return internet_by_month\n",
    "\n",
    "internet_by_month = internet.groupby('user_id').apply(internet_months)\n",
    "internet_by_month.reset_index(level='month', inplace=True)\n",
    "internet_by_month"
   ]
  },
  {
   "cell_type": "markdown",
   "metadata": {},
   "source": [
    "Теперь у нас есть информация об использованном интернет-трафике по каждому месяцу для каждого пользователя."
   ]
  },
  {
   "cell_type": "markdown",
   "metadata": {},
   "source": [
    "### Подсчет помесячной выручки"
   ]
  },
  {
   "cell_type": "markdown",
   "metadata": {},
   "source": [
    "Для подсчета помесячной выручки сделаем следующее: вычтем бесплатный лимит из суммарного количества звонков, сообщений и интернет-трафика; остаток умножим на значение из тарифного плана; прибавим абонентскую плату, соответствующую тарифному плану.\n",
    "\n",
    "<b>Но</b> для начала соединим наши сводные таблицы по столбцам 'user_id' и 'month'. Заметим, что в выборке, оказывается, присутствуют пользователи, которые, например, вовсе не отправляли сообщения или не звонили, или же не использовали интернет-трафик, соответственно, в методе merge() в качестве аргумента <b>how</b> мы укажем способ <b>'outer'</b>, в таком случае в конечном датафрейме будут находиться все пользователи, а для тех, кто не использовал какую-либо услугу, этот показатель будет являться NaN. Запишем общий датафрейм в переменную c_m_i_by_month, где c - calls, m - messages, i - internet, отсортируем датафрейм по индексу. А затем присоединим к ней таблицу 'users' для определения тарифного плана."
   ]
  },
  {
   "cell_type": "code",
   "execution_count": 26,
   "metadata": {},
   "outputs": [
    {
     "data": {
      "text/html": [
       "<div>\n",
       "<style scoped>\n",
       "    .dataframe tbody tr th:only-of-type {\n",
       "        vertical-align: middle;\n",
       "    }\n",
       "\n",
       "    .dataframe tbody tr th {\n",
       "        vertical-align: top;\n",
       "    }\n",
       "\n",
       "    .dataframe thead th {\n",
       "        text-align: right;\n",
       "    }\n",
       "</style>\n",
       "<table border=\"1\" class=\"dataframe\">\n",
       "  <thead>\n",
       "    <tr style=\"text-align: right;\">\n",
       "      <th></th>\n",
       "      <th>month</th>\n",
       "      <th>duration</th>\n",
       "      <th>calls_count</th>\n",
       "      <th>messages_count</th>\n",
       "      <th>gb_used</th>\n",
       "      <th>age</th>\n",
       "      <th>churn_date</th>\n",
       "      <th>city</th>\n",
       "      <th>first_name</th>\n",
       "      <th>last_name</th>\n",
       "      <th>reg_date</th>\n",
       "      <th>tariff</th>\n",
       "    </tr>\n",
       "    <tr>\n",
       "      <th>user_id</th>\n",
       "      <th></th>\n",
       "      <th></th>\n",
       "      <th></th>\n",
       "      <th></th>\n",
       "      <th></th>\n",
       "      <th></th>\n",
       "      <th></th>\n",
       "      <th></th>\n",
       "      <th></th>\n",
       "      <th></th>\n",
       "      <th></th>\n",
       "      <th></th>\n",
       "    </tr>\n",
       "  </thead>\n",
       "  <tbody>\n",
       "    <tr>\n",
       "      <th>1000</th>\n",
       "      <td>5</td>\n",
       "      <td>159.0</td>\n",
       "      <td>17.0</td>\n",
       "      <td>22.0</td>\n",
       "      <td>3.0</td>\n",
       "      <td>52</td>\n",
       "      <td>NaT</td>\n",
       "      <td>Краснодар</td>\n",
       "      <td>Рафаил</td>\n",
       "      <td>Верещагин</td>\n",
       "      <td>2018-05-25</td>\n",
       "      <td>ultra</td>\n",
       "    </tr>\n",
       "    <tr>\n",
       "      <th>1000</th>\n",
       "      <td>6</td>\n",
       "      <td>172.0</td>\n",
       "      <td>28.0</td>\n",
       "      <td>60.0</td>\n",
       "      <td>23.0</td>\n",
       "      <td>52</td>\n",
       "      <td>NaT</td>\n",
       "      <td>Краснодар</td>\n",
       "      <td>Рафаил</td>\n",
       "      <td>Верещагин</td>\n",
       "      <td>2018-05-25</td>\n",
       "      <td>ultra</td>\n",
       "    </tr>\n",
       "    <tr>\n",
       "      <th>1000</th>\n",
       "      <td>7</td>\n",
       "      <td>340.0</td>\n",
       "      <td>41.0</td>\n",
       "      <td>75.0</td>\n",
       "      <td>14.0</td>\n",
       "      <td>52</td>\n",
       "      <td>NaT</td>\n",
       "      <td>Краснодар</td>\n",
       "      <td>Рафаил</td>\n",
       "      <td>Верещагин</td>\n",
       "      <td>2018-05-25</td>\n",
       "      <td>ultra</td>\n",
       "    </tr>\n",
       "    <tr>\n",
       "      <th>1000</th>\n",
       "      <td>8</td>\n",
       "      <td>408.0</td>\n",
       "      <td>42.0</td>\n",
       "      <td>81.0</td>\n",
       "      <td>14.0</td>\n",
       "      <td>52</td>\n",
       "      <td>NaT</td>\n",
       "      <td>Краснодар</td>\n",
       "      <td>Рафаил</td>\n",
       "      <td>Верещагин</td>\n",
       "      <td>2018-05-25</td>\n",
       "      <td>ultra</td>\n",
       "    </tr>\n",
       "    <tr>\n",
       "      <th>1000</th>\n",
       "      <td>9</td>\n",
       "      <td>466.0</td>\n",
       "      <td>46.0</td>\n",
       "      <td>57.0</td>\n",
       "      <td>15.0</td>\n",
       "      <td>52</td>\n",
       "      <td>NaT</td>\n",
       "      <td>Краснодар</td>\n",
       "      <td>Рафаил</td>\n",
       "      <td>Верещагин</td>\n",
       "      <td>2018-05-25</td>\n",
       "      <td>ultra</td>\n",
       "    </tr>\n",
       "    <tr>\n",
       "      <th>...</th>\n",
       "      <td>...</td>\n",
       "      <td>...</td>\n",
       "      <td>...</td>\n",
       "      <td>...</td>\n",
       "      <td>...</td>\n",
       "      <td>...</td>\n",
       "      <td>...</td>\n",
       "      <td>...</td>\n",
       "      <td>...</td>\n",
       "      <td>...</td>\n",
       "      <td>...</td>\n",
       "      <td>...</td>\n",
       "    </tr>\n",
       "    <tr>\n",
       "      <th>1489</th>\n",
       "      <td>8</td>\n",
       "      <td>NaN</td>\n",
       "      <td>NaN</td>\n",
       "      <td>17.0</td>\n",
       "      <td>11.0</td>\n",
       "      <td>35</td>\n",
       "      <td>NaT</td>\n",
       "      <td>Санкт-Петербург</td>\n",
       "      <td>Павел</td>\n",
       "      <td>Гончаров</td>\n",
       "      <td>2018-08-15</td>\n",
       "      <td>smart</td>\n",
       "    </tr>\n",
       "    <tr>\n",
       "      <th>1489</th>\n",
       "      <td>9</td>\n",
       "      <td>NaN</td>\n",
       "      <td>NaN</td>\n",
       "      <td>32.0</td>\n",
       "      <td>17.0</td>\n",
       "      <td>35</td>\n",
       "      <td>NaT</td>\n",
       "      <td>Санкт-Петербург</td>\n",
       "      <td>Павел</td>\n",
       "      <td>Гончаров</td>\n",
       "      <td>2018-08-15</td>\n",
       "      <td>smart</td>\n",
       "    </tr>\n",
       "    <tr>\n",
       "      <th>1489</th>\n",
       "      <td>10</td>\n",
       "      <td>NaN</td>\n",
       "      <td>NaN</td>\n",
       "      <td>21.0</td>\n",
       "      <td>20.0</td>\n",
       "      <td>35</td>\n",
       "      <td>NaT</td>\n",
       "      <td>Санкт-Петербург</td>\n",
       "      <td>Павел</td>\n",
       "      <td>Гончаров</td>\n",
       "      <td>2018-08-15</td>\n",
       "      <td>smart</td>\n",
       "    </tr>\n",
       "    <tr>\n",
       "      <th>1489</th>\n",
       "      <td>11</td>\n",
       "      <td>NaN</td>\n",
       "      <td>NaN</td>\n",
       "      <td>20.0</td>\n",
       "      <td>18.0</td>\n",
       "      <td>35</td>\n",
       "      <td>NaT</td>\n",
       "      <td>Санкт-Петербург</td>\n",
       "      <td>Павел</td>\n",
       "      <td>Гончаров</td>\n",
       "      <td>2018-08-15</td>\n",
       "      <td>smart</td>\n",
       "    </tr>\n",
       "    <tr>\n",
       "      <th>1489</th>\n",
       "      <td>12</td>\n",
       "      <td>NaN</td>\n",
       "      <td>NaN</td>\n",
       "      <td>35.0</td>\n",
       "      <td>17.0</td>\n",
       "      <td>35</td>\n",
       "      <td>NaT</td>\n",
       "      <td>Санкт-Петербург</td>\n",
       "      <td>Павел</td>\n",
       "      <td>Гончаров</td>\n",
       "      <td>2018-08-15</td>\n",
       "      <td>smart</td>\n",
       "    </tr>\n",
       "  </tbody>\n",
       "</table>\n",
       "<p>3214 rows × 12 columns</p>\n",
       "</div>"
      ],
      "text/plain": [
       "         month  duration  calls_count  messages_count  gb_used  age  \\\n",
       "user_id                                                               \n",
       "1000         5     159.0         17.0            22.0      3.0   52   \n",
       "1000         6     172.0         28.0            60.0     23.0   52   \n",
       "1000         7     340.0         41.0            75.0     14.0   52   \n",
       "1000         8     408.0         42.0            81.0     14.0   52   \n",
       "1000         9     466.0         46.0            57.0     15.0   52   \n",
       "...        ...       ...          ...             ...      ...  ...   \n",
       "1489         8       NaN          NaN            17.0     11.0   35   \n",
       "1489         9       NaN          NaN            32.0     17.0   35   \n",
       "1489        10       NaN          NaN            21.0     20.0   35   \n",
       "1489        11       NaN          NaN            20.0     18.0   35   \n",
       "1489        12       NaN          NaN            35.0     17.0   35   \n",
       "\n",
       "        churn_date             city first_name  last_name   reg_date tariff  \n",
       "user_id                                                                      \n",
       "1000           NaT        Краснодар     Рафаил  Верещагин 2018-05-25  ultra  \n",
       "1000           NaT        Краснодар     Рафаил  Верещагин 2018-05-25  ultra  \n",
       "1000           NaT        Краснодар     Рафаил  Верещагин 2018-05-25  ultra  \n",
       "1000           NaT        Краснодар     Рафаил  Верещагин 2018-05-25  ultra  \n",
       "1000           NaT        Краснодар     Рафаил  Верещагин 2018-05-25  ultra  \n",
       "...            ...              ...        ...        ...        ...    ...  \n",
       "1489           NaT  Санкт-Петербург      Павел   Гончаров 2018-08-15  smart  \n",
       "1489           NaT  Санкт-Петербург      Павел   Гончаров 2018-08-15  smart  \n",
       "1489           NaT  Санкт-Петербург      Павел   Гончаров 2018-08-15  smart  \n",
       "1489           NaT  Санкт-Петербург      Павел   Гончаров 2018-08-15  smart  \n",
       "1489           NaT  Санкт-Петербург      Павел   Гончаров 2018-08-15  smart  \n",
       "\n",
       "[3214 rows x 12 columns]"
      ]
     },
     "execution_count": 26,
     "metadata": {},
     "output_type": "execute_result"
    }
   ],
   "source": [
    "c_m_i_by_month = calls_by_month.merge(messages_by_month, on=['user_id', 'month'], how='outer').merge(internet_by_month, on=['user_id', 'month'], how='outer')\n",
    "c_m_i_by_month = c_m_i_by_month.merge(users, on='user_id')\n",
    "c_m_i_by_month = c_m_i_by_month.set_index('user_id')\n",
    "c_m_i_by_month"
   ]
  },
  {
   "cell_type": "markdown",
   "metadata": {},
   "source": [
    "Получаем полноценный датафрейм, осталось лишь отсортировать по индексу."
   ]
  },
  {
   "cell_type": "code",
   "execution_count": 27,
   "metadata": {},
   "outputs": [
    {
     "data": {
      "text/html": [
       "<div>\n",
       "<style scoped>\n",
       "    .dataframe tbody tr th:only-of-type {\n",
       "        vertical-align: middle;\n",
       "    }\n",
       "\n",
       "    .dataframe tbody tr th {\n",
       "        vertical-align: top;\n",
       "    }\n",
       "\n",
       "    .dataframe thead th {\n",
       "        text-align: right;\n",
       "    }\n",
       "</style>\n",
       "<table border=\"1\" class=\"dataframe\">\n",
       "  <thead>\n",
       "    <tr style=\"text-align: right;\">\n",
       "      <th></th>\n",
       "      <th>user_id</th>\n",
       "      <th>month</th>\n",
       "      <th>duration</th>\n",
       "      <th>calls_count</th>\n",
       "      <th>messages_count</th>\n",
       "      <th>gb_used</th>\n",
       "      <th>age</th>\n",
       "      <th>churn_date</th>\n",
       "      <th>city</th>\n",
       "      <th>first_name</th>\n",
       "      <th>last_name</th>\n",
       "      <th>reg_date</th>\n",
       "      <th>tariff</th>\n",
       "    </tr>\n",
       "  </thead>\n",
       "  <tbody>\n",
       "    <tr>\n",
       "      <th>0</th>\n",
       "      <td>1000</td>\n",
       "      <td>5</td>\n",
       "      <td>159.0</td>\n",
       "      <td>17.0</td>\n",
       "      <td>22.0</td>\n",
       "      <td>3.0</td>\n",
       "      <td>52</td>\n",
       "      <td>NaT</td>\n",
       "      <td>Краснодар</td>\n",
       "      <td>Рафаил</td>\n",
       "      <td>Верещагин</td>\n",
       "      <td>2018-05-25</td>\n",
       "      <td>ultra</td>\n",
       "    </tr>\n",
       "    <tr>\n",
       "      <th>1</th>\n",
       "      <td>1000</td>\n",
       "      <td>6</td>\n",
       "      <td>172.0</td>\n",
       "      <td>28.0</td>\n",
       "      <td>60.0</td>\n",
       "      <td>23.0</td>\n",
       "      <td>52</td>\n",
       "      <td>NaT</td>\n",
       "      <td>Краснодар</td>\n",
       "      <td>Рафаил</td>\n",
       "      <td>Верещагин</td>\n",
       "      <td>2018-05-25</td>\n",
       "      <td>ultra</td>\n",
       "    </tr>\n",
       "    <tr>\n",
       "      <th>2</th>\n",
       "      <td>1000</td>\n",
       "      <td>7</td>\n",
       "      <td>340.0</td>\n",
       "      <td>41.0</td>\n",
       "      <td>75.0</td>\n",
       "      <td>14.0</td>\n",
       "      <td>52</td>\n",
       "      <td>NaT</td>\n",
       "      <td>Краснодар</td>\n",
       "      <td>Рафаил</td>\n",
       "      <td>Верещагин</td>\n",
       "      <td>2018-05-25</td>\n",
       "      <td>ultra</td>\n",
       "    </tr>\n",
       "    <tr>\n",
       "      <th>3</th>\n",
       "      <td>1000</td>\n",
       "      <td>8</td>\n",
       "      <td>408.0</td>\n",
       "      <td>42.0</td>\n",
       "      <td>81.0</td>\n",
       "      <td>14.0</td>\n",
       "      <td>52</td>\n",
       "      <td>NaT</td>\n",
       "      <td>Краснодар</td>\n",
       "      <td>Рафаил</td>\n",
       "      <td>Верещагин</td>\n",
       "      <td>2018-05-25</td>\n",
       "      <td>ultra</td>\n",
       "    </tr>\n",
       "    <tr>\n",
       "      <th>4</th>\n",
       "      <td>1000</td>\n",
       "      <td>9</td>\n",
       "      <td>466.0</td>\n",
       "      <td>46.0</td>\n",
       "      <td>57.0</td>\n",
       "      <td>15.0</td>\n",
       "      <td>52</td>\n",
       "      <td>NaT</td>\n",
       "      <td>Краснодар</td>\n",
       "      <td>Рафаил</td>\n",
       "      <td>Верещагин</td>\n",
       "      <td>2018-05-25</td>\n",
       "      <td>ultra</td>\n",
       "    </tr>\n",
       "    <tr>\n",
       "      <th>...</th>\n",
       "      <td>...</td>\n",
       "      <td>...</td>\n",
       "      <td>...</td>\n",
       "      <td>...</td>\n",
       "      <td>...</td>\n",
       "      <td>...</td>\n",
       "      <td>...</td>\n",
       "      <td>...</td>\n",
       "      <td>...</td>\n",
       "      <td>...</td>\n",
       "      <td>...</td>\n",
       "      <td>...</td>\n",
       "      <td>...</td>\n",
       "    </tr>\n",
       "    <tr>\n",
       "      <th>3209</th>\n",
       "      <td>1498</td>\n",
       "      <td>10</td>\n",
       "      <td>247.0</td>\n",
       "      <td>30.0</td>\n",
       "      <td>42.0</td>\n",
       "      <td>21.0</td>\n",
       "      <td>68</td>\n",
       "      <td>2018-10-25</td>\n",
       "      <td>Владикавказ</td>\n",
       "      <td>Всеволод</td>\n",
       "      <td>Акимчин</td>\n",
       "      <td>2018-07-19</td>\n",
       "      <td>smart</td>\n",
       "    </tr>\n",
       "    <tr>\n",
       "      <th>3210</th>\n",
       "      <td>1499</td>\n",
       "      <td>9</td>\n",
       "      <td>70.0</td>\n",
       "      <td>8.0</td>\n",
       "      <td>11.0</td>\n",
       "      <td>2.0</td>\n",
       "      <td>35</td>\n",
       "      <td>NaT</td>\n",
       "      <td>Пермь</td>\n",
       "      <td>Гектор</td>\n",
       "      <td>Корнилов</td>\n",
       "      <td>2018-09-27</td>\n",
       "      <td>smart</td>\n",
       "    </tr>\n",
       "    <tr>\n",
       "      <th>3211</th>\n",
       "      <td>1499</td>\n",
       "      <td>10</td>\n",
       "      <td>449.0</td>\n",
       "      <td>44.0</td>\n",
       "      <td>48.0</td>\n",
       "      <td>18.0</td>\n",
       "      <td>35</td>\n",
       "      <td>NaT</td>\n",
       "      <td>Пермь</td>\n",
       "      <td>Гектор</td>\n",
       "      <td>Корнилов</td>\n",
       "      <td>2018-09-27</td>\n",
       "      <td>smart</td>\n",
       "    </tr>\n",
       "    <tr>\n",
       "      <th>3212</th>\n",
       "      <td>1499</td>\n",
       "      <td>11</td>\n",
       "      <td>612.0</td>\n",
       "      <td>62.0</td>\n",
       "      <td>59.0</td>\n",
       "      <td>18.0</td>\n",
       "      <td>35</td>\n",
       "      <td>NaT</td>\n",
       "      <td>Пермь</td>\n",
       "      <td>Гектор</td>\n",
       "      <td>Корнилов</td>\n",
       "      <td>2018-09-27</td>\n",
       "      <td>smart</td>\n",
       "    </tr>\n",
       "    <tr>\n",
       "      <th>3213</th>\n",
       "      <td>1499</td>\n",
       "      <td>12</td>\n",
       "      <td>492.0</td>\n",
       "      <td>56.0</td>\n",
       "      <td>66.0</td>\n",
       "      <td>13.0</td>\n",
       "      <td>35</td>\n",
       "      <td>NaT</td>\n",
       "      <td>Пермь</td>\n",
       "      <td>Гектор</td>\n",
       "      <td>Корнилов</td>\n",
       "      <td>2018-09-27</td>\n",
       "      <td>smart</td>\n",
       "    </tr>\n",
       "  </tbody>\n",
       "</table>\n",
       "<p>3214 rows × 13 columns</p>\n",
       "</div>"
      ],
      "text/plain": [
       "      user_id  month  duration  calls_count  messages_count  gb_used  age  \\\n",
       "0        1000      5     159.0         17.0            22.0      3.0   52   \n",
       "1        1000      6     172.0         28.0            60.0     23.0   52   \n",
       "2        1000      7     340.0         41.0            75.0     14.0   52   \n",
       "3        1000      8     408.0         42.0            81.0     14.0   52   \n",
       "4        1000      9     466.0         46.0            57.0     15.0   52   \n",
       "...       ...    ...       ...          ...             ...      ...  ...   \n",
       "3209     1498     10     247.0         30.0            42.0     21.0   68   \n",
       "3210     1499      9      70.0          8.0            11.0      2.0   35   \n",
       "3211     1499     10     449.0         44.0            48.0     18.0   35   \n",
       "3212     1499     11     612.0         62.0            59.0     18.0   35   \n",
       "3213     1499     12     492.0         56.0            66.0     13.0   35   \n",
       "\n",
       "     churn_date         city first_name  last_name   reg_date tariff  \n",
       "0           NaT    Краснодар     Рафаил  Верещагин 2018-05-25  ultra  \n",
       "1           NaT    Краснодар     Рафаил  Верещагин 2018-05-25  ultra  \n",
       "2           NaT    Краснодар     Рафаил  Верещагин 2018-05-25  ultra  \n",
       "3           NaT    Краснодар     Рафаил  Верещагин 2018-05-25  ultra  \n",
       "4           NaT    Краснодар     Рафаил  Верещагин 2018-05-25  ultra  \n",
       "...         ...          ...        ...        ...        ...    ...  \n",
       "3209 2018-10-25  Владикавказ   Всеволод    Акимчин 2018-07-19  smart  \n",
       "3210        NaT        Пермь     Гектор   Корнилов 2018-09-27  smart  \n",
       "3211        NaT        Пермь     Гектор   Корнилов 2018-09-27  smart  \n",
       "3212        NaT        Пермь     Гектор   Корнилов 2018-09-27  smart  \n",
       "3213        NaT        Пермь     Гектор   Корнилов 2018-09-27  smart  \n",
       "\n",
       "[3214 rows x 13 columns]"
      ]
     },
     "execution_count": 27,
     "metadata": {},
     "output_type": "execute_result"
    }
   ],
   "source": [
    "c_m_i_by_month = c_m_i_by_month.sort_index(kind='stable')\n",
    "c_m_i_by_month.reset_index(level='user_id', inplace=True)\n",
    "c_m_i_by_month"
   ]
  },
  {
   "cell_type": "code",
   "execution_count": 28,
   "metadata": {},
   "outputs": [
    {
     "data": {
      "text/html": [
       "<div>\n",
       "<style scoped>\n",
       "    .dataframe tbody tr th:only-of-type {\n",
       "        vertical-align: middle;\n",
       "    }\n",
       "\n",
       "    .dataframe tbody tr th {\n",
       "        vertical-align: top;\n",
       "    }\n",
       "\n",
       "    .dataframe thead th {\n",
       "        text-align: right;\n",
       "    }\n",
       "</style>\n",
       "<table border=\"1\" class=\"dataframe\">\n",
       "  <thead>\n",
       "    <tr style=\"text-align: right;\">\n",
       "      <th></th>\n",
       "      <th>messages_included</th>\n",
       "      <th>mb_per_month_included</th>\n",
       "      <th>minutes_included</th>\n",
       "      <th>rub_monthly_fee</th>\n",
       "      <th>rub_per_gb</th>\n",
       "      <th>rub_per_message</th>\n",
       "      <th>rub_per_minute</th>\n",
       "      <th>tariff_name</th>\n",
       "    </tr>\n",
       "  </thead>\n",
       "  <tbody>\n",
       "    <tr>\n",
       "      <th>0</th>\n",
       "      <td>50</td>\n",
       "      <td>15360</td>\n",
       "      <td>500</td>\n",
       "      <td>550</td>\n",
       "      <td>200</td>\n",
       "      <td>3</td>\n",
       "      <td>3</td>\n",
       "      <td>smart</td>\n",
       "    </tr>\n",
       "    <tr>\n",
       "      <th>1</th>\n",
       "      <td>1000</td>\n",
       "      <td>30720</td>\n",
       "      <td>3000</td>\n",
       "      <td>1950</td>\n",
       "      <td>150</td>\n",
       "      <td>1</td>\n",
       "      <td>1</td>\n",
       "      <td>ultra</td>\n",
       "    </tr>\n",
       "  </tbody>\n",
       "</table>\n",
       "</div>"
      ],
      "text/plain": [
       "   messages_included  mb_per_month_included  minutes_included  \\\n",
       "0                 50                  15360               500   \n",
       "1               1000                  30720              3000   \n",
       "\n",
       "   rub_monthly_fee  rub_per_gb  rub_per_message  rub_per_minute tariff_name  \n",
       "0              550         200                3               3       smart  \n",
       "1             1950         150                1               1       ultra  "
      ]
     },
     "execution_count": 28,
     "metadata": {},
     "output_type": "execute_result"
    }
   ],
   "source": [
    "tariffs"
   ]
  },
  {
   "cell_type": "code",
   "execution_count": 29,
   "metadata": {},
   "outputs": [
    {
     "name": "stderr",
     "output_type": "stream",
     "text": [
      "100%|██████████| 3214/3214 [00:07<00:00, 425.01it/s]\n"
     ]
    }
   ],
   "source": [
    "from tqdm import tqdm\n",
    "\n",
    "for row in tqdm(range(c_m_i_by_month.shape[0])):\n",
    "    grouped_tariff = c_m_i_by_month.loc[row, :]\n",
    "    if c_m_i_by_month.loc[row, 'tariff'] == 'ultra':\n",
    "        tariff = tariffs[tariffs['tariff_name'] == 'ultra']\n",
    "    else:\n",
    "        tariff = tariffs[tariffs['tariff_name'] == 'smart']\n",
    "    over_minutes = c_m_i_by_month.loc[row, 'duration'] - int(tariff['minutes_included'])\n",
    "    if np.isnan(over_minutes):\n",
    "        c_m_i_by_month.loc[row, 'rubs_for_minutes'] = 0\n",
    "    elif int(over_minutes) < 0:\n",
    "        c_m_i_by_month.loc[row, 'rubs_for_minutes'] = 0\n",
    "    else:\n",
    "        c_m_i_by_month.loc[row, 'rubs_for_minutes'] = int(over_minutes) * int(tariff['rub_per_minute'])\n",
    "    over_messages = c_m_i_by_month.loc[row, 'messages_count'] - int(tariff['messages_included'])\n",
    "    if np.isnan(over_messages):\n",
    "        c_m_i_by_month.loc[row, 'rubs_for_messages'] = 0\n",
    "    elif int(over_messages) < 0:\n",
    "        c_m_i_by_month.loc[row, 'rubs_for_messages'] = 0\n",
    "    else:\n",
    "        c_m_i_by_month.loc[row, 'rubs_for_messages'] = int(over_messages) * int(tariff['rub_per_message'])\n",
    "    over_gbs = c_m_i_by_month.loc[row, 'gb_used'] - (int(tariff['mb_per_month_included']) / 1024)\n",
    "    if np.isnan(over_gbs):\n",
    "        c_m_i_by_month.loc[row, 'rubs_for_gbs'] = 0\n",
    "    elif int(over_gbs) < 0:\n",
    "        c_m_i_by_month.loc[row, 'rubs_for_gbs'] = 0\n",
    "    else:\n",
    "        c_m_i_by_month.loc[row, 'rubs_for_gbs'] = int(over_gbs) * int(tariff['rub_per_gb'])\n",
    "    overall_profit = c_m_i_by_month.loc[row, 'rubs_for_minutes'] + c_m_i_by_month.loc[row, 'rubs_for_messages'] + c_m_i_by_month.loc[row, 'rubs_for_gbs'] + int(tariff['rub_monthly_fee'])\n",
    "    c_m_i_by_month.loc[row, 'overall_profit'] = overall_profit\n",
    "    "
   ]
  },
  {
   "cell_type": "markdown",
   "metadata": {},
   "source": [
    "Обновляем датафрейм и проверяем результат."
   ]
  },
  {
   "cell_type": "code",
   "execution_count": 30,
   "metadata": {},
   "outputs": [
    {
     "data": {
      "text/html": [
       "<div>\n",
       "<style scoped>\n",
       "    .dataframe tbody tr th:only-of-type {\n",
       "        vertical-align: middle;\n",
       "    }\n",
       "\n",
       "    .dataframe tbody tr th {\n",
       "        vertical-align: top;\n",
       "    }\n",
       "\n",
       "    .dataframe thead th {\n",
       "        text-align: right;\n",
       "    }\n",
       "</style>\n",
       "<table border=\"1\" class=\"dataframe\">\n",
       "  <thead>\n",
       "    <tr style=\"text-align: right;\">\n",
       "      <th></th>\n",
       "      <th>user_id</th>\n",
       "      <th>month</th>\n",
       "      <th>duration</th>\n",
       "      <th>calls_count</th>\n",
       "      <th>messages_count</th>\n",
       "      <th>gb_used</th>\n",
       "      <th>age</th>\n",
       "      <th>churn_date</th>\n",
       "      <th>city</th>\n",
       "      <th>first_name</th>\n",
       "      <th>last_name</th>\n",
       "      <th>reg_date</th>\n",
       "      <th>tariff</th>\n",
       "      <th>rubs_for_minutes</th>\n",
       "      <th>rubs_for_messages</th>\n",
       "      <th>rubs_for_gbs</th>\n",
       "      <th>overall_profit</th>\n",
       "    </tr>\n",
       "  </thead>\n",
       "  <tbody>\n",
       "    <tr>\n",
       "      <th>0</th>\n",
       "      <td>1000</td>\n",
       "      <td>5</td>\n",
       "      <td>159.0</td>\n",
       "      <td>17.0</td>\n",
       "      <td>22.0</td>\n",
       "      <td>3.0</td>\n",
       "      <td>52</td>\n",
       "      <td>NaT</td>\n",
       "      <td>Краснодар</td>\n",
       "      <td>Рафаил</td>\n",
       "      <td>Верещагин</td>\n",
       "      <td>2018-05-25</td>\n",
       "      <td>ultra</td>\n",
       "      <td>0.0</td>\n",
       "      <td>0.0</td>\n",
       "      <td>0.0</td>\n",
       "      <td>1950.0</td>\n",
       "    </tr>\n",
       "    <tr>\n",
       "      <th>1</th>\n",
       "      <td>1000</td>\n",
       "      <td>6</td>\n",
       "      <td>172.0</td>\n",
       "      <td>28.0</td>\n",
       "      <td>60.0</td>\n",
       "      <td>23.0</td>\n",
       "      <td>52</td>\n",
       "      <td>NaT</td>\n",
       "      <td>Краснодар</td>\n",
       "      <td>Рафаил</td>\n",
       "      <td>Верещагин</td>\n",
       "      <td>2018-05-25</td>\n",
       "      <td>ultra</td>\n",
       "      <td>0.0</td>\n",
       "      <td>0.0</td>\n",
       "      <td>0.0</td>\n",
       "      <td>1950.0</td>\n",
       "    </tr>\n",
       "    <tr>\n",
       "      <th>2</th>\n",
       "      <td>1000</td>\n",
       "      <td>7</td>\n",
       "      <td>340.0</td>\n",
       "      <td>41.0</td>\n",
       "      <td>75.0</td>\n",
       "      <td>14.0</td>\n",
       "      <td>52</td>\n",
       "      <td>NaT</td>\n",
       "      <td>Краснодар</td>\n",
       "      <td>Рафаил</td>\n",
       "      <td>Верещагин</td>\n",
       "      <td>2018-05-25</td>\n",
       "      <td>ultra</td>\n",
       "      <td>0.0</td>\n",
       "      <td>0.0</td>\n",
       "      <td>0.0</td>\n",
       "      <td>1950.0</td>\n",
       "    </tr>\n",
       "    <tr>\n",
       "      <th>3</th>\n",
       "      <td>1000</td>\n",
       "      <td>8</td>\n",
       "      <td>408.0</td>\n",
       "      <td>42.0</td>\n",
       "      <td>81.0</td>\n",
       "      <td>14.0</td>\n",
       "      <td>52</td>\n",
       "      <td>NaT</td>\n",
       "      <td>Краснодар</td>\n",
       "      <td>Рафаил</td>\n",
       "      <td>Верещагин</td>\n",
       "      <td>2018-05-25</td>\n",
       "      <td>ultra</td>\n",
       "      <td>0.0</td>\n",
       "      <td>0.0</td>\n",
       "      <td>0.0</td>\n",
       "      <td>1950.0</td>\n",
       "    </tr>\n",
       "    <tr>\n",
       "      <th>4</th>\n",
       "      <td>1000</td>\n",
       "      <td>9</td>\n",
       "      <td>466.0</td>\n",
       "      <td>46.0</td>\n",
       "      <td>57.0</td>\n",
       "      <td>15.0</td>\n",
       "      <td>52</td>\n",
       "      <td>NaT</td>\n",
       "      <td>Краснодар</td>\n",
       "      <td>Рафаил</td>\n",
       "      <td>Верещагин</td>\n",
       "      <td>2018-05-25</td>\n",
       "      <td>ultra</td>\n",
       "      <td>0.0</td>\n",
       "      <td>0.0</td>\n",
       "      <td>0.0</td>\n",
       "      <td>1950.0</td>\n",
       "    </tr>\n",
       "  </tbody>\n",
       "</table>\n",
       "</div>"
      ],
      "text/plain": [
       "   user_id  month  duration  calls_count  messages_count  gb_used  age  \\\n",
       "0     1000      5     159.0         17.0            22.0      3.0   52   \n",
       "1     1000      6     172.0         28.0            60.0     23.0   52   \n",
       "2     1000      7     340.0         41.0            75.0     14.0   52   \n",
       "3     1000      8     408.0         42.0            81.0     14.0   52   \n",
       "4     1000      9     466.0         46.0            57.0     15.0   52   \n",
       "\n",
       "  churn_date       city first_name  last_name   reg_date tariff  \\\n",
       "0        NaT  Краснодар     Рафаил  Верещагин 2018-05-25  ultra   \n",
       "1        NaT  Краснодар     Рафаил  Верещагин 2018-05-25  ultra   \n",
       "2        NaT  Краснодар     Рафаил  Верещагин 2018-05-25  ultra   \n",
       "3        NaT  Краснодар     Рафаил  Верещагин 2018-05-25  ultra   \n",
       "4        NaT  Краснодар     Рафаил  Верещагин 2018-05-25  ultra   \n",
       "\n",
       "   rubs_for_minutes  rubs_for_messages  rubs_for_gbs  overall_profit  \n",
       "0               0.0                0.0           0.0          1950.0  \n",
       "1               0.0                0.0           0.0          1950.0  \n",
       "2               0.0                0.0           0.0          1950.0  \n",
       "3               0.0                0.0           0.0          1950.0  \n",
       "4               0.0                0.0           0.0          1950.0  "
      ]
     },
     "execution_count": 30,
     "metadata": {},
     "output_type": "execute_result"
    }
   ],
   "source": [
    "c_m_i_by_month.head()"
   ]
  },
  {
   "cell_type": "markdown",
   "metadata": {},
   "source": [
    "Мы видим обновленный датафрейм с подсчитанной помесячной выручкой."
   ]
  },
  {
   "cell_type": "code",
   "execution_count": 31,
   "metadata": {},
   "outputs": [
    {
     "data": {
      "image/png": "[encoded data removed]",
      "text/plain": [
       "<Figure size 432x288 with 1 Axes>"
      ]
     },
     "metadata": {
      "needs_background": "light"
     },
     "output_type": "display_data"
    }
   ],
   "source": [
    "c_m_i_by_month['overall_profit'].plot(kind='hist', title='Выручка с пользователей всех тарифов', grid=True);"
   ]
  },
  {
   "cell_type": "markdown",
   "metadata": {},
   "source": [
    "Как мы видим на гистограмме, большинство пользователей платят стандартный ежемесячный платеж по тарифам 500 и 1950 соответственно. Но есть и заядлые пользователи, которые умудряются тратить до 7000 рублей на сотовую связь."
   ]
  },
  {
   "cell_type": "markdown",
   "metadata": {},
   "source": [
    "## Анализ данных"
   ]
  },
  {
   "cell_type": "markdown",
   "metadata": {},
   "source": [
    "Опишем поведение клиентов оператора, исходя из выборки. Сколько минут разговора, сколько сообщений и какой объём интернет-трафика требуется пользователям каждого тарифа в месяц? Посчитаем среднее количество, дисперсию и стандартное отклонение. Построим гистограммы. Опишем распределения."
   ]
  },
  {
   "cell_type": "code",
   "execution_count": 32,
   "metadata": {},
   "outputs": [],
   "source": [
    "smart_clients = c_m_i_by_month.query('tariff == \"smart\"')\n",
    "ultra_clients = c_m_i_by_month.query('tariff == \"ultra\"')"
   ]
  },
  {
   "cell_type": "code",
   "execution_count": 33,
   "metadata": {},
   "outputs": [
    {
     "data": {
      "text/html": [
       "<style type=\"text/css\">\n",
       "</style>\n",
       "<table id=\"T_7cbad_\">\n",
       "  <thead>\n",
       "    <tr>\n",
       "      <th class=\"blank\" >&nbsp;</th>\n",
       "      <th class=\"index_name level0\" >tariff</th>\n",
       "      <th class=\"col_heading level0 col0\" >smart</th>\n",
       "      <th class=\"col_heading level0 col1\" >ultra</th>\n",
       "    </tr>\n",
       "  </thead>\n",
       "  <tbody>\n",
       "    <tr>\n",
       "      <th id=\"T_7cbad_level0_row0\" class=\"row_heading level0 row0\" rowspan=\"3\">mean</th>\n",
       "      <th id=\"T_7cbad_level1_row0\" class=\"row_heading level1 row0\" >duration</th>\n",
       "      <td id=\"T_7cbad_row0_col0\" class=\"data row0 col0\" >419.44</td>\n",
       "      <td id=\"T_7cbad_row0_col1\" class=\"data row0 col1\" >547.76</td>\n",
       "    </tr>\n",
       "    <tr>\n",
       "      <th id=\"T_7cbad_level1_row1\" class=\"row_heading level1 row1\" >gb_used</th>\n",
       "      <td id=\"T_7cbad_row1_col0\" class=\"data row1 col0\" >16.34</td>\n",
       "      <td id=\"T_7cbad_row1_col1\" class=\"data row1 col1\" >19.71</td>\n",
       "    </tr>\n",
       "    <tr>\n",
       "      <th id=\"T_7cbad_level1_row2\" class=\"row_heading level1 row2\" >messages_count</th>\n",
       "      <td id=\"T_7cbad_row2_col0\" class=\"data row2 col0\" >38.72</td>\n",
       "      <td id=\"T_7cbad_row2_col1\" class=\"data row2 col1\" >61.16</td>\n",
       "    </tr>\n",
       "    <tr>\n",
       "      <th id=\"T_7cbad_level0_row3\" class=\"row_heading level0 row3\" rowspan=\"3\">std</th>\n",
       "      <th id=\"T_7cbad_level1_row3\" class=\"row_heading level1 row3\" >duration</th>\n",
       "      <td id=\"T_7cbad_row3_col0\" class=\"data row3 col0\" >188.99</td>\n",
       "      <td id=\"T_7cbad_row3_col1\" class=\"data row3 col1\" >305.51</td>\n",
       "    </tr>\n",
       "    <tr>\n",
       "      <th id=\"T_7cbad_level1_row4\" class=\"row_heading level1 row4\" >gb_used</th>\n",
       "      <td id=\"T_7cbad_row4_col0\" class=\"data row4 col0\" >5.73</td>\n",
       "      <td id=\"T_7cbad_row4_col1\" class=\"data row4 col1\" >9.69</td>\n",
       "    </tr>\n",
       "    <tr>\n",
       "      <th id=\"T_7cbad_level1_row5\" class=\"row_heading level1 row5\" >messages_count</th>\n",
       "      <td id=\"T_7cbad_row5_col0\" class=\"data row5 col0\" >26.79</td>\n",
       "      <td id=\"T_7cbad_row5_col1\" class=\"data row5 col1\" >45.93</td>\n",
       "    </tr>\n",
       "    <tr>\n",
       "      <th id=\"T_7cbad_level0_row6\" class=\"row_heading level0 row6\" rowspan=\"3\">var</th>\n",
       "      <th id=\"T_7cbad_level1_row6\" class=\"row_heading level1 row6\" >duration</th>\n",
       "      <td id=\"T_7cbad_row6_col0\" class=\"data row6 col0\" >35718.13</td>\n",
       "      <td id=\"T_7cbad_row6_col1\" class=\"data row6 col1\" >93338.43</td>\n",
       "    </tr>\n",
       "    <tr>\n",
       "      <th id=\"T_7cbad_level1_row7\" class=\"row_heading level1 row7\" >gb_used</th>\n",
       "      <td id=\"T_7cbad_row7_col0\" class=\"data row7 col0\" >32.82</td>\n",
       "      <td id=\"T_7cbad_row7_col1\" class=\"data row7 col1\" >93.84</td>\n",
       "    </tr>\n",
       "    <tr>\n",
       "      <th id=\"T_7cbad_level1_row8\" class=\"row_heading level1 row8\" >messages_count</th>\n",
       "      <td id=\"T_7cbad_row8_col0\" class=\"data row8 col0\" >717.59</td>\n",
       "      <td id=\"T_7cbad_row8_col1\" class=\"data row8 col1\" >2109.66</td>\n",
       "    </tr>\n",
       "  </tbody>\n",
       "</table>\n"
      ],
      "text/plain": [
       "<pandas.io.formats.style.Styler at 0x20d99eb6808>"
      ]
     },
     "execution_count": 33,
     "metadata": {},
     "output_type": "execute_result"
    }
   ],
   "source": [
    "c_m_i_by_month.pivot_table(index='tariff',  \n",
    "                 values=['duration', 'gb_used', 'messages_count'], \n",
    "                 aggfunc=['mean', 'std', 'var']).T.style.format('{:.2f}')"
   ]
  },
  {
   "cell_type": "code",
   "execution_count": 34,
   "metadata": {},
   "outputs": [
    {
     "data": {
      "image/png": "[encoded data removed]",
      "text/plain": [
       "<Figure size 1080x360 with 2 Axes>"
      ]
     },
     "metadata": {
      "needs_background": "light"
     },
     "output_type": "display_data"
    }
   ],
   "source": [
    "import matplotlib.pyplot as plt\n",
    "\n",
    "fig, axes = plt.subplots(1,2, figsize=(15,5))\n",
    "\n",
    "smart_clients['duration'].plot(kind='hist', title='Гистограмма частот длительности звонков (тариф \"smart\")', grid=True, ax=axes[0]);\n",
    "ultra_clients['duration'].plot(kind='hist', title='Гистограмма частот длительности звонков (тариф \"ultra\")', grid=True, ax=axes[1]);"
   ]
  },
  {
   "cell_type": "markdown",
   "metadata": {},
   "source": [
    "<b>smart</b>\n",
    "\n",
    "Данные близятся к нормальному распределению, но все равно, датасет является <b>отрицательно скошенным</b>. В целом, можно сказать, что большинство пользователей тарифа 'smart' укладываются в отметку в 500 бесплатных минут, включенных в стоимость тарифа."
   ]
  },
  {
   "cell_type": "markdown",
   "metadata": {},
   "source": [
    "<b>ultra</b>\n",
    "\n",
    "Данные близятся к нормальному распределению, но все равно, датасет является <b>отрицательно скошенным</b>. В случае с тарифом 'ultra', где в стоимость тарифа включено 3000 минут бесплатного разговора в месяц, <b>никто из его пользователей не проговорил по телефону сверх лимита.</b>"
   ]
  },
  {
   "cell_type": "code",
   "execution_count": 35,
   "metadata": {},
   "outputs": [
    {
     "data": {
      "image/png": "[encoded data removed]",
      "text/plain": [
       "<Figure size 1080x360 with 2 Axes>"
      ]
     },
     "metadata": {
      "needs_background": "light"
     },
     "output_type": "display_data"
    }
   ],
   "source": [
    "fig, axes = plt.subplots(1,2, figsize=(15,5))\n",
    "\n",
    "smart_clients['messages_count'].plot(bins=[0, 5, 10, 20, 30, 40, 50, 60, 70, 80, 90, 100, 110, 120, 130, 140], kind='hist', title='Гистограмма количества сообщений (тариф \"smart\")', grid=True, ax=axes[0]);\n",
    "ultra_clients['messages_count'].plot(bins=[0, 15, 30, 50, 75, 100, 150, 200], kind='hist', title='Гистограмма количества сообщений (тариф \"ultra\")', grid=True, ax=axes[1]);"
   ]
  },
  {
   "cell_type": "markdown",
   "metadata": {},
   "source": [
    "<b>smart</b>\n",
    "\n",
    "Датасет с <b>отрицательной скошенностью.</b> Опять же, большинство пользователей укладываются в лимит сообщений своего тарифа (50), после чего мы видим спад количества пользователей, которые отправляют больше 50 сообщений, но такие пользователи все равно есть, они как раз и приносят дополнительную прибыль оператору."
   ]
  },
  {
   "cell_type": "markdown",
   "metadata": {},
   "source": [
    "<b>ultra</b>\n",
    "\n",
    "В случае с тарифом \"ultra\" активность пользователей в плане сообщений увеличилась, клиенты данного тарифа отправляют в среднем больше сообщений. Можно заметить, что все клиенты тарифа \"ultra\" укладываются в лимит сообщений (1000 сообщений) и не переплачивают за них."
   ]
  },
  {
   "cell_type": "code",
   "execution_count": 36,
   "metadata": {},
   "outputs": [
    {
     "data": {
      "image/png": "[encoded data removed]",
      "text/plain": [
       "<Figure size 1080x360 with 2 Axes>"
      ]
     },
     "metadata": {
      "needs_background": "light"
     },
     "output_type": "display_data"
    }
   ],
   "source": [
    "fig, axes = plt.subplots(1,2, figsize=(15,5))\n",
    "\n",
    "smart_clients['gb_used'].plot(kind='hist', title='Гистограмма интернет-трафика (тариф \"smart\")', grid=True, ax=axes[0]);\n",
    "ultra_clients['gb_used'].plot(kind='hist', title='Гистограмма интернет-трафика (тариф \"ultra\")', grid=True, ax=axes[1]);"
   ]
  },
  {
   "cell_type": "markdown",
   "metadata": {},
   "source": [
    "<b>smart</b>\n",
    "\n",
    "Данные по интернет трафику практически распределены <b>нормально</b>, но все равно имеют <b>положительную скошенность</b>. По данной гистограмме видно, что заметная часть пользователей этого тарифа превышают лимит в 15 ГБ и используют интернет-трафик сверх лимита, доплачивая за это оператору."
   ]
  },
  {
   "cell_type": "markdown",
   "metadata": {},
   "source": [
    "<b>ultra</b>\n",
    "\n",
    "Распределение <b>не является нормальным</b>. По данной гистограмме мы можем наблюдать, что некоторые пользователи превышают лимит по интернет трафику (30 ГБ), соответственно, переплачивают за него оператору. Но большинство пользователей укладываются в этот лимит, соответственно, оператору не платят за дополнительный трафик."
   ]
  },
  {
   "cell_type": "markdown",
   "metadata": {},
   "source": [
    "В целом, можно сказать, что клиенты тарифа \"ultra\" в основном укладываются в лимиты по всем услугам, в то время как клиенты тарифа \"smart\" используют минуты, сообщения, интернет-трафик сверх лимита, за что, соотвественно, доплачивают оператору."
   ]
  },
  {
   "cell_type": "markdown",
   "metadata": {},
   "source": [
    "## Проверка гипотез"
   ]
  },
  {
   "cell_type": "markdown",
   "metadata": {},
   "source": [
    "Так как основная цель проекта - анализ данных с целью выявления более выгодного тарифа, зададим нулевую гипотезу, которая звучит следующим образом: <b>средняя выручка пользователей тарифов \"Ультра\" и \"Смарт\" не различается (равны)</b>\n",
    "    \n",
    "Гипотезы:\n",
    "- H0 - средняя выручка пользователей тарифов \"Ультра\" и \"Смарт\" не различается (равны)\n",
    "- H1 - средняя выручка пользователей тарифов \"Ультра\" и \"Смарт\" различается\n",
    "\n",
    "Для проверки гипотез используем t-критерий Стьюдента, так как он чаще всего используется для проверки гипотез о равности средних значений в двух выборках. Пороговое значение уровня значимости зададим 0.05"
   ]
  },
  {
   "cell_type": "code",
   "execution_count": 37,
   "metadata": {},
   "outputs": [
    {
     "name": "stdout",
     "output_type": "stream",
     "text": [
      "p-значение: 1.4229814360764067e-160\n",
      "Отвергаем нулевую гипотезу\n"
     ]
    }
   ],
   "source": [
    "alpha = 0.05\n",
    "\n",
    "result = st.ttest_ind(smart_clients['overall_profit'], ultra_clients['overall_profit'])\n",
    "\n",
    "print('p-значение: {}'.format(result.pvalue))\n",
    "\n",
    "if result.pvalue < alpha:\n",
    "    print('Отвергаем нулевую гипотезу')\n",
    "else:\n",
    "    print('Отвергнуть нулевую гипотезу не удалось')"
   ]
  },
  {
   "cell_type": "markdown",
   "metadata": {},
   "source": [
    "Уровень значимости получился: 1.42 * 10 ** -160\n",
    "\n",
    "Соответственно, отвергаем нулевую гипотезу. <b>Можем предположить, что гипотеза H1 верна.</b>"
   ]
  },
  {
   "cell_type": "markdown",
   "metadata": {},
   "source": [
    "<b>Следующие гипотезы для проверки:</b>\n",
    "\n",
    "- H0 - средняя выручка пользователей тарифа \"Смарт\" больше, чем от пользователей тарифа \"Ультра\"\n",
    "- H1 - средняя выручка пользователей тарифа \"Смарт\" меньше, чем от пользователей тарифа \"Ультра\"\n",
    "\n",
    "Проверим эту гипотезу с помощью <b>st.ttest_1samp</b>. Интересующее нас значение будет среднее значение выручки пользователей тарифа \"Ультра\". Пороговое значение уровня значимости зададим 0.05."
   ]
  },
  {
   "cell_type": "code",
   "execution_count": 38,
   "metadata": {},
   "outputs": [
    {
     "name": "stdout",
     "output_type": "stream",
     "text": [
      "p-значение: 3.363519965e-315\n",
      "Отвергаем нулевую гипотезу\n"
     ]
    }
   ],
   "source": [
    "alpha = 0.05\n",
    "\n",
    "interested_value = ultra_clients['overall_profit'].mean()\n",
    "\n",
    "result = st.ttest_1samp(smart_clients['overall_profit'], interested_value)\n",
    "\n",
    "print('p-значение: {}'.format(result.pvalue))\n",
    "\n",
    "if result.pvalue < alpha:\n",
    "    print('Отвергаем нулевую гипотезу')\n",
    "else:\n",
    "    print('Отвергнуть нулевую гипотезу не удалось')"
   ]
  },
  {
   "cell_type": "markdown",
   "metadata": {},
   "source": [
    "Уровень значимости получился: 3.36 * 10 ** -315\n",
    "\n",
    "Соответственно, отвергаем нулевую гипотезу. <b>Можем предположить, что гипотеза H1 верна</b> и, действительно, средняя выручка от пользователей тарифа \"Смарт\" меньше, чем от пользователей тарифа \"Ультра\"."
   ]
  },
  {
   "cell_type": "markdown",
   "metadata": {},
   "source": [
    "<b>Следующие гипотезы для проверки:</b>\n",
    "\n",
    "- H0 - средняя выручка пользователей из Москвы <b>не отличается</b> от выручки пользователей из других регионов\n",
    "- H1 - средняя выручка пользователей из Москвы <b>отличается</b> от выручки пользователей из других регионов\n",
    "\n",
    "Для проверки гипотез используем t-критерий Стьюдента, так как он чаще всего используется для проверки гипотез о равности средних значений в двух выборках. Пороговое значение уровня значимости зададим 0.05. Для начала создадим выборки пользователей из Москвы и из других регионов."
   ]
  },
  {
   "cell_type": "code",
   "execution_count": 39,
   "metadata": {},
   "outputs": [
    {
     "name": "stdout",
     "output_type": "stream",
     "text": [
      "p-значение: 0.5440152911670224\n",
      "Отвергнуть нулевую гипотезу не удалось\n"
     ]
    }
   ],
   "source": [
    "moscow_users = c_m_i_by_month.query('city == \"Москва\"')\n",
    "other_regions_users = c_m_i_by_month.query('city != \"Москва\"')\n",
    "\n",
    "alpha = 0.05\n",
    "\n",
    "result = st.ttest_ind(moscow_users['overall_profit'], other_regions_users['overall_profit'])\n",
    "\n",
    "print('p-значение: {}'.format(result.pvalue))\n",
    "\n",
    "if result.pvalue < alpha:\n",
    "    print('Отвергаем нулевую гипотезу')\n",
    "else:\n",
    "    print('Отвергнуть нулевую гипотезу не удалось')"
   ]
  },
  {
   "cell_type": "markdown",
   "metadata": {},
   "source": [
    "Уровень значимости получился: 0.54. <b>Это дает основания предполагать, что нулевая (H0) гипотеза верна.</b> Вполне вероятно, что пользователи приносят одинаковую выручку что в Москве, что в остальных регионах."
   ]
  },
  {
   "cell_type": "markdown",
   "metadata": {},
   "source": [
    "## Общий вывод"
   ]
  },
  {
   "cell_type": "markdown",
   "metadata": {},
   "source": [
    "<b>1.</b> Изначально, в данных не нашлось дубликатов и пропущенные значения имелись лишь в одном столбце 'churn_date' в датасете 'users'. Этот параметр отображает дату прекращения использования тарифа, если значение пропущено, значит данный клиент все еще пользовался тарифом на момент выгрузки данных.\n",
    "\n",
    "-------------------------------------------------------------------------------------------------------------------------------\n",
    "\n",
    "<b>2.</b> Далее, для того, чтобы отслеживать данные с точностью до месяцев, в таблицах calls, internet, messages изменили тип данных в столбцах call_date, session_date, message_date соответственно на тип 'datetime64'. Также в таблице users изменили тип данных столбцов churn_date, reg_date на тип datetime64. В дальнейшем это позволило нам создать столбец 'month' для каждой таблицы.\n",
    "\n",
    "-------------------------------------------------------------------------------------------------------------------------------\n",
    "\n",
    "<b>3.</b> При поиске ошибок в данных мы наткнулись на нулевые значения в таблице \"calls\" в столце \"duration\" - продолжительность звонка, вероятнее всего это пропущенные звонки, клиент просто не смог дозвониться. Произвели удаление таких данных, так как они изменяют показатели \"средней продолжительности разговора\" и \"медианы продолжительности разговора\", а также изменяют количество звонков в целом, что могло отразиться на результатах анализа данных. В данной таблице мы наблюдали \"нулевые\" сессии - потраченный интернет трафик составлял 0.0. Я считаю, что в действительности такое невозможно, ведь, сессия записывается, когда пользователь запускает какое-либо приложение, использующее интернет. Как правило, такие приложения начинают использовать трафик сразу же после запуска, соответственно, пускай хоть это будет 1 Кбайт, но он будет использован. Использованный трафик не может быть равен 0. Соответственно, посчитал правильным удалить сессии, в которых было использовано 0 инетрнет трафика, ведь такие еще и искажают дальнейшие значения, полученные с помощью анализа данных.\n",
    "\n",
    "-------------------------------------------------------------------------------------------------------------------------------\n",
    "\n",
    "<b>4.</b> Подсчет результатов для каждого пользователя производился с помощью отдельных написанных функций, которые в свою очередь возвращали обновленные датафреймы с результатами по каждой услуге и общей выручки.\n",
    "\n",
    "-------------------------------------------------------------------------------------------------------------------------------\n",
    "\n",
    "<b>5.</b> Анализ таких значений как среднее количество, дисперсия и стандартное отклонение для каждой услуги (минуты, сообщения, интернет-трафик) показал в основном то, что пользователи тарифа \"Ультра\", как правило, не превышают тарифные лимиты по всем услугам, в то время как пользователи тарифа \"Смарт\" иногда превышают лимиты, за что переплачивают оператору.\n",
    "\n",
    "-------------------------------------------------------------------------------------------------------------------------------\n",
    "\n",
    "<b>6.</b> Проверка гипотез показала, что:\n",
    "   - есть основания предполагать, что средняя выручка пользователей тарифов \"Ультра\" и \"Смарт\" различается\n",
    "   - есть основания предполагать, что средняя выручка пользователей тарифа \"Смарт\" меньше, чем от пользователей тарифа \"Ультра\"\n",
    "   - есть основания предполагать, что средняя выручка пользователей из Москвы не отличается от выручки пользователей из других регионов\n",
    "   \n",
    "-------------------------------------------------------------------------------------------------------------------------------\n",
    "   \n",
    "<b>Общий вывод:</b>\n",
    "\n",
    "Тариф \"Ультра\" является более выгодным даже не смотря на то, что пользователи этого тарифа чаще всего не превышают установленные лимиты по всем услугам. Также выручка не зависит от того, проживает клиент в Москве или в другом регионе."
   ]
  }
 ],
 "metadata": {
  "ExecuteTimeLog": [
   {
    "duration": 58,
    "start_time": "2021-07-21T07:04:52.329Z"
   },
   {
    "duration": 1331,
    "start_time": "2021-07-21T07:04:57.987Z"
   },
   {
    "duration": 21,
    "start_time": "2021-07-21T07:05:13.200Z"
   },
   {
    "duration": 17,
    "start_time": "2021-07-21T07:05:19.206Z"
   },
   {
    "duration": 16,
    "start_time": "2021-07-21T07:05:26.052Z"
   },
   {
    "duration": 7,
    "start_time": "2021-07-21T07:05:32.327Z"
   },
   {
    "duration": 7,
    "start_time": "2021-07-21T07:05:39.257Z"
   },
   {
    "duration": 440,
    "start_time": "2021-07-21T07:10:14.014Z"
   },
   {
    "duration": 198,
    "start_time": "2021-07-21T07:10:24.834Z"
   },
   {
    "duration": 336,
    "start_time": "2021-07-21T09:17:21.215Z"
   },
   {
    "duration": 1630,
    "start_time": "2021-07-21T09:17:26.240Z"
   },
   {
    "duration": 26,
    "start_time": "2021-07-21T09:17:27.872Z"
   },
   {
    "duration": 23,
    "start_time": "2021-07-21T09:17:27.901Z"
   },
   {
    "duration": 30,
    "start_time": "2021-07-21T09:17:27.927Z"
   },
   {
    "duration": 8,
    "start_time": "2021-07-21T09:17:27.959Z"
   },
   {
    "duration": 11,
    "start_time": "2021-07-21T09:17:27.969Z"
   },
   {
    "duration": 350,
    "start_time": "2021-07-21T09:18:20.890Z"
   },
   {
    "duration": 1675,
    "start_time": "2021-07-21T09:18:24.518Z"
   },
   {
    "duration": 27,
    "start_time": "2021-07-21T09:18:26.196Z"
   },
   {
    "duration": 22,
    "start_time": "2021-07-21T09:18:26.225Z"
   },
   {
    "duration": 19,
    "start_time": "2021-07-21T09:18:26.249Z"
   },
   {
    "duration": 12,
    "start_time": "2021-07-21T09:18:26.271Z"
   },
   {
    "duration": 11,
    "start_time": "2021-07-21T09:18:26.285Z"
   },
   {
    "duration": 359,
    "start_time": "2021-07-21T09:18:28.945Z"
   },
   {
    "duration": 102,
    "start_time": "2021-07-21T09:18:50.014Z"
   },
   {
    "duration": 71,
    "start_time": "2021-07-21T09:19:25.344Z"
   },
   {
    "duration": 62,
    "start_time": "2021-07-21T09:19:38.635Z"
   },
   {
    "duration": 37,
    "start_time": "2021-07-21T09:20:11.484Z"
   },
   {
    "duration": 61,
    "start_time": "2021-07-21T09:20:37.728Z"
   },
   {
    "duration": 68,
    "start_time": "2021-07-21T09:20:53.693Z"
   },
   {
    "duration": 47,
    "start_time": "2021-07-21T09:23:37.222Z"
   },
   {
    "duration": 61,
    "start_time": "2021-07-21T09:23:37.902Z"
   },
   {
    "duration": 23,
    "start_time": "2021-07-21T09:23:59.346Z"
   },
   {
    "duration": 53,
    "start_time": "2021-07-21T09:24:37.392Z"
   },
   {
    "duration": 45,
    "start_time": "2021-07-21T09:24:42.593Z"
   },
   {
    "duration": 64,
    "start_time": "2021-07-21T09:26:14.608Z"
   },
   {
    "duration": 43,
    "start_time": "2021-07-21T09:26:16.270Z"
   },
   {
    "duration": 52,
    "start_time": "2021-07-21T09:26:45.073Z"
   },
   {
    "duration": 45,
    "start_time": "2021-07-21T09:26:45.937Z"
   },
   {
    "duration": 116,
    "start_time": "2021-07-21T09:27:26.117Z"
   },
   {
    "duration": 45,
    "start_time": "2021-07-21T09:27:27.518Z"
   },
   {
    "duration": 83,
    "start_time": "2021-07-21T09:27:54.444Z"
   },
   {
    "duration": 65,
    "start_time": "2021-07-21T09:28:08.258Z"
   },
   {
    "duration": 44,
    "start_time": "2021-07-21T09:28:18.190Z"
   },
   {
    "duration": 43,
    "start_time": "2021-07-21T09:28:51.579Z"
   },
   {
    "duration": 325,
    "start_time": "2021-07-21T09:29:59.024Z"
   },
   {
    "duration": 861,
    "start_time": "2021-07-21T09:29:58.491Z"
   },
   {
    "duration": 1849,
    "start_time": "2021-07-21T09:30:05.747Z"
   },
   {
    "duration": 27,
    "start_time": "2021-07-21T09:30:07.598Z"
   },
   {
    "duration": 30,
    "start_time": "2021-07-21T09:30:07.628Z"
   },
   {
    "duration": 19,
    "start_time": "2021-07-21T09:30:07.660Z"
   },
   {
    "duration": 13,
    "start_time": "2021-07-21T09:30:07.681Z"
   },
   {
    "duration": 16,
    "start_time": "2021-07-21T09:30:07.696Z"
   },
   {
    "duration": 1681,
    "start_time": "2021-07-21T09:30:34.007Z"
   },
   {
    "duration": 28,
    "start_time": "2021-07-21T09:30:35.691Z"
   },
   {
    "duration": 24,
    "start_time": "2021-07-21T09:30:35.722Z"
   },
   {
    "duration": 20,
    "start_time": "2021-07-21T09:30:35.749Z"
   },
   {
    "duration": 9,
    "start_time": "2021-07-21T09:30:35.772Z"
   },
   {
    "duration": 11,
    "start_time": "2021-07-21T09:30:35.783Z"
   },
   {
    "duration": 76,
    "start_time": "2021-07-21T09:30:35.796Z"
   },
   {
    "duration": 311,
    "start_time": "2021-07-21T09:30:49.214Z"
   },
   {
    "duration": 1767,
    "start_time": "2021-07-21T09:31:04.137Z"
   },
   {
    "duration": 26,
    "start_time": "2021-07-21T09:31:05.907Z"
   },
   {
    "duration": 21,
    "start_time": "2021-07-21T09:31:05.937Z"
   },
   {
    "duration": 17,
    "start_time": "2021-07-21T09:31:05.961Z"
   },
   {
    "duration": 16,
    "start_time": "2021-07-21T09:31:05.981Z"
   },
   {
    "duration": 12,
    "start_time": "2021-07-21T09:31:06.000Z"
   },
   {
    "duration": 52,
    "start_time": "2021-07-21T09:31:09.072Z"
   },
   {
    "duration": 35,
    "start_time": "2021-07-21T09:31:09.748Z"
   },
   {
    "duration": 89,
    "start_time": "2021-07-21T09:31:10.856Z"
   },
   {
    "duration": 54,
    "start_time": "2021-07-21T09:31:12.082Z"
   },
   {
    "duration": 400,
    "start_time": "2021-07-21T09:32:08.928Z"
   },
   {
    "duration": 172,
    "start_time": "2021-07-21T09:32:16.967Z"
   },
   {
    "duration": 313,
    "start_time": "2021-07-21T09:32:42.948Z"
   },
   {
    "duration": 67,
    "start_time": "2021-07-21T09:32:47.477Z"
   },
   {
    "duration": 9,
    "start_time": "2021-07-21T09:33:40.118Z"
   },
   {
    "duration": 9,
    "start_time": "2021-07-21T09:33:53.546Z"
   },
   {
    "duration": 9,
    "start_time": "2021-07-21T09:34:03.769Z"
   },
   {
    "duration": 84,
    "start_time": "2021-07-21T09:35:13.167Z"
   },
   {
    "duration": 40,
    "start_time": "2021-07-21T09:35:14.041Z"
   },
   {
    "duration": 112,
    "start_time": "2021-07-21T09:35:14.947Z"
   },
   {
    "duration": 194,
    "start_time": "2021-07-21T09:35:15.505Z"
   },
   {
    "duration": 22,
    "start_time": "2021-07-21T09:35:43.872Z"
   },
   {
    "duration": 55,
    "start_time": "2021-07-21T09:36:00.792Z"
   },
   {
    "duration": 83,
    "start_time": "2021-07-21T09:36:01.948Z"
   },
   {
    "duration": 147,
    "start_time": "2021-07-21T09:36:02.474Z"
   },
   {
    "duration": 22,
    "start_time": "2021-07-21T09:36:03.276Z"
   },
   {
    "duration": 318,
    "start_time": "2021-07-21T09:36:59.182Z"
   },
   {
    "duration": 302,
    "start_time": "2021-07-21T09:37:16.996Z"
   },
   {
    "duration": 258,
    "start_time": "2021-07-21T09:37:21.729Z"
   },
   {
    "duration": 275,
    "start_time": "2021-07-21T09:37:26.264Z"
   },
   {
    "duration": 122,
    "start_time": "2021-07-21T09:38:27.425Z"
   },
   {
    "duration": 87,
    "start_time": "2021-07-21T09:38:50.570Z"
   },
   {
    "duration": 123,
    "start_time": "2021-07-21T09:38:51.230Z"
   },
   {
    "duration": 147,
    "start_time": "2021-07-21T09:38:51.789Z"
   },
   {
    "duration": 87,
    "start_time": "2021-07-21T09:39:14.856Z"
   },
   {
    "duration": 59,
    "start_time": "2021-07-21T09:39:16.362Z"
   },
   {
    "duration": 79,
    "start_time": "2021-07-21T09:39:16.582Z"
   },
   {
    "duration": 146,
    "start_time": "2021-07-21T09:39:16.778Z"
   },
   {
    "duration": 4,
    "start_time": "2021-07-21T09:39:41.307Z"
   },
   {
    "duration": 41,
    "start_time": "2021-07-21T09:39:47.508Z"
   },
   {
    "duration": 40,
    "start_time": "2021-07-21T09:40:08.959Z"
   },
   {
    "duration": 48,
    "start_time": "2021-07-21T09:40:09.833Z"
   },
   {
    "duration": 54,
    "start_time": "2021-07-21T09:40:10.036Z"
   },
   {
    "duration": 3,
    "start_time": "2021-07-21T09:40:10.302Z"
   },
   {
    "duration": 45,
    "start_time": "2021-07-21T09:40:11.802Z"
   },
   {
    "duration": 28,
    "start_time": "2021-07-21T09:41:09.116Z"
   },
   {
    "duration": 24,
    "start_time": "2021-07-21T09:41:35.651Z"
   },
   {
    "duration": 14,
    "start_time": "2021-07-21T09:41:59.176Z"
   },
   {
    "duration": 3,
    "start_time": "2021-07-21T09:42:01.686Z"
   },
   {
    "duration": 45,
    "start_time": "2021-07-21T09:42:08.111Z"
   },
   {
    "duration": 30,
    "start_time": "2021-07-21T09:42:24.053Z"
   },
   {
    "duration": 24,
    "start_time": "2021-07-21T09:42:24.252Z"
   },
   {
    "duration": 76,
    "start_time": "2021-07-21T09:42:24.507Z"
   },
   {
    "duration": 3,
    "start_time": "2021-07-21T09:42:24.887Z"
   },
   {
    "duration": 53,
    "start_time": "2021-07-21T09:42:25.347Z"
   },
   {
    "duration": 40,
    "start_time": "2021-07-21T10:39:27.285Z"
   },
   {
    "duration": 27,
    "start_time": "2021-07-21T10:39:30.769Z"
   },
   {
    "duration": 35,
    "start_time": "2021-07-21T10:39:58.264Z"
   },
   {
    "duration": 27,
    "start_time": "2021-07-21T10:40:02.075Z"
   },
   {
    "duration": 36,
    "start_time": "2021-07-21T10:40:24.106Z"
   },
   {
    "duration": 30,
    "start_time": "2021-07-21T10:40:24.581Z"
   },
   {
    "duration": 280,
    "start_time": "2021-07-21T10:40:46.502Z"
   },
   {
    "duration": 45,
    "start_time": "2021-07-21T10:40:54.523Z"
   },
   {
    "duration": 47,
    "start_time": "2021-07-21T10:40:54.997Z"
   },
   {
    "duration": 30,
    "start_time": "2021-07-21T10:41:06.890Z"
   },
   {
    "duration": 123,
    "start_time": "2021-07-21T10:41:24.085Z"
   },
   {
    "duration": 54,
    "start_time": "2021-07-21T10:41:28.660Z"
   },
   {
    "duration": 40,
    "start_time": "2021-07-21T10:41:32.590Z"
   },
   {
    "duration": 30,
    "start_time": "2021-07-21T10:41:49.795Z"
   },
   {
    "duration": 60,
    "start_time": "2021-07-21T10:42:02.101Z"
   },
   {
    "duration": 29,
    "start_time": "2021-07-21T10:42:03.041Z"
   },
   {
    "duration": 29,
    "start_time": "2021-07-21T10:42:17.480Z"
   },
   {
    "duration": 48,
    "start_time": "2021-07-21T10:42:34.157Z"
   },
   {
    "duration": 29,
    "start_time": "2021-07-21T10:42:37.701Z"
   },
   {
    "duration": 301,
    "start_time": "2021-07-21T10:43:17.279Z"
   },
   {
    "duration": 32,
    "start_time": "2021-07-21T10:43:22.746Z"
   },
   {
    "duration": 25,
    "start_time": "2021-07-21T10:43:27.251Z"
   },
   {
    "duration": 112,
    "start_time": "2021-07-21T10:44:57.945Z"
   },
   {
    "duration": 259,
    "start_time": "2021-07-21T10:46:44.484Z"
   },
   {
    "duration": 7,
    "start_time": "2021-07-21T10:46:49.976Z"
   },
   {
    "duration": 1207,
    "start_time": "2021-07-21T16:17:36.830Z"
   },
   {
    "duration": 20,
    "start_time": "2021-07-21T16:17:41.381Z"
   },
   {
    "duration": 51,
    "start_time": "2021-07-21T16:17:56.134Z"
   },
   {
    "duration": 41,
    "start_time": "2021-07-21T16:18:06.566Z"
   },
   {
    "duration": 23,
    "start_time": "2021-07-21T16:18:24.342Z"
   },
   {
    "duration": 27,
    "start_time": "2021-07-21T16:18:55.830Z"
   },
   {
    "duration": 15,
    "start_time": "2021-07-21T16:19:34.679Z"
   },
   {
    "duration": 5,
    "start_time": "2021-07-21T16:30:56.140Z"
   },
   {
    "duration": 288,
    "start_time": "2021-07-21T16:31:58.524Z"
   },
   {
    "duration": 248,
    "start_time": "2021-07-21T16:32:03.093Z"
   },
   {
    "duration": 235,
    "start_time": "2021-07-21T16:32:21.469Z"
   },
   {
    "duration": 229,
    "start_time": "2021-07-21T16:32:31.558Z"
   },
   {
    "duration": 221,
    "start_time": "2021-07-21T16:34:13.783Z"
   },
   {
    "duration": 232,
    "start_time": "2021-07-21T16:34:22.543Z"
   },
   {
    "duration": 28,
    "start_time": "2021-07-21T16:35:00.136Z"
   },
   {
    "duration": 8,
    "start_time": "2021-07-21T16:35:04.528Z"
   },
   {
    "duration": 10,
    "start_time": "2021-07-21T16:35:08.000Z"
   },
   {
    "duration": 14,
    "start_time": "2021-07-21T16:35:11.776Z"
   },
   {
    "duration": 221,
    "start_time": "2021-07-21T16:35:18.592Z"
   },
   {
    "duration": 8,
    "start_time": "2021-07-21T16:35:23.920Z"
   },
   {
    "duration": 16,
    "start_time": "2021-07-21T16:35:27.256Z"
   },
   {
    "duration": 247,
    "start_time": "2021-07-21T16:40:28.269Z"
   },
   {
    "duration": 17,
    "start_time": "2021-07-21T16:40:35.406Z"
   },
   {
    "duration": 34,
    "start_time": "2021-07-21T16:41:13.382Z"
   },
   {
    "duration": 25,
    "start_time": "2021-07-21T16:41:41.207Z"
   },
   {
    "duration": 14,
    "start_time": "2021-07-21T16:41:51.071Z"
   },
   {
    "duration": 6,
    "start_time": "2021-07-21T16:42:24.167Z"
   },
   {
    "duration": 8,
    "start_time": "2021-07-21T16:42:29.760Z"
   },
   {
    "duration": 8,
    "start_time": "2021-07-21T16:42:47.833Z"
   },
   {
    "duration": 12,
    "start_time": "2021-07-21T16:44:25.442Z"
   },
   {
    "duration": 226,
    "start_time": "2021-07-21T16:44:36.258Z"
   },
   {
    "duration": 11,
    "start_time": "2021-07-21T16:44:40.867Z"
   },
   {
    "duration": 12,
    "start_time": "2021-07-21T16:45:18.443Z"
   },
   {
    "duration": 12,
    "start_time": "2021-07-21T16:45:29.028Z"
   },
   {
    "duration": 11,
    "start_time": "2021-07-21T16:45:50.613Z"
   },
   {
    "duration": 25,
    "start_time": "2021-07-21T16:46:09.325Z"
   },
   {
    "duration": 31,
    "start_time": "2021-07-21T16:46:19.765Z"
   },
   {
    "duration": 26,
    "start_time": "2021-07-21T16:46:29.109Z"
   },
   {
    "duration": 13,
    "start_time": "2021-07-21T16:46:31.045Z"
   },
   {
    "duration": 26,
    "start_time": "2021-07-21T16:46:31.596Z"
   },
   {
    "duration": 227,
    "start_time": "2021-07-21T16:57:20.440Z"
   },
   {
    "duration": 217,
    "start_time": "2021-07-21T16:57:24.543Z"
   },
   {
    "duration": 271,
    "start_time": "2021-07-21T16:57:30.880Z"
   },
   {
    "duration": 226,
    "start_time": "2021-07-21T16:57:52.561Z"
   },
   {
    "duration": 580,
    "start_time": "2021-07-21T16:58:49.798Z"
   },
   {
    "duration": 2663,
    "start_time": "2021-07-21T16:58:51.745Z"
   },
   {
    "duration": 582,
    "start_time": "2021-07-21T17:01:09.042Z"
   },
   {
    "duration": 8439,
    "start_time": "2021-07-21T17:01:11.459Z"
   },
   {
    "duration": 165,
    "start_time": "2021-07-21T17:01:29.180Z"
   },
   {
    "duration": 275,
    "start_time": "2021-07-21T17:01:45.572Z"
   },
   {
    "duration": 164,
    "start_time": "2021-07-21T17:01:55.860Z"
   },
   {
    "duration": 17,
    "start_time": "2021-07-21T17:02:30.453Z"
   },
   {
    "duration": 18,
    "start_time": "2021-07-21T17:33:36.045Z"
   },
   {
    "duration": 163,
    "start_time": "2021-07-21T17:36:23.008Z"
   },
   {
    "duration": 491,
    "start_time": "2021-07-21T17:36:48.704Z"
   },
   {
    "duration": 209,
    "start_time": "2021-07-21T17:37:33.702Z"
   },
   {
    "duration": 192,
    "start_time": "2021-07-21T17:37:38.833Z"
   },
   {
    "duration": 192,
    "start_time": "2021-07-21T17:37:46.121Z"
   },
   {
    "duration": 165,
    "start_time": "2021-07-21T17:38:11.946Z"
   },
   {
    "duration": 162,
    "start_time": "2021-07-21T17:38:24.578Z"
   },
   {
    "duration": 198,
    "start_time": "2021-07-21T17:38:34.922Z"
   },
   {
    "duration": 193,
    "start_time": "2021-07-21T17:38:39.762Z"
   },
   {
    "duration": 194,
    "start_time": "2021-07-21T17:38:52.530Z"
   },
   {
    "duration": 204,
    "start_time": "2021-07-21T17:40:21.892Z"
   },
   {
    "duration": 201,
    "start_time": "2021-07-21T17:43:09.567Z"
   },
   {
    "duration": 220,
    "start_time": "2021-07-21T17:43:35.184Z"
   },
   {
    "duration": 199,
    "start_time": "2021-07-21T17:43:50.967Z"
   },
   {
    "duration": 213,
    "start_time": "2021-07-21T17:43:59.575Z"
   },
   {
    "duration": 203,
    "start_time": "2021-07-21T17:44:05.960Z"
   },
   {
    "duration": 223,
    "start_time": "2021-07-21T17:44:09.289Z"
   },
   {
    "duration": 238,
    "start_time": "2021-07-21T17:47:22.739Z"
   },
   {
    "duration": 201,
    "start_time": "2021-07-21T17:47:34.251Z"
   },
   {
    "duration": 207,
    "start_time": "2021-07-21T17:48:19.556Z"
   },
   {
    "duration": 204,
    "start_time": "2021-07-21T17:48:27.204Z"
   },
   {
    "duration": 237,
    "start_time": "2021-07-21T17:48:46.204Z"
   },
   {
    "duration": 217,
    "start_time": "2021-07-21T17:54:53.371Z"
   },
   {
    "duration": 237,
    "start_time": "2021-07-21T17:55:01.276Z"
   },
   {
    "duration": 229,
    "start_time": "2021-07-21T17:55:07.452Z"
   },
   {
    "duration": 13,
    "start_time": "2021-07-21T17:56:07.619Z"
   },
   {
    "duration": 17,
    "start_time": "2021-07-21T17:56:49.397Z"
   },
   {
    "duration": 21,
    "start_time": "2021-07-21T17:57:21.285Z"
   },
   {
    "duration": 31,
    "start_time": "2021-07-21T17:58:22.302Z"
   },
   {
    "duration": 20,
    "start_time": "2021-07-21T17:58:44.559Z"
   },
   {
    "duration": 21,
    "start_time": "2021-07-21T17:58:50.126Z"
   },
   {
    "duration": 3,
    "start_time": "2021-07-21T17:59:26.367Z"
   },
   {
    "duration": 13,
    "start_time": "2021-07-21T18:02:47.827Z"
   },
   {
    "duration": 13,
    "start_time": "2021-07-21T18:02:50.357Z"
   },
   {
    "duration": 30,
    "start_time": "2021-07-21T18:02:56.755Z"
   },
   {
    "duration": 236,
    "start_time": "2021-07-21T18:04:38.573Z"
   },
   {
    "duration": 7,
    "start_time": "2021-07-21T18:04:44.603Z"
   },
   {
    "duration": 21,
    "start_time": "2021-07-21T18:04:51.781Z"
   },
   {
    "duration": 225,
    "start_time": "2021-07-21T18:05:36.181Z"
   },
   {
    "duration": 349,
    "start_time": "2021-07-21T18:05:42.798Z"
   },
   {
    "duration": 42,
    "start_time": "2021-07-21T18:05:43.149Z"
   },
   {
    "duration": 35,
    "start_time": "2021-07-21T18:05:43.193Z"
   },
   {
    "duration": 21,
    "start_time": "2021-07-21T18:05:43.230Z"
   },
   {
    "duration": 45,
    "start_time": "2021-07-21T18:05:43.253Z"
   },
   {
    "duration": 14,
    "start_time": "2021-07-21T18:05:43.300Z"
   },
   {
    "duration": 40,
    "start_time": "2021-07-21T18:05:43.316Z"
   },
   {
    "duration": 49,
    "start_time": "2021-07-21T18:05:43.358Z"
   },
   {
    "duration": 23,
    "start_time": "2021-07-21T18:05:43.408Z"
   },
   {
    "duration": 9,
    "start_time": "2021-07-21T18:05:43.433Z"
   },
   {
    "duration": 14,
    "start_time": "2021-07-21T18:05:43.443Z"
   },
   {
    "duration": 52,
    "start_time": "2021-07-21T18:05:43.458Z"
   },
   {
    "duration": 216,
    "start_time": "2021-07-21T18:05:43.512Z"
   },
   {
    "duration": 269,
    "start_time": "2021-07-21T18:05:43.730Z"
   },
   {
    "duration": 22,
    "start_time": "2021-07-21T18:05:44.008Z"
   },
   {
    "duration": 3,
    "start_time": "2021-07-21T18:05:44.032Z"
   },
   {
    "duration": 14,
    "start_time": "2021-07-21T18:05:44.037Z"
   },
   {
    "duration": 24,
    "start_time": "2021-07-21T18:05:44.052Z"
   },
   {
    "duration": 14,
    "start_time": "2021-07-21T18:05:44.077Z"
   },
   {
    "duration": 45,
    "start_time": "2021-07-21T18:05:44.092Z"
   },
   {
    "duration": 20,
    "start_time": "2021-07-21T18:05:44.138Z"
   },
   {
    "duration": 52,
    "start_time": "2021-07-21T18:05:44.159Z"
   },
   {
    "duration": 18,
    "start_time": "2021-07-21T18:05:44.213Z"
   },
   {
    "duration": 28,
    "start_time": "2021-07-21T18:05:44.233Z"
   },
   {
    "duration": 33,
    "start_time": "2021-07-21T18:05:44.263Z"
   },
   {
    "duration": 56,
    "start_time": "2021-07-21T18:05:44.297Z"
   },
   {
    "duration": 4,
    "start_time": "2021-07-21T18:05:44.354Z"
   },
   {
    "duration": 9,
    "start_time": "2021-07-21T18:06:00.774Z"
   },
   {
    "duration": 12,
    "start_time": "2021-07-21T18:06:07.686Z"
   },
   {
    "duration": 27,
    "start_time": "2021-07-21T18:06:14.766Z"
   },
   {
    "duration": 191,
    "start_time": "2021-07-21T18:12:13.237Z"
   },
   {
    "duration": 218,
    "start_time": "2021-07-21T18:12:59.814Z"
   },
   {
    "duration": 3,
    "start_time": "2021-07-21T18:15:13.113Z"
   },
   {
    "duration": 15,
    "start_time": "2021-07-21T18:15:28.328Z"
   },
   {
    "duration": 368,
    "start_time": "2021-07-21T18:16:50.977Z"
   },
   {
    "duration": 43,
    "start_time": "2021-07-21T18:16:53.617Z"
   },
   {
    "duration": 39,
    "start_time": "2021-07-21T18:16:54.120Z"
   },
   {
    "duration": 21,
    "start_time": "2021-07-21T18:16:54.161Z"
   },
   {
    "duration": 27,
    "start_time": "2021-07-21T18:16:54.184Z"
   },
   {
    "duration": 17,
    "start_time": "2021-07-21T18:16:54.221Z"
   },
   {
    "duration": 37,
    "start_time": "2021-07-21T18:16:54.347Z"
   },
   {
    "duration": 29,
    "start_time": "2021-07-21T18:16:54.389Z"
   },
   {
    "duration": 23,
    "start_time": "2021-07-21T18:16:54.419Z"
   },
   {
    "duration": 10,
    "start_time": "2021-07-21T18:16:54.446Z"
   },
   {
    "duration": 12,
    "start_time": "2021-07-21T18:16:54.551Z"
   },
   {
    "duration": 25,
    "start_time": "2021-07-21T18:16:54.586Z"
   },
   {
    "duration": 209,
    "start_time": "2021-07-21T18:16:54.680Z"
   },
   {
    "duration": 246,
    "start_time": "2021-07-21T18:16:54.892Z"
   },
   {
    "duration": 16,
    "start_time": "2021-07-21T18:16:55.140Z"
   },
   {
    "duration": 4,
    "start_time": "2021-07-21T18:16:55.158Z"
   },
   {
    "duration": 36,
    "start_time": "2021-07-21T18:16:55.164Z"
   },
   {
    "duration": 12,
    "start_time": "2021-07-21T18:16:55.202Z"
   },
   {
    "duration": 26,
    "start_time": "2021-07-21T18:16:55.215Z"
   },
   {
    "duration": 7,
    "start_time": "2021-07-21T18:16:55.243Z"
   },
   {
    "duration": 40,
    "start_time": "2021-07-21T18:16:55.251Z"
   },
   {
    "duration": 22,
    "start_time": "2021-07-21T18:16:55.293Z"
   },
   {
    "duration": 204,
    "start_time": "2021-07-21T18:16:55.316Z"
   },
   {
    "duration": 230,
    "start_time": "2021-07-21T18:16:55.521Z"
   },
   {
    "duration": 9,
    "start_time": "2021-07-21T18:16:55.753Z"
   },
   {
    "duration": 42,
    "start_time": "2021-07-21T18:16:56.504Z"
   },
   {
    "duration": 24,
    "start_time": "2021-07-21T18:16:56.753Z"
   },
   {
    "duration": 222,
    "start_time": "2021-07-21T18:19:57.852Z"
   },
   {
    "duration": 12,
    "start_time": "2021-07-21T18:20:21.996Z"
   },
   {
    "duration": 9,
    "start_time": "2021-07-21T18:20:58.493Z"
   },
   {
    "duration": 10,
    "start_time": "2021-07-21T18:23:11.367Z"
   },
   {
    "duration": 11,
    "start_time": "2021-07-21T18:23:12.480Z"
   },
   {
    "duration": 22,
    "start_time": "2021-07-21T18:23:15.415Z"
   },
   {
    "duration": 385,
    "start_time": "2021-07-21T18:23:30.665Z"
   },
   {
    "duration": 45,
    "start_time": "2021-07-21T18:23:31.052Z"
   },
   {
    "duration": 37,
    "start_time": "2021-07-21T18:23:31.098Z"
   },
   {
    "duration": 21,
    "start_time": "2021-07-21T18:23:31.137Z"
   },
   {
    "duration": 49,
    "start_time": "2021-07-21T18:23:31.160Z"
   },
   {
    "duration": 17,
    "start_time": "2021-07-21T18:23:31.210Z"
   },
   {
    "duration": 55,
    "start_time": "2021-07-21T18:23:31.229Z"
   },
   {
    "duration": 29,
    "start_time": "2021-07-21T18:23:31.291Z"
   },
   {
    "duration": 24,
    "start_time": "2021-07-21T18:23:31.322Z"
   },
   {
    "duration": 8,
    "start_time": "2021-07-21T18:23:31.348Z"
   },
   {
    "duration": 34,
    "start_time": "2021-07-21T18:23:31.358Z"
   },
   {
    "duration": 11,
    "start_time": "2021-07-21T18:23:31.393Z"
   },
   {
    "duration": 39,
    "start_time": "2021-07-21T18:23:31.405Z"
   },
   {
    "duration": 189,
    "start_time": "2021-07-21T18:23:32.639Z"
   },
   {
    "duration": 233,
    "start_time": "2021-07-21T18:23:32.830Z"
   },
   {
    "duration": 15,
    "start_time": "2021-07-21T18:23:33.231Z"
   },
   {
    "duration": 186,
    "start_time": "2021-07-21T18:23:57.760Z"
   },
   {
    "duration": 225,
    "start_time": "2021-07-21T18:24:00.984Z"
   },
   {
    "duration": 17,
    "start_time": "2021-07-21T18:24:07.607Z"
   },
   {
    "duration": 3,
    "start_time": "2021-07-21T18:24:08.656Z"
   },
   {
    "duration": 366,
    "start_time": "2021-07-21T18:24:13.479Z"
   },
   {
    "duration": 41,
    "start_time": "2021-07-21T18:24:13.980Z"
   },
   {
    "duration": 38,
    "start_time": "2021-07-21T18:24:14.024Z"
   },
   {
    "duration": 43,
    "start_time": "2021-07-21T18:24:14.064Z"
   },
   {
    "duration": 27,
    "start_time": "2021-07-21T18:24:14.109Z"
   },
   {
    "duration": 16,
    "start_time": "2021-07-21T18:24:14.139Z"
   },
   {
    "duration": 38,
    "start_time": "2021-07-21T18:24:14.246Z"
   },
   {
    "duration": 28,
    "start_time": "2021-07-21T18:24:14.286Z"
   },
   {
    "duration": 24,
    "start_time": "2021-07-21T18:24:14.317Z"
   },
   {
    "duration": 9,
    "start_time": "2021-07-21T18:24:14.349Z"
   },
   {
    "duration": 10,
    "start_time": "2021-07-21T18:24:14.450Z"
   },
   {
    "duration": 10,
    "start_time": "2021-07-21T18:24:14.476Z"
   },
   {
    "duration": 25,
    "start_time": "2021-07-21T18:24:14.507Z"
   },
   {
    "duration": 203,
    "start_time": "2021-07-21T18:24:14.610Z"
   },
   {
    "duration": 227,
    "start_time": "2021-07-21T18:24:14.814Z"
   },
   {
    "duration": 15,
    "start_time": "2021-07-21T18:24:15.043Z"
   },
   {
    "duration": 3,
    "start_time": "2021-07-21T18:24:19.113Z"
   },
   {
    "duration": 3,
    "start_time": "2021-07-21T18:25:12.753Z"
   },
   {
    "duration": 13,
    "start_time": "2021-07-21T18:26:51.165Z"
   },
   {
    "duration": 26,
    "start_time": "2021-07-21T18:26:51.723Z"
   },
   {
    "duration": 7,
    "start_time": "2021-07-21T18:26:53.555Z"
   },
   {
    "duration": 12,
    "start_time": "2021-07-21T18:26:53.860Z"
   },
   {
    "duration": 21,
    "start_time": "2021-07-21T18:26:54.411Z"
   },
   {
    "duration": 214,
    "start_time": "2021-07-21T18:26:56.586Z"
   },
   {
    "duration": 218,
    "start_time": "2021-07-21T18:26:57.859Z"
   },
   {
    "duration": 13,
    "start_time": "2021-07-21T18:27:13.867Z"
   },
   {
    "duration": 21,
    "start_time": "2021-07-21T18:27:21.484Z"
   },
   {
    "duration": 10,
    "start_time": "2021-07-21T18:28:47.436Z"
   },
   {
    "duration": 13,
    "start_time": "2021-07-21T18:29:00.789Z"
   },
   {
    "duration": 14,
    "start_time": "2021-07-21T18:29:07.254Z"
   },
   {
    "duration": 32,
    "start_time": "2021-07-21T18:30:39.735Z"
   },
   {
    "duration": 32,
    "start_time": "2021-07-21T18:30:55.848Z"
   },
   {
    "duration": 36,
    "start_time": "2021-07-21T18:31:03.096Z"
   },
   {
    "duration": 31,
    "start_time": "2021-07-21T18:31:12.392Z"
   },
   {
    "duration": 34,
    "start_time": "2021-07-21T18:31:17.687Z"
   },
   {
    "duration": 31,
    "start_time": "2021-07-21T18:32:02.665Z"
   },
   {
    "duration": 10,
    "start_time": "2021-07-21T18:32:04.568Z"
   },
   {
    "duration": 27,
    "start_time": "2021-07-21T18:32:07.896Z"
   },
   {
    "duration": 8,
    "start_time": "2021-07-21T18:32:12.520Z"
   },
   {
    "duration": 24,
    "start_time": "2021-07-21T18:32:15.016Z"
   },
   {
    "duration": 10,
    "start_time": "2021-07-21T18:32:21.152Z"
   },
   {
    "duration": 26,
    "start_time": "2021-07-21T18:32:23.425Z"
   },
   {
    "duration": 8,
    "start_time": "2021-07-21T18:32:27.448Z"
   },
   {
    "duration": 16,
    "start_time": "2021-07-21T18:32:31.689Z"
   },
   {
    "duration": 9,
    "start_time": "2021-07-21T18:32:35.433Z"
   },
   {
    "duration": 372,
    "start_time": "2021-07-21T18:32:46.000Z"
   },
   {
    "duration": 39,
    "start_time": "2021-07-21T18:32:46.373Z"
   },
   {
    "duration": 8,
    "start_time": "2021-07-21T18:32:46.544Z"
   },
   {
    "duration": 38,
    "start_time": "2021-07-21T18:32:47.393Z"
   },
   {
    "duration": 8,
    "start_time": "2021-07-21T18:32:58.177Z"
   },
   {
    "duration": 23,
    "start_time": "2021-07-21T18:32:59.242Z"
   },
   {
    "duration": 7,
    "start_time": "2021-07-21T18:32:59.577Z"
   },
   {
    "duration": 29,
    "start_time": "2021-07-21T18:33:00.025Z"
   },
   {
    "duration": 9,
    "start_time": "2021-07-21T18:33:00.545Z"
   },
   {
    "duration": 16,
    "start_time": "2021-07-21T18:33:02.409Z"
   },
   {
    "duration": 9,
    "start_time": "2021-07-21T18:33:03.186Z"
   },
   {
    "duration": 35,
    "start_time": "2021-07-21T18:33:12.320Z"
   },
   {
    "duration": 29,
    "start_time": "2021-07-21T18:33:12.537Z"
   },
   {
    "duration": 23,
    "start_time": "2021-07-21T18:33:12.913Z"
   },
   {
    "duration": 10,
    "start_time": "2021-07-21T18:35:58.500Z"
   },
   {
    "duration": 10,
    "start_time": "2021-07-21T18:36:04.100Z"
   },
   {
    "duration": 12,
    "start_time": "2021-07-21T18:36:06.341Z"
   },
   {
    "duration": 25,
    "start_time": "2021-07-21T18:36:12.860Z"
   },
   {
    "duration": 189,
    "start_time": "2021-07-21T18:36:16.100Z"
   },
   {
    "duration": 221,
    "start_time": "2021-07-21T18:36:17.228Z"
   },
   {
    "duration": 17,
    "start_time": "2021-07-21T18:36:21.188Z"
   },
   {
    "duration": 4,
    "start_time": "2021-07-21T18:36:22.244Z"
   },
   {
    "duration": 13,
    "start_time": "2021-07-21T18:36:26.877Z"
   },
   {
    "duration": 27,
    "start_time": "2021-07-21T18:36:29.724Z"
   },
   {
    "duration": 7,
    "start_time": "2021-07-21T18:36:31.364Z"
   },
   {
    "duration": 12,
    "start_time": "2021-07-21T18:36:32.157Z"
   },
   {
    "duration": 22,
    "start_time": "2021-07-21T18:37:17.525Z"
   },
   {
    "duration": 193,
    "start_time": "2021-07-21T18:37:20.085Z"
   },
   {
    "duration": 224,
    "start_time": "2021-07-21T18:37:21.589Z"
   },
   {
    "duration": 19,
    "start_time": "2021-07-21T18:37:32.005Z"
   },
   {
    "duration": 5,
    "start_time": "2021-07-21T18:41:57.083Z"
   },
   {
    "duration": 238,
    "start_time": "2021-07-21T18:42:15.443Z"
   },
   {
    "duration": 17,
    "start_time": "2021-07-21T18:45:26.790Z"
   },
   {
    "duration": 21,
    "start_time": "2021-07-21T18:45:43.462Z"
   },
   {
    "duration": 242,
    "start_time": "2021-07-21T18:46:01.815Z"
   },
   {
    "duration": 262,
    "start_time": "2021-07-21T18:46:05.871Z"
   },
   {
    "duration": 235,
    "start_time": "2021-07-21T18:46:11.894Z"
   },
   {
    "duration": 21,
    "start_time": "2021-07-21T18:46:19.286Z"
   },
   {
    "duration": 238,
    "start_time": "2021-07-21T18:49:10.098Z"
   },
   {
    "duration": 21,
    "start_time": "2021-07-21T18:51:36.205Z"
   },
   {
    "duration": 17,
    "start_time": "2021-07-21T18:55:24.383Z"
   },
   {
    "duration": 19,
    "start_time": "2021-07-21T18:55:59.424Z"
   },
   {
    "duration": 2,
    "start_time": "2021-07-21T19:01:29.798Z"
   },
   {
    "duration": 1458,
    "start_time": "2021-07-21T19:01:37.126Z"
   },
   {
    "duration": 3,
    "start_time": "2021-07-21T19:03:57.136Z"
   },
   {
    "duration": 217,
    "start_time": "2021-07-21T19:04:04.099Z"
   },
   {
    "duration": 384,
    "start_time": "2021-07-21T19:04:08.065Z"
   },
   {
    "duration": 3,
    "start_time": "2021-07-21T19:04:16.233Z"
   },
   {
    "duration": 2093,
    "start_time": "2021-07-21T19:04:16.568Z"
   },
   {
    "duration": 3,
    "start_time": "2021-07-21T19:05:22.153Z"
   },
   {
    "duration": 707,
    "start_time": "2021-07-21T19:05:22.756Z"
   },
   {
    "duration": 3,
    "start_time": "2021-07-21T19:05:29.050Z"
   },
   {
    "duration": 3221,
    "start_time": "2021-07-21T19:05:29.442Z"
   },
   {
    "duration": 3,
    "start_time": "2021-07-21T19:07:09.235Z"
   },
   {
    "duration": 3310,
    "start_time": "2021-07-21T19:07:09.876Z"
   },
   {
    "duration": 4,
    "start_time": "2021-07-21T19:07:20.187Z"
   },
   {
    "duration": 3328,
    "start_time": "2021-07-21T19:07:20.468Z"
   },
   {
    "duration": 3,
    "start_time": "2021-07-21T19:07:55.084Z"
   },
   {
    "duration": 725,
    "start_time": "2021-07-21T19:07:56.085Z"
   },
   {
    "duration": 3,
    "start_time": "2021-07-21T19:08:27.742Z"
   },
   {
    "duration": 3532,
    "start_time": "2021-07-21T19:08:28.237Z"
   },
   {
    "duration": 77,
    "start_time": "2021-07-21T19:08:38.252Z"
   },
   {
    "duration": 3698,
    "start_time": "2021-07-21T19:08:38.733Z"
   },
   {
    "duration": 3,
    "start_time": "2021-07-21T19:08:49.173Z"
   },
   {
    "duration": 3544,
    "start_time": "2021-07-21T19:08:49.791Z"
   },
   {
    "duration": 3,
    "start_time": "2021-07-21T19:09:03.605Z"
   },
   {
    "duration": 3191,
    "start_time": "2021-07-21T19:09:04.806Z"
   },
   {
    "duration": 3,
    "start_time": "2021-07-21T19:09:15.413Z"
   },
   {
    "duration": 3573,
    "start_time": "2021-07-21T19:09:15.670Z"
   },
   {
    "duration": 3,
    "start_time": "2021-07-21T19:10:28.550Z"
   },
   {
    "duration": 5602,
    "start_time": "2021-07-21T19:10:29.200Z"
   },
   {
    "duration": 3,
    "start_time": "2021-07-21T19:11:15.008Z"
   },
   {
    "duration": 3631,
    "start_time": "2021-07-21T19:11:15.179Z"
   },
   {
    "duration": 3,
    "start_time": "2021-07-21T19:13:13.625Z"
   },
   {
    "duration": 3609,
    "start_time": "2021-07-21T19:13:13.842Z"
   },
   {
    "duration": 11,
    "start_time": "2021-07-21T19:13:20.924Z"
   },
   {
    "duration": 13,
    "start_time": "2021-07-21T19:13:21.641Z"
   },
   {
    "duration": 17,
    "start_time": "2021-07-21T19:13:45.090Z"
   },
   {
    "duration": 16,
    "start_time": "2021-07-21T19:14:15.651Z"
   },
   {
    "duration": 14,
    "start_time": "2021-07-21T19:14:22.476Z"
   },
   {
    "duration": 148,
    "start_time": "2021-07-21T19:15:33.324Z"
   },
   {
    "duration": 42,
    "start_time": "2021-07-21T19:21:36.209Z"
   },
   {
    "duration": 62,
    "start_time": "2021-07-21T19:21:43.322Z"
   },
   {
    "duration": 4,
    "start_time": "2021-07-21T19:38:25.546Z"
   },
   {
    "duration": 4420,
    "start_time": "2021-07-21T19:38:26.557Z"
   },
   {
    "duration": 4,
    "start_time": "2021-07-21T19:38:54.275Z"
   },
   {
    "duration": 4283,
    "start_time": "2021-07-21T19:38:54.957Z"
   },
   {
    "duration": 4,
    "start_time": "2021-07-21T19:39:19.755Z"
   },
   {
    "duration": 4360,
    "start_time": "2021-07-21T19:39:20.158Z"
   },
   {
    "duration": 3411,
    "start_time": "2021-07-21T19:40:31.928Z"
   },
   {
    "duration": 4,
    "start_time": "2021-07-21T19:41:15.670Z"
   },
   {
    "duration": 810,
    "start_time": "2021-07-21T19:41:17.413Z"
   },
   {
    "duration": 3,
    "start_time": "2021-07-21T19:42:55.384Z"
   },
   {
    "duration": 784,
    "start_time": "2021-07-21T19:42:57.968Z"
   },
   {
    "duration": 4,
    "start_time": "2021-07-21T19:44:14.521Z"
   },
   {
    "duration": 3709,
    "start_time": "2021-07-21T19:44:15.058Z"
   },
   {
    "duration": 4258,
    "start_time": "2021-07-21T19:44:26.921Z"
   },
   {
    "duration": 4149,
    "start_time": "2021-07-21T19:45:10.620Z"
   },
   {
    "duration": 3,
    "start_time": "2021-07-21T19:45:51.483Z"
   },
   {
    "duration": 911,
    "start_time": "2021-07-21T19:46:03.275Z"
   },
   {
    "duration": 3,
    "start_time": "2021-07-21T19:46:14.164Z"
   },
   {
    "duration": 4850,
    "start_time": "2021-07-21T19:46:14.935Z"
   },
   {
    "duration": 3,
    "start_time": "2021-07-21T19:46:28.771Z"
   },
   {
    "duration": 3747,
    "start_time": "2021-07-21T19:46:29.781Z"
   },
   {
    "duration": 3708,
    "start_time": "2021-07-21T19:47:05.885Z"
   },
   {
    "duration": 3,
    "start_time": "2021-07-21T19:48:18.077Z"
   },
   {
    "duration": 3014,
    "start_time": "2021-07-21T19:48:33.582Z"
   },
   {
    "duration": 3005,
    "start_time": "2021-07-21T19:56:01.900Z"
   },
   {
    "duration": 3708,
    "start_time": "2021-07-21T19:57:18.158Z"
   },
   {
    "duration": 3086,
    "start_time": "2021-07-21T19:57:33.477Z"
   },
   {
    "duration": 3677,
    "start_time": "2021-07-21T19:58:11.497Z"
   },
   {
    "duration": 3745,
    "start_time": "2021-07-21T19:59:19.970Z"
   },
   {
    "duration": 3076,
    "start_time": "2021-07-21T19:59:33.607Z"
   },
   {
    "duration": 2603,
    "start_time": "2021-07-21T19:59:54.008Z"
   },
   {
    "duration": 2802,
    "start_time": "2021-07-21T20:01:30.501Z"
   },
   {
    "duration": 2700,
    "start_time": "2021-07-21T20:02:21.091Z"
   },
   {
    "duration": 2534,
    "start_time": "2021-07-21T20:04:15.445Z"
   },
   {
    "duration": 2763,
    "start_time": "2021-07-21T20:04:26.948Z"
   },
   {
    "duration": 2517,
    "start_time": "2021-07-21T20:04:39.301Z"
   },
   {
    "duration": 2789,
    "start_time": "2021-07-21T20:05:24.070Z"
   },
   {
    "duration": 2736,
    "start_time": "2021-07-21T20:05:32.734Z"
   },
   {
    "duration": 2747,
    "start_time": "2021-07-21T20:05:45.817Z"
   },
   {
    "duration": 2494,
    "start_time": "2021-07-21T20:05:52.951Z"
   },
   {
    "duration": 2923,
    "start_time": "2021-07-21T20:07:04.527Z"
   },
   {
    "duration": 2649,
    "start_time": "2021-07-21T20:07:13.040Z"
   },
   {
    "duration": 2503,
    "start_time": "2021-07-21T20:07:42.752Z"
   },
   {
    "duration": 2739,
    "start_time": "2021-07-21T20:08:14.728Z"
   },
   {
    "duration": 2751,
    "start_time": "2021-07-21T20:08:39.377Z"
   },
   {
    "duration": 2509,
    "start_time": "2021-07-21T20:09:01.042Z"
   },
   {
    "duration": 2495,
    "start_time": "2021-07-21T20:09:17.362Z"
   },
   {
    "duration": 3859,
    "start_time": "2021-07-21T20:10:19.555Z"
   },
   {
    "duration": 2848,
    "start_time": "2021-07-21T20:10:32.980Z"
   },
   {
    "duration": 3003,
    "start_time": "2021-07-21T20:11:15.916Z"
   },
   {
    "duration": 2882,
    "start_time": "2021-07-21T20:11:37.788Z"
   },
   {
    "duration": 1996,
    "start_time": "2021-07-21T20:12:44.149Z"
   },
   {
    "duration": 2006,
    "start_time": "2021-07-21T20:13:16.102Z"
   },
   {
    "duration": 2470,
    "start_time": "2021-07-21T20:13:50.095Z"
   },
   {
    "duration": 3051,
    "start_time": "2021-07-21T20:13:56.111Z"
   },
   {
    "duration": 2007,
    "start_time": "2021-07-21T20:13:59.180Z"
   },
   {
    "duration": 54,
    "start_time": "2021-07-21T20:14:24.710Z"
   },
   {
    "duration": 227,
    "start_time": "2021-07-21T20:14:55.712Z"
   },
   {
    "duration": 240,
    "start_time": "2021-07-21T20:15:10.647Z"
   },
   {
    "duration": 16,
    "start_time": "2021-07-21T20:15:16.319Z"
   },
   {
    "duration": 2497,
    "start_time": "2021-07-21T20:15:35.920Z"
   },
   {
    "duration": 36,
    "start_time": "2021-07-21T20:16:06.601Z"
   },
   {
    "duration": 16,
    "start_time": "2021-07-21T20:16:13.161Z"
   },
   {
    "duration": 33,
    "start_time": "2021-07-21T20:16:26.985Z"
   },
   {
    "duration": 15,
    "start_time": "2021-07-21T20:16:35.297Z"
   },
   {
    "duration": 18,
    "start_time": "2021-07-21T20:16:39.771Z"
   },
   {
    "duration": 59,
    "start_time": "2021-07-21T20:16:46.689Z"
   },
   {
    "duration": 14,
    "start_time": "2021-07-21T20:16:54.105Z"
   },
   {
    "duration": 17,
    "start_time": "2021-07-21T20:16:58.625Z"
   },
   {
    "duration": 16,
    "start_time": "2021-07-21T20:17:32.586Z"
   },
   {
    "duration": 15,
    "start_time": "2021-07-21T20:17:46.874Z"
   },
   {
    "duration": 17,
    "start_time": "2021-07-21T20:18:15.522Z"
   },
   {
    "duration": 252,
    "start_time": "2021-07-21T20:18:43.681Z"
   },
   {
    "duration": 17,
    "start_time": "2021-07-21T20:18:58.411Z"
   },
   {
    "duration": 7,
    "start_time": "2021-07-21T20:19:23.684Z"
   },
   {
    "duration": 90,
    "start_time": "2021-07-21T20:20:00.036Z"
   },
   {
    "duration": 3187,
    "start_time": "2021-07-21T20:24:05.753Z"
   },
   {
    "duration": 2498,
    "start_time": "2021-07-21T20:24:12.521Z"
   },
   {
    "duration": 2589,
    "start_time": "2021-07-21T20:28:01.044Z"
   },
   {
    "duration": 2521,
    "start_time": "2021-07-21T20:30:23.614Z"
   },
   {
    "duration": 2501,
    "start_time": "2021-07-21T20:30:27.910Z"
   },
   {
    "duration": 2879,
    "start_time": "2021-07-21T20:32:01.408Z"
   },
   {
    "duration": 2457,
    "start_time": "2021-07-21T20:32:12.152Z"
   },
   {
    "duration": 1984,
    "start_time": "2021-07-21T20:41:26.981Z"
   },
   {
    "duration": 4617,
    "start_time": "2021-07-21T20:42:16.035Z"
   },
   {
    "duration": 4517,
    "start_time": "2021-07-21T20:43:10.795Z"
   },
   {
    "duration": 6255,
    "start_time": "2021-07-21T20:44:56.653Z"
   },
   {
    "duration": 2107,
    "start_time": "2021-07-21T20:45:22.981Z"
   },
   {
    "duration": 122,
    "start_time": "2021-07-21T20:45:36.990Z"
   },
   {
    "duration": 2887,
    "start_time": "2021-07-21T21:10:25.157Z"
   },
   {
    "duration": 31,
    "start_time": "2021-07-21T21:16:29.131Z"
   },
   {
    "duration": 35,
    "start_time": "2021-07-21T21:16:42.491Z"
   },
   {
    "duration": 20,
    "start_time": "2021-07-21T21:17:46.341Z"
   },
   {
    "duration": 20,
    "start_time": "2021-07-21T21:18:14.349Z"
   },
   {
    "duration": 15,
    "start_time": "2021-07-21T21:18:20.397Z"
   },
   {
    "duration": 11,
    "start_time": "2021-07-21T21:18:33.293Z"
   },
   {
    "duration": 23,
    "start_time": "2021-07-21T21:19:48.879Z"
   },
   {
    "duration": 23,
    "start_time": "2021-07-21T21:21:34.240Z"
   },
   {
    "duration": 17,
    "start_time": "2021-07-21T21:21:48.793Z"
   },
   {
    "duration": 16,
    "start_time": "2021-07-21T21:22:35.835Z"
   },
   {
    "duration": 15,
    "start_time": "2021-07-21T21:22:39.265Z"
   },
   {
    "duration": 8,
    "start_time": "2021-07-21T21:24:54.300Z"
   },
   {
    "duration": 16,
    "start_time": "2021-07-21T21:35:04.783Z"
   },
   {
    "duration": 16,
    "start_time": "2021-07-21T21:35:23.462Z"
   },
   {
    "duration": 18,
    "start_time": "2021-07-21T21:35:46.478Z"
   },
   {
    "duration": 14,
    "start_time": "2021-07-21T21:36:06.832Z"
   },
   {
    "duration": 48,
    "start_time": "2021-07-21T21:36:29.239Z"
   },
   {
    "duration": 12,
    "start_time": "2021-07-21T21:36:48.183Z"
   },
   {
    "duration": 12,
    "start_time": "2021-07-21T21:36:55.783Z"
   },
   {
    "duration": 24,
    "start_time": "2021-07-21T21:37:01.263Z"
   },
   {
    "duration": 10,
    "start_time": "2021-07-21T21:37:11.183Z"
   },
   {
    "duration": 11,
    "start_time": "2021-07-21T21:37:12.920Z"
   },
   {
    "duration": 4,
    "start_time": "2021-07-21T21:37:13.559Z"
   },
   {
    "duration": 8,
    "start_time": "2021-07-21T21:37:18.488Z"
   },
   {
    "duration": 10,
    "start_time": "2021-07-21T21:37:18.840Z"
   },
   {
    "duration": 11,
    "start_time": "2021-07-21T21:37:24.720Z"
   },
   {
    "duration": 241,
    "start_time": "2021-07-21T21:37:59.288Z"
   },
   {
    "duration": 13,
    "start_time": "2021-07-21T21:38:00.369Z"
   },
   {
    "duration": 8,
    "start_time": "2021-07-21T21:38:29.657Z"
   },
   {
    "duration": 14,
    "start_time": "2021-07-21T21:38:34.771Z"
   },
   {
    "duration": 8,
    "start_time": "2021-07-21T21:38:46.489Z"
   },
   {
    "duration": 11,
    "start_time": "2021-07-21T21:38:46.961Z"
   },
   {
    "duration": 8,
    "start_time": "2021-07-21T21:39:00.017Z"
   },
   {
    "duration": 12,
    "start_time": "2021-07-21T21:39:01.210Z"
   },
   {
    "duration": 8,
    "start_time": "2021-07-21T21:39:06.273Z"
   },
   {
    "duration": 14,
    "start_time": "2021-07-21T21:39:06.857Z"
   },
   {
    "duration": 12,
    "start_time": "2021-07-21T21:39:12.081Z"
   },
   {
    "duration": 12,
    "start_time": "2021-07-21T21:39:27.339Z"
   },
   {
    "duration": 13,
    "start_time": "2021-07-21T21:39:36.474Z"
   },
   {
    "duration": 13,
    "start_time": "2021-07-21T21:39:39.581Z"
   },
   {
    "duration": 231,
    "start_time": "2021-07-21T21:39:58.570Z"
   },
   {
    "duration": 8,
    "start_time": "2021-07-21T21:40:02.050Z"
   },
   {
    "duration": 8,
    "start_time": "2021-07-21T21:40:08.114Z"
   },
   {
    "duration": 16,
    "start_time": "2021-07-21T21:40:44.283Z"
   },
   {
    "duration": 12,
    "start_time": "2021-07-21T21:40:46.907Z"
   },
   {
    "duration": 18,
    "start_time": "2021-07-21T21:41:31.412Z"
   },
   {
    "duration": 16,
    "start_time": "2021-07-21T21:41:41.235Z"
   },
   {
    "duration": 9,
    "start_time": "2021-07-21T21:42:25.165Z"
   },
   {
    "duration": 368,
    "start_time": "2021-07-21T21:42:41.645Z"
   },
   {
    "duration": 73,
    "start_time": "2021-07-21T21:42:53.366Z"
   },
   {
    "duration": 17,
    "start_time": "2021-07-21T21:47:52.698Z"
   },
   {
    "duration": 21,
    "start_time": "2021-07-21T21:48:20.699Z"
   },
   {
    "duration": 282,
    "start_time": "2021-07-21T21:49:10.380Z"
   },
   {
    "duration": 244,
    "start_time": "2021-07-21T21:50:21.964Z"
   },
   {
    "duration": 265,
    "start_time": "2021-07-21T21:51:00.622Z"
   },
   {
    "duration": 268,
    "start_time": "2021-07-21T21:51:05.885Z"
   },
   {
    "duration": 249,
    "start_time": "2021-07-21T21:51:08.613Z"
   },
   {
    "duration": 244,
    "start_time": "2021-07-21T21:51:36.590Z"
   },
   {
    "duration": 23,
    "start_time": "2021-07-21T21:52:42.671Z"
   },
   {
    "duration": 19,
    "start_time": "2021-07-21T21:52:52.247Z"
   },
   {
    "duration": 12,
    "start_time": "2021-07-21T21:53:55.568Z"
   },
   {
    "duration": 12,
    "start_time": "2021-07-21T21:54:12.066Z"
   },
   {
    "duration": 11,
    "start_time": "2021-07-21T21:54:17.313Z"
   },
   {
    "duration": 10,
    "start_time": "2021-07-21T21:54:28.889Z"
   },
   {
    "duration": 9,
    "start_time": "2021-07-21T21:54:49.489Z"
   },
   {
    "duration": 10,
    "start_time": "2021-07-21T21:55:07.169Z"
   },
   {
    "duration": 10,
    "start_time": "2021-07-21T21:55:18.018Z"
   },
   {
    "duration": 9,
    "start_time": "2021-07-21T21:56:07.475Z"
   },
   {
    "duration": 9,
    "start_time": "2021-07-21T21:56:18.083Z"
   },
   {
    "duration": 9,
    "start_time": "2021-07-21T21:56:44.420Z"
   },
   {
    "duration": 10,
    "start_time": "2021-07-21T21:56:57.107Z"
   },
   {
    "duration": 10,
    "start_time": "2021-07-21T21:57:21.092Z"
   },
   {
    "duration": 27,
    "start_time": "2021-07-21T21:58:12.862Z"
   },
   {
    "duration": 10,
    "start_time": "2021-07-21T21:58:18.348Z"
   },
   {
    "duration": 12,
    "start_time": "2021-07-21T21:58:23.093Z"
   },
   {
    "duration": 10,
    "start_time": "2021-07-21T21:58:34.437Z"
   },
   {
    "duration": 21,
    "start_time": "2021-07-21T21:58:51.118Z"
   },
   {
    "duration": 18,
    "start_time": "2021-07-21T21:59:21.694Z"
   },
   {
    "duration": 33,
    "start_time": "2021-07-21T21:59:26.469Z"
   },
   {
    "duration": 20,
    "start_time": "2021-07-21T21:59:36.958Z"
   },
   {
    "duration": 20,
    "start_time": "2021-07-21T22:00:10.359Z"
   },
   {
    "duration": 68,
    "start_time": "2021-07-21T22:00:31.759Z"
   },
   {
    "duration": 30,
    "start_time": "2021-07-21T22:01:04.320Z"
   },
   {
    "duration": 29,
    "start_time": "2021-07-21T22:01:15.320Z"
   },
   {
    "duration": 32,
    "start_time": "2021-07-21T22:01:33.345Z"
   },
   {
    "duration": 31,
    "start_time": "2021-07-21T22:01:47.296Z"
   },
   {
    "duration": 30,
    "start_time": "2021-07-21T22:01:52.400Z"
   },
   {
    "duration": 35,
    "start_time": "2021-07-21T22:02:09.080Z"
   },
   {
    "duration": 34,
    "start_time": "2021-07-21T22:02:18.537Z"
   },
   {
    "duration": 247,
    "start_time": "2021-07-21T22:02:48.881Z"
   },
   {
    "duration": 260,
    "start_time": "2021-07-21T22:02:57.633Z"
   },
   {
    "duration": 264,
    "start_time": "2021-07-21T22:03:44.826Z"
   },
   {
    "duration": 566,
    "start_time": "2021-07-21T22:03:53.946Z"
   },
   {
    "duration": 441,
    "start_time": "2021-07-21T22:04:03.763Z"
   },
   {
    "duration": 279,
    "start_time": "2021-07-21T22:04:50.259Z"
   },
   {
    "duration": 34,
    "start_time": "2021-07-21T22:04:56.331Z"
   },
   {
    "duration": 253,
    "start_time": "2021-07-21T22:05:12.153Z"
   },
   {
    "duration": 53,
    "start_time": "2021-07-21T22:05:19.429Z"
   },
   {
    "duration": 21,
    "start_time": "2021-07-21T22:05:56.188Z"
   },
   {
    "duration": 33,
    "start_time": "2021-07-21T22:06:07.475Z"
   },
   {
    "duration": 78,
    "start_time": "2021-07-21T22:06:26.205Z"
   },
   {
    "duration": 133,
    "start_time": "2021-07-21T22:06:40.540Z"
   },
   {
    "duration": 18,
    "start_time": "2021-07-21T22:06:46.981Z"
   },
   {
    "duration": 20,
    "start_time": "2021-07-21T22:06:57.285Z"
   },
   {
    "duration": 20,
    "start_time": "2021-07-21T22:07:00.612Z"
   },
   {
    "duration": 21,
    "start_time": "2021-07-21T22:07:17.821Z"
   },
   {
    "duration": 38,
    "start_time": "2021-07-21T22:07:24.813Z"
   },
   {
    "duration": 19,
    "start_time": "2021-07-21T22:07:27.412Z"
   },
   {
    "duration": 74,
    "start_time": "2021-07-21T22:07:31.614Z"
   },
   {
    "duration": 52,
    "start_time": "2021-07-21T22:07:40.158Z"
   },
   {
    "duration": 16,
    "start_time": "2021-07-21T22:07:48.438Z"
   },
   {
    "duration": 20,
    "start_time": "2021-07-21T22:07:58.094Z"
   },
   {
    "duration": 15,
    "start_time": "2021-07-21T22:08:01.998Z"
   },
   {
    "duration": 162,
    "start_time": "2021-07-21T22:08:07.102Z"
   },
   {
    "duration": 20,
    "start_time": "2021-07-21T22:08:09.870Z"
   },
   {
    "duration": 26,
    "start_time": "2021-07-21T22:08:51.168Z"
   },
   {
    "duration": 8,
    "start_time": "2021-07-21T22:08:55.990Z"
   },
   {
    "duration": 25,
    "start_time": "2021-07-21T22:09:00.454Z"
   },
   {
    "duration": 1804,
    "start_time": "2021-07-22T06:12:59.664Z"
   },
   {
    "duration": 76,
    "start_time": "2021-07-22T06:13:01.471Z"
   },
   {
    "duration": 23,
    "start_time": "2021-07-22T06:13:01.550Z"
   },
   {
    "duration": 94,
    "start_time": "2021-07-22T06:13:01.576Z"
   },
   {
    "duration": 16,
    "start_time": "2021-07-22T06:13:01.673Z"
   },
   {
    "duration": 58,
    "start_time": "2021-07-22T06:13:01.692Z"
   },
   {
    "duration": 10,
    "start_time": "2021-07-22T06:13:01.767Z"
   },
   {
    "duration": 54,
    "start_time": "2021-07-22T06:13:01.781Z"
   },
   {
    "duration": 37,
    "start_time": "2021-07-22T06:13:01.838Z"
   },
   {
    "duration": 33,
    "start_time": "2021-07-22T06:13:01.878Z"
   },
   {
    "duration": 14,
    "start_time": "2021-07-22T06:13:01.914Z"
   },
   {
    "duration": 90,
    "start_time": "2021-07-22T06:13:01.931Z"
   },
   {
    "duration": 53,
    "start_time": "2021-07-22T06:13:02.024Z"
   },
   {
    "duration": 38,
    "start_time": "2021-07-22T06:13:02.079Z"
   },
   {
    "duration": 15,
    "start_time": "2021-07-22T06:13:02.120Z"
   },
   {
    "duration": 38,
    "start_time": "2021-07-22T06:13:02.138Z"
   },
   {
    "duration": 19,
    "start_time": "2021-07-22T06:13:02.179Z"
   },
   {
    "duration": 67,
    "start_time": "2021-07-22T06:13:02.201Z"
   },
   {
    "duration": 563,
    "start_time": "2021-07-22T06:13:02.271Z"
   },
   {
    "duration": 420,
    "start_time": "2021-07-22T06:13:02.836Z"
   },
   {
    "duration": 29,
    "start_time": "2021-07-22T06:13:03.259Z"
   },
   {
    "duration": 4,
    "start_time": "2021-07-22T06:13:03.291Z"
   },
   {
    "duration": 21,
    "start_time": "2021-07-22T06:13:03.299Z"
   },
   {
    "duration": 73,
    "start_time": "2021-07-22T06:13:03.323Z"
   },
   {
    "duration": 9,
    "start_time": "2021-07-22T06:13:03.398Z"
   },
   {
    "duration": 20,
    "start_time": "2021-07-22T06:13:03.409Z"
   },
   {
    "duration": 60,
    "start_time": "2021-07-22T06:13:03.432Z"
   },
   {
    "duration": 386,
    "start_time": "2021-07-22T06:13:03.494Z"
   },
   {
    "duration": 411,
    "start_time": "2021-07-22T06:13:03.883Z"
   },
   {
    "duration": 28,
    "start_time": "2021-07-22T06:13:04.297Z"
   },
   {
    "duration": 8310,
    "start_time": "2021-07-22T06:13:04.327Z"
   },
   {
    "duration": 7655,
    "start_time": "2021-07-22T06:13:12.639Z"
   },
   {
    "duration": 6328,
    "start_time": "2021-07-22T06:13:20.297Z"
   },
   {
    "duration": 15,
    "start_time": "2021-07-22T06:13:26.627Z"
   },
   {
    "duration": 18,
    "start_time": "2021-07-22T06:13:26.668Z"
   },
   {
    "duration": 26,
    "start_time": "2021-07-22T06:13:26.688Z"
   },
   {
    "duration": 52,
    "start_time": "2021-07-22T06:13:26.717Z"
   },
   {
    "duration": 9023,
    "start_time": "2021-07-22T06:13:26.771Z"
   },
   {
    "duration": 3903,
    "start_time": "2021-07-22T06:13:35.796Z"
   },
   {
    "duration": 5705,
    "start_time": "2021-07-22T06:13:39.702Z"
   },
   {
    "duration": 69,
    "start_time": "2021-07-22T06:13:45.411Z"
   },
   {
    "duration": 33,
    "start_time": "2021-07-22T06:13:45.483Z"
   },
   {
    "duration": 16,
    "start_time": "2021-07-22T06:13:58.483Z"
   },
   {
    "duration": 20,
    "start_time": "2021-07-22T06:13:59.056Z"
   },
   {
    "duration": 28,
    "start_time": "2021-07-22T06:14:01.381Z"
   },
   {
    "duration": 21,
    "start_time": "2021-07-22T06:14:01.891Z"
   },
   {
    "duration": 9088,
    "start_time": "2021-07-22T06:14:08.414Z"
   },
   {
    "duration": 3912,
    "start_time": "2021-07-22T06:14:29.826Z"
   },
   {
    "duration": 5701,
    "start_time": "2021-07-22T06:14:33.741Z"
   },
   {
    "duration": 79,
    "start_time": "2021-07-22T06:14:39.445Z"
   },
   {
    "duration": 49,
    "start_time": "2021-07-22T06:14:39.526Z"
   },
   {
    "duration": 33,
    "start_time": "2021-07-22T06:15:01.028Z"
   },
   {
    "duration": 147,
    "start_time": "2021-07-22T06:23:49.593Z"
   },
   {
    "duration": 7,
    "start_time": "2021-07-22T06:23:53.648Z"
   },
   {
    "duration": 6,
    "start_time": "2021-07-22T06:24:08.004Z"
   },
   {
    "duration": 16591,
    "start_time": "2021-07-22T06:24:16.190Z"
   },
   {
    "duration": 7,
    "start_time": "2021-07-22T06:25:11.002Z"
   },
   {
    "duration": 12350,
    "start_time": "2021-07-22T06:25:11.442Z"
   },
   {
    "duration": 19,
    "start_time": "2021-07-22T06:26:00.967Z"
   },
   {
    "duration": 33,
    "start_time": "2021-07-22T06:26:04.889Z"
   },
   {
    "duration": 7,
    "start_time": "2021-07-22T06:26:59.858Z"
   },
   {
    "duration": 12118,
    "start_time": "2021-07-22T06:27:00.354Z"
   },
   {
    "duration": 6352,
    "start_time": "2021-07-22T06:28:06.517Z"
   },
   {
    "duration": 37,
    "start_time": "2021-07-22T06:28:27.935Z"
   },
   {
    "duration": 14,
    "start_time": "2021-07-22T06:28:48.997Z"
   },
   {
    "duration": 10,
    "start_time": "2021-07-22T06:28:57.730Z"
   },
   {
    "duration": 10,
    "start_time": "2021-07-22T06:30:01.002Z"
   },
   {
    "duration": 1018,
    "start_time": "2021-07-22T06:30:18.081Z"
   },
   {
    "duration": 6,
    "start_time": "2021-07-22T06:31:21.568Z"
   },
   {
    "duration": 1040,
    "start_time": "2021-07-22T06:31:21.778Z"
   },
   {
    "duration": 4,
    "start_time": "2021-07-22T06:31:40.662Z"
   },
   {
    "duration": 67,
    "start_time": "2021-07-22T06:31:41.271Z"
   },
   {
    "duration": 4,
    "start_time": "2021-07-22T06:33:12.995Z"
   },
   {
    "duration": 6164,
    "start_time": "2021-07-22T06:33:13.574Z"
   },
   {
    "duration": 5,
    "start_time": "2021-07-22T06:33:52.290Z"
   },
   {
    "duration": 10434,
    "start_time": "2021-07-22T06:33:53.179Z"
   },
   {
    "duration": 4,
    "start_time": "2021-07-22T06:34:14.464Z"
   },
   {
    "duration": 59,
    "start_time": "2021-07-22T06:34:15.797Z"
   },
   {
    "duration": 4,
    "start_time": "2021-07-22T06:34:32.186Z"
   },
   {
    "duration": 71,
    "start_time": "2021-07-22T06:34:32.427Z"
   },
   {
    "duration": 4,
    "start_time": "2021-07-22T06:34:44.312Z"
   },
   {
    "duration": 6294,
    "start_time": "2021-07-22T06:34:46.400Z"
   },
   {
    "duration": 4,
    "start_time": "2021-07-22T06:35:06.343Z"
   },
   {
    "duration": 7378,
    "start_time": "2021-07-22T06:35:06.943Z"
   },
   {
    "duration": 10,
    "start_time": "2021-07-22T06:35:43.880Z"
   },
   {
    "duration": 8771,
    "start_time": "2021-07-22T06:36:41.265Z"
   },
   {
    "duration": 523,
    "start_time": "2021-07-22T06:36:58.102Z"
   },
   {
    "duration": 8505,
    "start_time": "2021-07-22T06:37:04.421Z"
   },
   {
    "duration": 5919,
    "start_time": "2021-07-22T06:37:41.879Z"
   },
   {
    "duration": 3707,
    "start_time": "2021-07-22T06:37:56.888Z"
   },
   {
    "duration": 3752,
    "start_time": "2021-07-22T06:38:23.736Z"
   },
   {
    "duration": 6566,
    "start_time": "2021-07-22T06:38:47.918Z"
   },
   {
    "duration": 36,
    "start_time": "2021-07-22T06:39:02.758Z"
   },
   {
    "duration": 3,
    "start_time": "2021-07-22T06:39:42.353Z"
   },
   {
    "duration": 3696,
    "start_time": "2021-07-22T06:39:43.013Z"
   },
   {
    "duration": 38,
    "start_time": "2021-07-22T06:39:46.711Z"
   },
   {
    "duration": 65,
    "start_time": "2021-07-22T06:39:56.189Z"
   },
   {
    "duration": 160,
    "start_time": "2021-07-22T06:44:12.227Z"
   },
   {
    "duration": 4,
    "start_time": "2021-07-22T06:44:28.367Z"
   },
   {
    "duration": 6369,
    "start_time": "2021-07-22T06:44:28.374Z"
   },
   {
    "duration": 3187,
    "start_time": "2021-07-22T06:49:09.963Z"
   },
   {
    "duration": 2138,
    "start_time": "2021-07-22T06:49:24.120Z"
   },
   {
    "duration": 6,
    "start_time": "2021-07-22T06:50:00.409Z"
   },
   {
    "duration": 819,
    "start_time": "2021-07-22T06:50:01.755Z"
   },
   {
    "duration": 7,
    "start_time": "2021-07-22T06:50:34.376Z"
   },
   {
    "duration": 728,
    "start_time": "2021-07-22T06:50:35.072Z"
   },
   {
    "duration": 7,
    "start_time": "2021-07-22T06:50:56.200Z"
   },
   {
    "duration": 723,
    "start_time": "2021-07-22T06:50:56.754Z"
   },
   {
    "duration": 6,
    "start_time": "2021-07-22T06:51:18.435Z"
   },
   {
    "duration": 723,
    "start_time": "2021-07-22T06:51:18.801Z"
   },
   {
    "duration": 6,
    "start_time": "2021-07-22T06:51:48.232Z"
   },
   {
    "duration": 756,
    "start_time": "2021-07-22T06:51:48.538Z"
   },
   {
    "duration": 6,
    "start_time": "2021-07-22T06:52:10.770Z"
   },
   {
    "duration": 756,
    "start_time": "2021-07-22T06:52:11.248Z"
   },
   {
    "duration": 6,
    "start_time": "2021-07-22T06:52:22.695Z"
   },
   {
    "duration": 794,
    "start_time": "2021-07-22T06:52:23.178Z"
   },
   {
    "duration": 785,
    "start_time": "2021-07-22T06:52:40.212Z"
   },
   {
    "duration": 793,
    "start_time": "2021-07-22T06:52:48.237Z"
   },
   {
    "duration": 7,
    "start_time": "2021-07-22T06:53:15.103Z"
   },
   {
    "duration": 808,
    "start_time": "2021-07-22T06:53:15.542Z"
   },
   {
    "duration": 5335,
    "start_time": "2021-07-22T06:53:29.481Z"
   },
   {
    "duration": 6,
    "start_time": "2021-07-22T06:53:57.930Z"
   },
   {
    "duration": 5494,
    "start_time": "2021-07-22T06:53:59.053Z"
   },
   {
    "duration": 5,
    "start_time": "2021-07-22T06:54:37.054Z"
   },
   {
    "duration": 5623,
    "start_time": "2021-07-22T06:54:38.314Z"
   },
   {
    "duration": 6,
    "start_time": "2021-07-22T06:55:03.168Z"
   },
   {
    "duration": 902,
    "start_time": "2021-07-22T06:55:03.667Z"
   },
   {
    "duration": 5,
    "start_time": "2021-07-22T06:55:18.274Z"
   },
   {
    "duration": 806,
    "start_time": "2021-07-22T06:55:18.504Z"
   },
   {
    "duration": 6,
    "start_time": "2021-07-22T06:55:32.496Z"
   },
   {
    "duration": 781,
    "start_time": "2021-07-22T06:55:36.568Z"
   },
   {
    "duration": 20,
    "start_time": "2021-07-22T06:56:29.609Z"
   },
   {
    "duration": 22,
    "start_time": "2021-07-22T06:56:35.037Z"
   },
   {
    "duration": 58,
    "start_time": "2021-07-22T07:41:33.663Z"
   },
   {
    "duration": 62,
    "start_time": "2021-07-22T07:41:50.746Z"
   },
   {
    "duration": 12,
    "start_time": "2021-07-22T07:42:31.014Z"
   },
   {
    "duration": 371,
    "start_time": "2021-07-22T07:42:36.998Z"
   },
   {
    "duration": 56,
    "start_time": "2021-07-22T07:42:47.009Z"
   },
   {
    "duration": 34,
    "start_time": "2021-07-22T07:42:50.079Z"
   },
   {
    "duration": 6,
    "start_time": "2021-07-22T07:43:57.125Z"
   },
   {
    "duration": 486,
    "start_time": "2021-07-22T07:44:20.087Z"
   },
   {
    "duration": 1203,
    "start_time": "2021-07-22T07:44:30.299Z"
   },
   {
    "duration": 5,
    "start_time": "2021-07-22T07:45:03.528Z"
   },
   {
    "duration": 1150,
    "start_time": "2021-07-22T07:45:03.902Z"
   },
   {
    "duration": 6,
    "start_time": "2021-07-22T07:45:31.805Z"
   },
   {
    "duration": 9838,
    "start_time": "2021-07-22T07:45:32.283Z"
   },
   {
    "duration": 6,
    "start_time": "2021-07-22T07:46:41.794Z"
   },
   {
    "duration": 10380,
    "start_time": "2021-07-22T07:46:42.174Z"
   },
   {
    "duration": 6,
    "start_time": "2021-07-22T07:47:15.892Z"
   },
   {
    "duration": 10396,
    "start_time": "2021-07-22T07:47:16.142Z"
   },
   {
    "duration": 7,
    "start_time": "2021-07-22T07:47:46.027Z"
   },
   {
    "duration": 10215,
    "start_time": "2021-07-22T07:47:46.249Z"
   },
   {
    "duration": 7,
    "start_time": "2021-07-22T07:48:20.469Z"
   },
   {
    "duration": 1274,
    "start_time": "2021-07-22T07:48:21.896Z"
   },
   {
    "duration": 6,
    "start_time": "2021-07-22T07:48:42.031Z"
   },
   {
    "duration": 1136,
    "start_time": "2021-07-22T07:48:43.404Z"
   },
   {
    "duration": 6,
    "start_time": "2021-07-22T07:48:59.259Z"
   },
   {
    "duration": 13523,
    "start_time": "2021-07-22T07:48:59.832Z"
   },
   {
    "duration": 7,
    "start_time": "2021-07-22T07:50:00.471Z"
   },
   {
    "duration": 12165,
    "start_time": "2021-07-22T07:50:00.646Z"
   },
   {
    "duration": 7,
    "start_time": "2021-07-22T09:01:37.858Z"
   },
   {
    "duration": 15146,
    "start_time": "2021-07-22T09:01:38.271Z"
   },
   {
    "duration": 7,
    "start_time": "2021-07-22T09:02:23.742Z"
   },
   {
    "duration": 22138,
    "start_time": "2021-07-22T09:02:24.075Z"
   },
   {
    "duration": 8,
    "start_time": "2021-07-22T09:03:23.967Z"
   },
   {
    "duration": 1015,
    "start_time": "2021-07-22T09:03:45.723Z"
   },
   {
    "duration": 1009,
    "start_time": "2021-07-22T09:03:45.731Z"
   },
   {
    "duration": 8,
    "start_time": "2021-07-22T09:03:55.175Z"
   },
   {
    "duration": 22537,
    "start_time": "2021-07-22T09:03:55.944Z"
   },
   {
    "duration": 8,
    "start_time": "2021-07-22T09:04:48.611Z"
   },
   {
    "duration": 33354,
    "start_time": "2021-07-22T09:04:48.869Z"
   },
   {
    "duration": 7,
    "start_time": "2021-07-22T09:05:40.088Z"
   },
   {
    "duration": 17213,
    "start_time": "2021-07-22T09:05:40.269Z"
   },
   {
    "duration": 8,
    "start_time": "2021-07-22T09:06:23.107Z"
   },
   {
    "duration": 1095,
    "start_time": "2021-07-22T09:06:23.481Z"
   },
   {
    "duration": 7,
    "start_time": "2021-07-22T09:06:58.505Z"
   },
   {
    "duration": 13431,
    "start_time": "2021-07-22T09:06:58.763Z"
   },
   {
    "duration": 4,
    "start_time": "2021-07-22T09:12:46.903Z"
   },
   {
    "duration": 1200,
    "start_time": "2021-07-22T09:12:47.248Z"
   },
   {
    "duration": 4,
    "start_time": "2021-07-22T09:13:05.090Z"
   },
   {
    "duration": 4423,
    "start_time": "2021-07-22T09:13:05.470Z"
   },
   {
    "duration": 5,
    "start_time": "2021-07-22T09:18:36.310Z"
   },
   {
    "duration": 18975,
    "start_time": "2021-07-22T09:18:36.896Z"
   },
   {
    "duration": 6,
    "start_time": "2021-07-22T09:20:13.838Z"
   },
   {
    "duration": 33785,
    "start_time": "2021-07-22T09:20:14.318Z"
   },
   {
    "duration": 6,
    "start_time": "2021-07-22T09:23:24.825Z"
   },
   {
    "duration": 37153,
    "start_time": "2021-07-22T09:23:25.222Z"
   },
   {
    "duration": 6,
    "start_time": "2021-07-22T09:25:00.005Z"
   },
   {
    "duration": 39351,
    "start_time": "2021-07-22T09:25:00.299Z"
   },
   {
    "duration": 6,
    "start_time": "2021-07-22T09:26:51.216Z"
   },
   {
    "duration": 36567,
    "start_time": "2021-07-22T09:26:51.433Z"
   },
   {
    "duration": 6,
    "start_time": "2021-07-22T09:27:28.584Z"
   },
   {
    "duration": 36306,
    "start_time": "2021-07-22T09:27:29.472Z"
   },
   {
    "duration": 6,
    "start_time": "2021-07-22T09:28:41.998Z"
   },
   {
    "duration": 6,
    "start_time": "2021-07-22T09:29:18.167Z"
   },
   {
    "duration": 37492,
    "start_time": "2021-07-22T09:29:18.175Z"
   },
   {
    "duration": 6,
    "start_time": "2021-07-22T09:30:20.144Z"
   },
   {
    "duration": 1026,
    "start_time": "2021-07-22T09:30:57.807Z"
   },
   {
    "duration": 1017,
    "start_time": "2021-07-22T09:30:57.817Z"
   },
   {
    "duration": 6,
    "start_time": "2021-07-22T09:31:01.085Z"
   },
   {
    "duration": 34700,
    "start_time": "2021-07-22T09:31:01.679Z"
   },
   {
    "duration": 6,
    "start_time": "2021-07-22T09:32:48.946Z"
   },
   {
    "duration": 1430,
    "start_time": "2021-07-22T09:32:50.689Z"
   },
   {
    "duration": 6,
    "start_time": "2021-07-22T09:33:17.226Z"
   },
   {
    "duration": 13487,
    "start_time": "2021-07-22T09:33:17.414Z"
   },
   {
    "duration": 6,
    "start_time": "2021-07-22T09:33:53.673Z"
   },
   {
    "duration": 12958,
    "start_time": "2021-07-22T09:33:53.909Z"
   },
   {
    "duration": 6,
    "start_time": "2021-07-22T09:34:37.922Z"
   },
   {
    "duration": 35751,
    "start_time": "2021-07-22T09:34:38.117Z"
   },
   {
    "duration": 5,
    "start_time": "2021-07-22T09:35:27.808Z"
   },
   {
    "duration": 1125,
    "start_time": "2021-07-22T09:35:28.041Z"
   },
   {
    "duration": 6,
    "start_time": "2021-07-22T09:35:39.089Z"
   },
   {
    "duration": 35169,
    "start_time": "2021-07-22T09:35:39.268Z"
   },
   {
    "duration": 123,
    "start_time": "2021-07-22T09:36:18.661Z"
   },
   {
    "duration": 1042,
    "start_time": "2021-07-22T09:36:51.727Z"
   },
   {
    "duration": 1035,
    "start_time": "2021-07-22T09:36:51.735Z"
   },
   {
    "duration": 6,
    "start_time": "2021-07-22T09:36:56.737Z"
   },
   {
    "duration": 6,
    "start_time": "2021-07-22T09:37:02.771Z"
   },
   {
    "duration": 1133,
    "start_time": "2021-07-22T09:37:05.036Z"
   },
   {
    "duration": 6,
    "start_time": "2021-07-22T09:37:21.334Z"
   },
   {
    "duration": 12811,
    "start_time": "2021-07-22T09:37:21.573Z"
   },
   {
    "duration": 6,
    "start_time": "2021-07-22T09:38:12.253Z"
   },
   {
    "duration": 12956,
    "start_time": "2021-07-22T09:38:12.693Z"
   },
   {
    "duration": 12,
    "start_time": "2021-07-22T09:38:40.406Z"
   },
   {
    "duration": 1316,
    "start_time": "2021-07-22T09:38:40.627Z"
   },
   {
    "duration": 6,
    "start_time": "2021-07-22T09:39:04.575Z"
   },
   {
    "duration": 1204,
    "start_time": "2021-07-22T09:39:04.739Z"
   },
   {
    "duration": 9,
    "start_time": "2021-07-22T09:39:28.574Z"
   },
   {
    "duration": 1423,
    "start_time": "2021-07-22T09:39:28.764Z"
   },
   {
    "duration": 6,
    "start_time": "2021-07-22T10:08:10.554Z"
   },
   {
    "duration": 1140,
    "start_time": "2021-07-22T10:08:10.705Z"
   },
   {
    "duration": 7,
    "start_time": "2021-07-22T10:08:38.473Z"
   },
   {
    "duration": 13335,
    "start_time": "2021-07-22T10:08:38.699Z"
   },
   {
    "duration": 7,
    "start_time": "2021-07-22T10:09:16.446Z"
   },
   {
    "duration": 20041,
    "start_time": "2021-07-22T10:09:16.661Z"
   },
   {
    "duration": 992,
    "start_time": "2021-07-22T10:09:35.714Z"
   },
   {
    "duration": 9,
    "start_time": "2021-07-22T10:09:38.889Z"
   },
   {
    "duration": 14237,
    "start_time": "2021-07-22T10:09:41.735Z"
   },
   {
    "duration": 6,
    "start_time": "2021-07-22T10:10:28.417Z"
   },
   {
    "duration": 1067,
    "start_time": "2021-07-22T10:10:28.813Z"
   },
   {
    "duration": 6,
    "start_time": "2021-07-22T10:11:26.367Z"
   },
   {
    "duration": 14444,
    "start_time": "2021-07-22T10:11:26.622Z"
   },
   {
    "duration": 7,
    "start_time": "2021-07-22T11:01:57.305Z"
   },
   {
    "duration": 1240,
    "start_time": "2021-07-22T11:01:57.800Z"
   },
   {
    "duration": 8,
    "start_time": "2021-07-22T11:03:22.580Z"
   },
   {
    "duration": 1666,
    "start_time": "2021-07-22T11:03:23.159Z"
   },
   {
    "duration": 8,
    "start_time": "2021-07-22T11:03:55.551Z"
   },
   {
    "duration": 12942,
    "start_time": "2021-07-22T11:03:55.711Z"
   },
   {
    "duration": 8,
    "start_time": "2021-07-22T11:04:42.181Z"
   },
   {
    "duration": 1112,
    "start_time": "2021-07-22T11:04:42.463Z"
   },
   {
    "duration": 9,
    "start_time": "2021-07-22T11:05:03.572Z"
   },
   {
    "duration": 1103,
    "start_time": "2021-07-22T11:05:03.728Z"
   },
   {
    "duration": 12,
    "start_time": "2021-07-22T11:05:13.456Z"
   },
   {
    "duration": 9,
    "start_time": "2021-07-22T11:05:40.077Z"
   },
   {
    "duration": 405,
    "start_time": "2021-07-22T11:05:41.480Z"
   },
   {
    "duration": 1839,
    "start_time": "2021-07-22T11:05:50.924Z"
   },
   {
    "duration": 74,
    "start_time": "2021-07-22T11:05:52.766Z"
   },
   {
    "duration": 27,
    "start_time": "2021-07-22T11:05:52.843Z"
   },
   {
    "duration": 73,
    "start_time": "2021-07-22T11:05:52.872Z"
   },
   {
    "duration": 27,
    "start_time": "2021-07-22T11:05:52.947Z"
   },
   {
    "duration": 47,
    "start_time": "2021-07-22T11:05:52.977Z"
   },
   {
    "duration": 10,
    "start_time": "2021-07-22T11:05:53.027Z"
   },
   {
    "duration": 67,
    "start_time": "2021-07-22T11:05:53.040Z"
   },
   {
    "duration": 12,
    "start_time": "2021-07-22T11:05:53.110Z"
   },
   {
    "duration": 59,
    "start_time": "2021-07-22T11:05:53.125Z"
   },
   {
    "duration": 17,
    "start_time": "2021-07-22T11:05:53.186Z"
   },
   {
    "duration": 86,
    "start_time": "2021-07-22T11:05:53.205Z"
   },
   {
    "duration": 46,
    "start_time": "2021-07-22T11:05:53.293Z"
   },
   {
    "duration": 53,
    "start_time": "2021-07-22T11:05:53.342Z"
   },
   {
    "duration": 15,
    "start_time": "2021-07-22T11:05:53.398Z"
   },
   {
    "duration": 23,
    "start_time": "2021-07-22T11:05:53.416Z"
   },
   {
    "duration": 20,
    "start_time": "2021-07-22T11:05:53.467Z"
   },
   {
    "duration": 43,
    "start_time": "2021-07-22T11:05:53.489Z"
   },
   {
    "duration": 565,
    "start_time": "2021-07-22T11:05:53.535Z"
   },
   {
    "duration": 427,
    "start_time": "2021-07-22T11:05:54.102Z"
   },
   {
    "duration": 38,
    "start_time": "2021-07-22T11:05:54.531Z"
   },
   {
    "duration": 4,
    "start_time": "2021-07-22T11:05:54.571Z"
   },
   {
    "duration": 23,
    "start_time": "2021-07-22T11:05:54.580Z"
   },
   {
    "duration": 66,
    "start_time": "2021-07-22T11:05:54.606Z"
   },
   {
    "duration": 10,
    "start_time": "2021-07-22T11:05:54.674Z"
   },
   {
    "duration": 23,
    "start_time": "2021-07-22T11:05:54.687Z"
   },
   {
    "duration": 58,
    "start_time": "2021-07-22T11:05:54.713Z"
   },
   {
    "duration": 397,
    "start_time": "2021-07-22T11:05:54.774Z"
   },
   {
    "duration": 420,
    "start_time": "2021-07-22T11:05:55.174Z"
   },
   {
    "duration": 28,
    "start_time": "2021-07-22T11:05:55.597Z"
   },
   {
    "duration": 39,
    "start_time": "2021-07-22T11:05:55.628Z"
   },
   {
    "duration": 20,
    "start_time": "2021-07-22T11:05:55.670Z"
   },
   {
    "duration": 30,
    "start_time": "2021-07-22T11:05:55.693Z"
   },
   {
    "duration": 57,
    "start_time": "2021-07-22T11:05:55.726Z"
   },
   {
    "duration": 8886,
    "start_time": "2021-07-22T11:05:55.786Z"
   },
   {
    "duration": 4014,
    "start_time": "2021-07-22T11:06:04.675Z"
   },
   {
    "duration": 5707,
    "start_time": "2021-07-22T11:06:08.691Z"
   },
   {
    "duration": 70,
    "start_time": "2021-07-22T11:06:14.400Z"
   },
   {
    "duration": 35,
    "start_time": "2021-07-22T11:06:14.472Z"
   },
   {
    "duration": 10,
    "start_time": "2021-07-22T11:06:14.509Z"
   },
   {
    "duration": 8,
    "start_time": "2021-07-22T11:06:14.521Z"
   },
   {
    "duration": 13303,
    "start_time": "2021-07-22T11:06:14.532Z"
   },
   {
    "duration": 8,
    "start_time": "2021-07-22T11:06:57.343Z"
   },
   {
    "duration": 1218,
    "start_time": "2021-07-22T11:06:57.861Z"
   },
   {
    "duration": 8,
    "start_time": "2021-07-22T11:07:17.241Z"
   },
   {
    "duration": 13319,
    "start_time": "2021-07-22T11:07:17.690Z"
   },
   {
    "duration": 7,
    "start_time": "2021-07-22T11:07:34.085Z"
   },
   {
    "duration": 12494,
    "start_time": "2021-07-22T11:07:34.484Z"
   },
   {
    "duration": 7,
    "start_time": "2021-07-22T11:08:28.630Z"
   },
   {
    "duration": 14375,
    "start_time": "2021-07-22T11:08:28.885Z"
   },
   {
    "duration": 8,
    "start_time": "2021-07-22T11:08:59.607Z"
   },
   {
    "duration": 1240,
    "start_time": "2021-07-22T11:08:59.743Z"
   },
   {
    "duration": 7,
    "start_time": "2021-07-22T11:09:18.706Z"
   },
   {
    "duration": 15655,
    "start_time": "2021-07-22T11:09:18.949Z"
   },
   {
    "duration": 9,
    "start_time": "2021-07-22T11:12:41.062Z"
   },
   {
    "duration": 1578,
    "start_time": "2021-07-22T11:12:41.819Z"
   },
   {
    "duration": 9,
    "start_time": "2021-07-22T11:14:27.903Z"
   },
   {
    "duration": 1109,
    "start_time": "2021-07-22T11:14:27.915Z"
   },
   {
    "duration": 10,
    "start_time": "2021-07-22T11:14:46.179Z"
   },
   {
    "duration": 2909,
    "start_time": "2021-07-22T11:14:47.737Z"
   },
   {
    "duration": 9,
    "start_time": "2021-07-22T11:15:17.813Z"
   },
   {
    "duration": 1925,
    "start_time": "2021-07-22T11:15:18.230Z"
   },
   {
    "duration": 10,
    "start_time": "2021-07-22T11:15:56.677Z"
   },
   {
    "duration": 1649,
    "start_time": "2021-07-22T11:15:57.072Z"
   },
   {
    "duration": 10,
    "start_time": "2021-07-22T11:16:47.811Z"
   },
   {
    "duration": 1501,
    "start_time": "2021-07-22T11:16:48.776Z"
   },
   {
    "duration": 10,
    "start_time": "2021-07-22T11:16:59.828Z"
   },
   {
    "duration": 1310,
    "start_time": "2021-07-22T11:16:59.997Z"
   },
   {
    "duration": 10,
    "start_time": "2021-07-22T11:17:15.889Z"
   },
   {
    "duration": 1200,
    "start_time": "2021-07-22T11:17:16.044Z"
   },
   {
    "duration": 15,
    "start_time": "2021-07-22T11:17:33.258Z"
   },
   {
    "duration": 1188,
    "start_time": "2021-07-22T11:17:33.699Z"
   },
   {
    "duration": 11,
    "start_time": "2021-07-22T11:17:45.682Z"
   },
   {
    "duration": 1146,
    "start_time": "2021-07-22T11:17:45.887Z"
   },
   {
    "duration": 9,
    "start_time": "2021-07-22T11:17:56.858Z"
   },
   {
    "duration": 1094,
    "start_time": "2021-07-22T11:17:57.276Z"
   },
   {
    "duration": 9,
    "start_time": "2021-07-22T11:18:10.371Z"
   },
   {
    "duration": 1242,
    "start_time": "2021-07-22T11:18:10.600Z"
   },
   {
    "duration": 10,
    "start_time": "2021-07-22T11:18:23.372Z"
   },
   {
    "duration": 1605,
    "start_time": "2021-07-22T11:18:23.599Z"
   },
   {
    "duration": 10,
    "start_time": "2021-07-22T11:19:08.901Z"
   },
   {
    "duration": 1110,
    "start_time": "2021-07-22T11:19:09.098Z"
   },
   {
    "duration": 10,
    "start_time": "2021-07-22T11:19:21.425Z"
   },
   {
    "duration": 1290,
    "start_time": "2021-07-22T11:19:21.715Z"
   },
   {
    "duration": 9,
    "start_time": "2021-07-22T11:19:42.981Z"
   },
   {
    "duration": 1693,
    "start_time": "2021-07-22T11:19:43.170Z"
   },
   {
    "duration": 11,
    "start_time": "2021-07-22T11:20:35.943Z"
   },
   {
    "duration": 1662,
    "start_time": "2021-07-22T11:20:36.149Z"
   },
   {
    "duration": 12,
    "start_time": "2021-07-22T11:21:14.630Z"
   },
   {
    "duration": 1748,
    "start_time": "2021-07-22T11:21:15.145Z"
   },
   {
    "duration": 11,
    "start_time": "2021-07-22T11:21:54.654Z"
   },
   {
    "duration": 1139,
    "start_time": "2021-07-22T11:21:54.859Z"
   },
   {
    "duration": 11,
    "start_time": "2021-07-22T11:23:10.676Z"
   },
   {
    "duration": 1641,
    "start_time": "2021-07-22T11:23:11.126Z"
   },
   {
    "duration": 15,
    "start_time": "2021-07-22T11:23:30.328Z"
   },
   {
    "duration": 1585,
    "start_time": "2021-07-22T11:23:30.561Z"
   },
   {
    "duration": 10,
    "start_time": "2021-07-22T11:23:54.067Z"
   },
   {
    "duration": 11,
    "start_time": "2021-07-22T11:24:28.255Z"
   },
   {
    "duration": 2140,
    "start_time": "2021-07-22T11:24:28.871Z"
   },
   {
    "duration": 11,
    "start_time": "2021-07-22T11:24:42.646Z"
   },
   {
    "duration": 1710,
    "start_time": "2021-07-22T11:24:42.820Z"
   },
   {
    "duration": 10,
    "start_time": "2021-07-22T11:24:53.019Z"
   },
   {
    "duration": 1747,
    "start_time": "2021-07-22T11:24:53.189Z"
   },
   {
    "duration": 11,
    "start_time": "2021-07-22T11:25:35.990Z"
   },
   {
    "duration": 1662,
    "start_time": "2021-07-22T11:25:36.161Z"
   },
   {
    "duration": 201,
    "start_time": "2021-07-22T11:28:11.832Z"
   },
   {
    "duration": 1043,
    "start_time": "2021-07-22T11:28:10.992Z"
   },
   {
    "duration": 10,
    "start_time": "2021-07-22T11:28:16.687Z"
   },
   {
    "duration": 1589,
    "start_time": "2021-07-22T11:28:16.935Z"
   },
   {
    "duration": 9,
    "start_time": "2021-07-22T11:29:19.022Z"
   },
   {
    "duration": 1847,
    "start_time": "2021-07-22T11:29:19.198Z"
   },
   {
    "duration": 10,
    "start_time": "2021-07-22T11:29:29.703Z"
   },
   {
    "duration": 1661,
    "start_time": "2021-07-22T11:29:30.131Z"
   },
   {
    "duration": 10,
    "start_time": "2021-07-22T11:29:38.919Z"
   },
   {
    "duration": 1607,
    "start_time": "2021-07-22T11:29:39.113Z"
   },
   {
    "duration": 11,
    "start_time": "2021-07-22T11:30:14.911Z"
   },
   {
    "duration": 23441,
    "start_time": "2021-07-22T11:30:15.418Z"
   },
   {
    "duration": 11,
    "start_time": "2021-07-22T11:32:21.129Z"
   },
   {
    "duration": 21888,
    "start_time": "2021-07-22T11:32:21.315Z"
   },
   {
    "duration": 16,
    "start_time": "2021-07-22T11:34:10.598Z"
   },
   {
    "duration": 1925,
    "start_time": "2021-07-22T11:34:11.222Z"
   },
   {
    "duration": 12,
    "start_time": "2021-07-22T11:34:46.510Z"
   },
   {
    "duration": 1852,
    "start_time": "2021-07-22T11:35:20.723Z"
   },
   {
    "duration": 72,
    "start_time": "2021-07-22T11:35:22.578Z"
   },
   {
    "duration": 24,
    "start_time": "2021-07-22T11:35:22.652Z"
   },
   {
    "duration": 61,
    "start_time": "2021-07-22T11:35:22.678Z"
   },
   {
    "duration": 33,
    "start_time": "2021-07-22T11:35:22.741Z"
   },
   {
    "duration": 34,
    "start_time": "2021-07-22T11:35:22.776Z"
   },
   {
    "duration": 9,
    "start_time": "2021-07-22T11:35:22.812Z"
   },
   {
    "duration": 87,
    "start_time": "2021-07-22T11:35:22.824Z"
   },
   {
    "duration": 12,
    "start_time": "2021-07-22T11:35:22.914Z"
   },
   {
    "duration": 27,
    "start_time": "2021-07-22T11:35:22.967Z"
   },
   {
    "duration": 17,
    "start_time": "2021-07-22T11:35:22.997Z"
   },
   {
    "duration": 131,
    "start_time": "2021-07-22T11:35:23.017Z"
   },
   {
    "duration": 82,
    "start_time": "2021-07-22T11:35:23.151Z"
   },
   {
    "duration": 72,
    "start_time": "2021-07-22T11:35:23.237Z"
   },
   {
    "duration": 16,
    "start_time": "2021-07-22T11:35:23.311Z"
   },
   {
    "duration": 41,
    "start_time": "2021-07-22T11:35:23.329Z"
   },
   {
    "duration": 20,
    "start_time": "2021-07-22T11:35:23.372Z"
   },
   {
    "duration": 46,
    "start_time": "2021-07-22T11:35:23.394Z"
   },
   {
    "duration": 561,
    "start_time": "2021-07-22T11:35:23.443Z"
   },
   {
    "duration": 432,
    "start_time": "2021-07-22T11:35:24.007Z"
   },
   {
    "duration": 45,
    "start_time": "2021-07-22T11:35:24.441Z"
   },
   {
    "duration": 6,
    "start_time": "2021-07-22T11:35:24.488Z"
   },
   {
    "duration": 21,
    "start_time": "2021-07-22T11:35:24.502Z"
   },
   {
    "duration": 71,
    "start_time": "2021-07-22T11:35:24.527Z"
   },
   {
    "duration": 10,
    "start_time": "2021-07-22T11:35:24.601Z"
   },
   {
    "duration": 23,
    "start_time": "2021-07-22T11:35:24.614Z"
   },
   {
    "duration": 34,
    "start_time": "2021-07-22T11:35:24.668Z"
   },
   {
    "duration": 415,
    "start_time": "2021-07-22T11:35:24.705Z"
   },
   {
    "duration": 459,
    "start_time": "2021-07-22T11:35:25.122Z"
   },
   {
    "duration": 42,
    "start_time": "2021-07-22T11:35:25.584Z"
   },
   {
    "duration": 47,
    "start_time": "2021-07-22T11:35:25.629Z"
   },
   {
    "duration": 23,
    "start_time": "2021-07-22T11:35:25.679Z"
   },
   {
    "duration": 29,
    "start_time": "2021-07-22T11:35:25.705Z"
   },
   {
    "duration": 24,
    "start_time": "2021-07-22T11:35:25.768Z"
   },
   {
    "duration": 8879,
    "start_time": "2021-07-22T11:35:25.795Z"
   },
   {
    "duration": 4170,
    "start_time": "2021-07-22T11:35:34.677Z"
   },
   {
    "duration": 5794,
    "start_time": "2021-07-22T11:35:38.850Z"
   },
   {
    "duration": 71,
    "start_time": "2021-07-22T11:35:44.646Z"
   },
   {
    "duration": 34,
    "start_time": "2021-07-22T11:35:44.719Z"
   },
   {
    "duration": 11,
    "start_time": "2021-07-22T11:35:44.767Z"
   },
   {
    "duration": 14,
    "start_time": "2021-07-22T11:35:44.781Z"
   },
   {
    "duration": 20237,
    "start_time": "2021-07-22T11:35:44.798Z"
   },
   {
    "duration": 254,
    "start_time": "2021-07-22T11:37:40.539Z"
   },
   {
    "duration": 14,
    "start_time": "2021-07-22T11:37:53.504Z"
   },
   {
    "duration": 21650,
    "start_time": "2021-07-22T11:37:54.146Z"
   },
   {
    "duration": 14,
    "start_time": "2021-07-22T11:38:31.368Z"
   },
   {
    "duration": 21798,
    "start_time": "2021-07-22T11:38:31.541Z"
   },
   {
    "duration": 13,
    "start_time": "2021-07-22T11:39:27.013Z"
   },
   {
    "duration": 20495,
    "start_time": "2021-07-22T11:39:27.605Z"
   },
   {
    "duration": 14,
    "start_time": "2021-07-22T11:40:58.599Z"
   },
   {
    "duration": 23438,
    "start_time": "2021-07-22T11:40:59.108Z"
   },
   {
    "duration": 14,
    "start_time": "2021-07-22T11:41:51.979Z"
   },
   {
    "duration": 61469,
    "start_time": "2021-07-22T11:41:52.208Z"
   },
   {
    "duration": 1051,
    "start_time": "2021-07-22T11:43:29.810Z"
   },
   {
    "duration": 1047,
    "start_time": "2021-07-22T11:43:29.816Z"
   },
   {
    "duration": 17,
    "start_time": "2021-07-22T11:43:35.126Z"
   },
   {
    "duration": 51831,
    "start_time": "2021-07-22T11:43:38.164Z"
   },
   {
    "duration": 42,
    "start_time": "2021-07-22T11:45:07.940Z"
   },
   {
    "duration": 11,
    "start_time": "2021-07-22T11:46:03.732Z"
   },
   {
    "duration": 8,
    "start_time": "2021-07-22T11:46:47.814Z"
   },
   {
    "duration": 7,
    "start_time": "2021-07-22T11:46:53.643Z"
   },
   {
    "duration": 6,
    "start_time": "2021-07-22T11:47:03.478Z"
   },
   {
    "duration": 7,
    "start_time": "2021-07-22T11:47:51.609Z"
   },
   {
    "duration": 7,
    "start_time": "2021-07-22T11:49:08.502Z"
   },
   {
    "duration": 7,
    "start_time": "2021-07-22T11:49:20.499Z"
   },
   {
    "duration": 7,
    "start_time": "2021-07-22T11:49:59.454Z"
   },
   {
    "duration": 386,
    "start_time": "2021-07-22T11:50:11.615Z"
   },
   {
    "duration": 8,
    "start_time": "2021-07-22T11:50:16.684Z"
   },
   {
    "duration": 7,
    "start_time": "2021-07-22T11:50:37.310Z"
   },
   {
    "duration": 9,
    "start_time": "2021-07-22T11:50:47.142Z"
   },
   {
    "duration": 7,
    "start_time": "2021-07-22T11:50:54.205Z"
   },
   {
    "duration": 8,
    "start_time": "2021-07-22T11:51:34.008Z"
   },
   {
    "duration": 8,
    "start_time": "2021-07-22T11:56:45.528Z"
   },
   {
    "duration": 9,
    "start_time": "2021-07-22T11:58:25.280Z"
   },
   {
    "duration": 9,
    "start_time": "2021-07-22T11:58:33.669Z"
   },
   {
    "duration": 10,
    "start_time": "2021-07-22T11:59:00.184Z"
   },
   {
    "duration": 12,
    "start_time": "2021-07-22T11:59:37.453Z"
   },
   {
    "duration": 14,
    "start_time": "2021-07-22T11:59:45.421Z"
   },
   {
    "duration": 13,
    "start_time": "2021-07-22T12:00:09.867Z"
   },
   {
    "duration": 11,
    "start_time": "2021-07-22T12:00:19.912Z"
   },
   {
    "duration": 12,
    "start_time": "2021-07-22T12:00:27.735Z"
   },
   {
    "duration": 11,
    "start_time": "2021-07-22T12:00:34.685Z"
   },
   {
    "duration": 12,
    "start_time": "2021-07-22T12:00:45.040Z"
   },
   {
    "duration": 15,
    "start_time": "2021-07-22T12:01:32.649Z"
   },
   {
    "duration": 16,
    "start_time": "2021-07-22T12:02:01.945Z"
   },
   {
    "duration": 14,
    "start_time": "2021-07-22T12:02:08.018Z"
   },
   {
    "duration": 446,
    "start_time": "2021-07-22T12:02:47.034Z"
   },
   {
    "duration": 1424,
    "start_time": "2021-07-22T14:55:44.479Z"
   },
   {
    "duration": 46,
    "start_time": "2021-07-22T14:55:45.906Z"
   },
   {
    "duration": 6,
    "start_time": "2021-07-22T14:55:45.954Z"
   },
   {
    "duration": 50,
    "start_time": "2021-07-22T14:55:45.961Z"
   },
   {
    "duration": 7,
    "start_time": "2021-07-22T14:55:46.012Z"
   },
   {
    "duration": 24,
    "start_time": "2021-07-22T14:55:46.020Z"
   },
   {
    "duration": 6,
    "start_time": "2021-07-22T14:55:46.045Z"
   },
   {
    "duration": 56,
    "start_time": "2021-07-22T14:55:46.053Z"
   },
   {
    "duration": 7,
    "start_time": "2021-07-22T14:55:46.111Z"
   },
   {
    "duration": 17,
    "start_time": "2021-07-22T14:55:46.119Z"
   },
   {
    "duration": 9,
    "start_time": "2021-07-22T14:55:46.138Z"
   },
   {
    "duration": 72,
    "start_time": "2021-07-22T14:55:46.149Z"
   },
   {
    "duration": 28,
    "start_time": "2021-07-22T14:55:46.223Z"
   },
   {
    "duration": 23,
    "start_time": "2021-07-22T14:55:46.252Z"
   },
   {
    "duration": 21,
    "start_time": "2021-07-22T14:55:46.276Z"
   },
   {
    "duration": 11,
    "start_time": "2021-07-22T14:55:46.309Z"
   },
   {
    "duration": 10,
    "start_time": "2021-07-22T14:55:46.322Z"
   },
   {
    "duration": 29,
    "start_time": "2021-07-22T14:55:46.333Z"
   },
   {
    "duration": 342,
    "start_time": "2021-07-22T14:55:46.364Z"
   },
   {
    "duration": 240,
    "start_time": "2021-07-22T14:55:46.708Z"
   },
   {
    "duration": 17,
    "start_time": "2021-07-22T14:55:46.949Z"
   },
   {
    "duration": 3,
    "start_time": "2021-07-22T14:55:46.968Z"
   },
   {
    "duration": 34,
    "start_time": "2021-07-22T14:55:46.973Z"
   },
   {
    "duration": 25,
    "start_time": "2021-07-22T14:55:47.009Z"
   },
   {
    "duration": 7,
    "start_time": "2021-07-22T14:55:47.035Z"
   },
   {
    "duration": 14,
    "start_time": "2021-07-22T14:55:47.043Z"
   },
   {
    "duration": 44,
    "start_time": "2021-07-22T14:55:47.058Z"
   },
   {
    "duration": 217,
    "start_time": "2021-07-22T14:55:47.104Z"
   },
   {
    "duration": 280,
    "start_time": "2021-07-22T14:55:47.323Z"
   },
   {
    "duration": 21,
    "start_time": "2021-07-22T14:55:47.605Z"
   },
   {
    "duration": 9,
    "start_time": "2021-07-22T14:55:47.628Z"
   },
   {
    "duration": 14,
    "start_time": "2021-07-22T14:55:47.638Z"
   },
   {
    "duration": 14,
    "start_time": "2021-07-22T14:55:47.653Z"
   },
   {
    "duration": 14,
    "start_time": "2021-07-22T14:55:47.691Z"
   },
   {
    "duration": 4722,
    "start_time": "2021-07-22T14:55:47.706Z"
   },
   {
    "duration": 2267,
    "start_time": "2021-07-22T14:55:52.430Z"
   },
   {
    "duration": 3559,
    "start_time": "2021-07-22T14:55:54.699Z"
   },
   {
    "duration": 55,
    "start_time": "2021-07-22T14:55:58.259Z"
   },
   {
    "duration": 23,
    "start_time": "2021-07-22T14:55:58.316Z"
   },
   {
    "duration": 9,
    "start_time": "2021-07-22T14:55:58.340Z"
   },
   {
    "duration": 11,
    "start_time": "2021-07-22T14:55:58.351Z"
   },
   {
    "duration": 28567,
    "start_time": "2021-07-22T14:55:58.364Z"
   },
   {
    "duration": 8,
    "start_time": "2021-07-22T14:56:26.934Z"
   },
   {
    "duration": 181,
    "start_time": "2021-07-22T14:56:26.943Z"
   },
   {
    "duration": 214,
    "start_time": "2021-07-22T14:56:54.130Z"
   },
   {
    "duration": 167,
    "start_time": "2021-07-22T14:57:11.136Z"
   },
   {
    "duration": 181,
    "start_time": "2021-07-22T14:57:41.155Z"
   },
   {
    "duration": 173,
    "start_time": "2021-07-22T14:57:48.331Z"
   },
   {
    "duration": 175,
    "start_time": "2021-07-22T14:58:05.022Z"
   },
   {
    "duration": 176,
    "start_time": "2021-07-22T14:58:43.791Z"
   },
   {
    "duration": 178,
    "start_time": "2021-07-22T14:58:50.524Z"
   },
   {
    "duration": 171,
    "start_time": "2021-07-22T14:58:56.081Z"
   },
   {
    "duration": 171,
    "start_time": "2021-07-22T14:58:59.207Z"
   },
   {
    "duration": 164,
    "start_time": "2021-07-22T14:59:12.015Z"
   },
   {
    "duration": 173,
    "start_time": "2021-07-22T14:59:18.457Z"
   },
   {
    "duration": 256,
    "start_time": "2021-07-22T14:59:26.132Z"
   },
   {
    "duration": 176,
    "start_time": "2021-07-22T14:59:36.682Z"
   },
   {
    "duration": 169,
    "start_time": "2021-07-22T14:59:49.810Z"
   },
   {
    "duration": 166,
    "start_time": "2021-07-22T14:59:52.999Z"
   },
   {
    "duration": 194,
    "start_time": "2021-07-22T14:59:58.423Z"
   },
   {
    "duration": 171,
    "start_time": "2021-07-22T15:00:05.508Z"
   },
   {
    "duration": 171,
    "start_time": "2021-07-22T15:00:12.872Z"
   },
   {
    "duration": 172,
    "start_time": "2021-07-22T15:00:17.416Z"
   },
   {
    "duration": 166,
    "start_time": "2021-07-22T15:00:23.004Z"
   },
   {
    "duration": 171,
    "start_time": "2021-07-22T15:00:31.872Z"
   },
   {
    "duration": 169,
    "start_time": "2021-07-22T15:00:38.334Z"
   },
   {
    "duration": 171,
    "start_time": "2021-07-22T15:00:47.262Z"
   },
   {
    "duration": 248,
    "start_time": "2021-07-22T15:01:23.260Z"
   },
   {
    "duration": 172,
    "start_time": "2021-07-22T15:01:32.861Z"
   },
   {
    "duration": 165,
    "start_time": "2021-07-22T15:01:38.621Z"
   },
   {
    "duration": 175,
    "start_time": "2021-07-22T15:01:42.577Z"
   },
   {
    "duration": 180,
    "start_time": "2021-07-22T15:01:48.256Z"
   },
   {
    "duration": 357,
    "start_time": "2021-07-22T16:14:47.868Z"
   },
   {
    "duration": 42,
    "start_time": "2021-07-22T16:14:48.228Z"
   },
   {
    "duration": 7,
    "start_time": "2021-07-22T16:14:48.272Z"
   },
   {
    "duration": 39,
    "start_time": "2021-07-22T16:14:48.281Z"
   },
   {
    "duration": 7,
    "start_time": "2021-07-22T16:14:48.321Z"
   },
   {
    "duration": 23,
    "start_time": "2021-07-22T16:14:48.329Z"
   },
   {
    "duration": 6,
    "start_time": "2021-07-22T16:14:48.353Z"
   },
   {
    "duration": 42,
    "start_time": "2021-07-22T16:14:48.361Z"
   },
   {
    "duration": 6,
    "start_time": "2021-07-22T16:14:48.405Z"
   },
   {
    "duration": 18,
    "start_time": "2021-07-22T16:14:48.412Z"
   },
   {
    "duration": 7,
    "start_time": "2021-07-22T16:14:48.432Z"
   },
   {
    "duration": 58,
    "start_time": "2021-07-22T16:14:48.440Z"
   },
   {
    "duration": 26,
    "start_time": "2021-07-22T16:14:48.500Z"
   },
   {
    "duration": 23,
    "start_time": "2021-07-22T16:14:48.528Z"
   },
   {
    "duration": 8,
    "start_time": "2021-07-22T16:14:48.553Z"
   },
   {
    "duration": 32,
    "start_time": "2021-07-22T16:14:48.562Z"
   },
   {
    "duration": 10,
    "start_time": "2021-07-22T16:14:48.596Z"
   },
   {
    "duration": 26,
    "start_time": "2021-07-22T16:14:48.624Z"
   },
   {
    "duration": 197,
    "start_time": "2021-07-22T16:14:48.726Z"
   },
   {
    "duration": 239,
    "start_time": "2021-07-22T16:14:48.925Z"
   },
   {
    "duration": 27,
    "start_time": "2021-07-22T16:14:49.166Z"
   },
   {
    "duration": 3,
    "start_time": "2021-07-22T16:14:49.195Z"
   },
   {
    "duration": 15,
    "start_time": "2021-07-22T16:14:49.199Z"
   },
   {
    "duration": 24,
    "start_time": "2021-07-22T16:14:49.215Z"
   },
   {
    "duration": 7,
    "start_time": "2021-07-22T16:14:49.240Z"
   },
   {
    "duration": 14,
    "start_time": "2021-07-22T16:14:49.248Z"
   },
   {
    "duration": 50,
    "start_time": "2021-07-22T16:14:49.263Z"
   },
   {
    "duration": 212,
    "start_time": "2021-07-22T16:14:49.314Z"
   },
   {
    "duration": 229,
    "start_time": "2021-07-22T16:14:49.527Z"
   },
   {
    "duration": 21,
    "start_time": "2021-07-22T16:14:49.758Z"
   },
   {
    "duration": 10,
    "start_time": "2021-07-22T16:14:49.791Z"
   },
   {
    "duration": 13,
    "start_time": "2021-07-22T16:14:50.176Z"
   },
   {
    "duration": 16,
    "start_time": "2021-07-22T16:14:50.743Z"
   },
   {
    "duration": 14,
    "start_time": "2021-07-22T16:14:50.771Z"
   },
   {
    "duration": 4443,
    "start_time": "2021-07-22T16:14:50.943Z"
   },
   {
    "duration": 2324,
    "start_time": "2021-07-22T16:14:55.392Z"
   },
   {
    "duration": 3616,
    "start_time": "2021-07-22T16:14:57.718Z"
   },
   {
    "duration": 32,
    "start_time": "2021-07-22T16:15:01.336Z"
   },
   {
    "duration": 35,
    "start_time": "2021-07-22T16:15:01.370Z"
   },
   {
    "duration": 7,
    "start_time": "2021-07-22T16:15:01.407Z"
   },
   {
    "duration": 8,
    "start_time": "2021-07-22T16:15:01.416Z"
   },
   {
    "duration": 28834,
    "start_time": "2021-07-22T16:15:01.426Z"
   },
   {
    "duration": 8,
    "start_time": "2021-07-22T16:15:30.261Z"
   },
   {
    "duration": 176,
    "start_time": "2021-07-22T16:15:30.270Z"
   },
   {
    "duration": 7,
    "start_time": "2021-07-22T16:15:30.448Z"
   },
   {
    "duration": 298,
    "start_time": "2021-07-22T16:17:25.652Z"
   },
   {
    "duration": 238,
    "start_time": "2021-07-22T16:17:32.364Z"
   },
   {
    "duration": 232,
    "start_time": "2021-07-22T16:17:37.140Z"
   },
   {
    "duration": 159,
    "start_time": "2021-07-22T16:17:40.900Z"
   },
   {
    "duration": 157,
    "start_time": "2021-07-22T16:18:43.951Z"
   },
   {
    "duration": 158,
    "start_time": "2021-07-22T16:18:54.246Z"
   },
   {
    "duration": 155,
    "start_time": "2021-07-22T16:18:59.309Z"
   },
   {
    "duration": 158,
    "start_time": "2021-07-22T16:19:17.237Z"
   },
   {
    "duration": 157,
    "start_time": "2021-07-22T16:19:30.014Z"
   },
   {
    "duration": 157,
    "start_time": "2021-07-22T16:19:35.598Z"
   },
   {
    "duration": 84,
    "start_time": "2021-07-22T16:20:04.950Z"
   },
   {
    "duration": 162,
    "start_time": "2021-07-22T16:20:13.423Z"
   },
   {
    "duration": 158,
    "start_time": "2021-07-22T16:20:18.110Z"
   },
   {
    "duration": 156,
    "start_time": "2021-07-22T16:20:20.519Z"
   },
   {
    "duration": 164,
    "start_time": "2021-07-22T16:20:23.775Z"
   },
   {
    "duration": 159,
    "start_time": "2021-07-22T16:21:03.223Z"
   },
   {
    "duration": 158,
    "start_time": "2021-07-22T16:21:08.752Z"
   },
   {
    "duration": 169,
    "start_time": "2021-07-22T16:21:14.888Z"
   },
   {
    "duration": 157,
    "start_time": "2021-07-22T16:21:17.847Z"
   },
   {
    "duration": 262,
    "start_time": "2021-07-22T16:21:22.159Z"
   },
   {
    "duration": 158,
    "start_time": "2021-07-22T16:21:27.168Z"
   },
   {
    "duration": 158,
    "start_time": "2021-07-22T16:21:35.056Z"
   },
   {
    "duration": 158,
    "start_time": "2021-07-22T16:21:38.871Z"
   },
   {
    "duration": 158,
    "start_time": "2021-07-22T16:21:41.568Z"
   },
   {
    "duration": 110,
    "start_time": "2021-07-22T16:21:51.880Z"
   },
   {
    "duration": 195,
    "start_time": "2021-07-22T16:21:56.985Z"
   },
   {
    "duration": 160,
    "start_time": "2021-07-22T16:22:08.256Z"
   },
   {
    "duration": 159,
    "start_time": "2021-07-22T16:22:25.353Z"
   },
   {
    "duration": 162,
    "start_time": "2021-07-22T16:22:30.512Z"
   },
   {
    "duration": 159,
    "start_time": "2021-07-22T16:22:37.544Z"
   },
   {
    "duration": 161,
    "start_time": "2021-07-22T16:22:40.705Z"
   },
   {
    "duration": 158,
    "start_time": "2021-07-22T16:22:54.057Z"
   },
   {
    "duration": 169,
    "start_time": "2021-07-22T16:23:01.153Z"
   },
   {
    "duration": 169,
    "start_time": "2021-07-22T16:23:07.489Z"
   },
   {
    "duration": 164,
    "start_time": "2021-07-22T16:23:11.233Z"
   },
   {
    "duration": 160,
    "start_time": "2021-07-22T16:23:16.234Z"
   },
   {
    "duration": 158,
    "start_time": "2021-07-22T16:23:19.873Z"
   },
   {
    "duration": 159,
    "start_time": "2021-07-22T16:23:22.234Z"
   },
   {
    "duration": 170,
    "start_time": "2021-07-22T16:23:28.658Z"
   },
   {
    "duration": 161,
    "start_time": "2021-07-22T16:23:32.513Z"
   },
   {
    "duration": 289,
    "start_time": "2021-07-22T16:23:36.130Z"
   },
   {
    "duration": 158,
    "start_time": "2021-07-22T16:23:50.339Z"
   },
   {
    "duration": 356,
    "start_time": "2021-07-22T16:24:07.326Z"
   },
   {
    "duration": 40,
    "start_time": "2021-07-22T16:24:07.683Z"
   },
   {
    "duration": 6,
    "start_time": "2021-07-22T16:24:07.725Z"
   },
   {
    "duration": 38,
    "start_time": "2021-07-22T16:24:07.733Z"
   },
   {
    "duration": 22,
    "start_time": "2021-07-22T16:24:07.773Z"
   },
   {
    "duration": 24,
    "start_time": "2021-07-22T16:24:07.796Z"
   },
   {
    "duration": 6,
    "start_time": "2021-07-22T16:24:07.821Z"
   },
   {
    "duration": 26,
    "start_time": "2021-07-22T16:24:07.829Z"
   },
   {
    "duration": 6,
    "start_time": "2021-07-22T16:24:07.857Z"
   },
   {
    "duration": 40,
    "start_time": "2021-07-22T16:24:07.864Z"
   },
   {
    "duration": 8,
    "start_time": "2021-07-22T16:24:07.905Z"
   },
   {
    "duration": 38,
    "start_time": "2021-07-22T16:24:07.915Z"
   },
   {
    "duration": 52,
    "start_time": "2021-07-22T16:24:07.955Z"
   },
   {
    "duration": 24,
    "start_time": "2021-07-22T16:24:08.009Z"
   },
   {
    "duration": 9,
    "start_time": "2021-07-22T16:24:08.034Z"
   },
   {
    "duration": 12,
    "start_time": "2021-07-22T16:24:08.044Z"
   },
   {
    "duration": 11,
    "start_time": "2021-07-22T16:24:08.057Z"
   },
   {
    "duration": 25,
    "start_time": "2021-07-22T16:24:08.094Z"
   },
   {
    "duration": 208,
    "start_time": "2021-07-22T16:24:08.185Z"
   },
   {
    "duration": 237,
    "start_time": "2021-07-22T16:24:08.395Z"
   },
   {
    "duration": 19,
    "start_time": "2021-07-22T16:24:08.634Z"
   },
   {
    "duration": 3,
    "start_time": "2021-07-22T16:24:08.655Z"
   },
   {
    "duration": 33,
    "start_time": "2021-07-22T16:24:08.659Z"
   },
   {
    "duration": 24,
    "start_time": "2021-07-22T16:24:08.693Z"
   },
   {
    "duration": 6,
    "start_time": "2021-07-22T16:24:08.719Z"
   },
   {
    "duration": 13,
    "start_time": "2021-07-22T16:24:08.727Z"
   },
   {
    "duration": 22,
    "start_time": "2021-07-22T16:24:08.741Z"
   },
   {
    "duration": 226,
    "start_time": "2021-07-22T16:24:08.765Z"
   },
   {
    "duration": 227,
    "start_time": "2021-07-22T16:24:08.993Z"
   },
   {
    "duration": 22,
    "start_time": "2021-07-22T16:24:09.221Z"
   },
   {
    "duration": 9,
    "start_time": "2021-07-22T16:24:09.244Z"
   },
   {
    "duration": 13,
    "start_time": "2021-07-22T16:24:09.254Z"
   },
   {
    "duration": 35,
    "start_time": "2021-07-22T16:24:09.269Z"
   },
   {
    "duration": 12,
    "start_time": "2021-07-22T16:24:09.306Z"
   },
   {
    "duration": 4444,
    "start_time": "2021-07-22T16:24:09.319Z"
   },
   {
    "duration": 1966,
    "start_time": "2021-07-22T16:24:13.766Z"
   },
   {
    "duration": 2822,
    "start_time": "2021-07-22T16:24:15.734Z"
   },
   {
    "duration": 38,
    "start_time": "2021-07-22T16:24:18.558Z"
   },
   {
    "duration": 18,
    "start_time": "2021-07-22T16:24:18.597Z"
   },
   {
    "duration": 6,
    "start_time": "2021-07-22T16:24:18.616Z"
   },
   {
    "duration": 7,
    "start_time": "2021-07-22T16:24:18.623Z"
   },
   {
    "duration": 26727,
    "start_time": "2021-07-22T16:24:18.632Z"
   },
   {
    "duration": 7,
    "start_time": "2021-07-22T16:24:45.361Z"
   },
   {
    "duration": 172,
    "start_time": "2021-07-22T16:24:45.369Z"
   },
   {
    "duration": 6,
    "start_time": "2021-07-22T16:24:45.544Z"
   },
   {
    "duration": 5,
    "start_time": "2021-07-22T16:24:45.551Z"
   },
   {
    "duration": 163,
    "start_time": "2021-07-22T16:24:53.588Z"
   },
   {
    "duration": 185,
    "start_time": "2021-07-22T16:24:58.852Z"
   },
   {
    "duration": 165,
    "start_time": "2021-07-22T16:25:01.493Z"
   },
   {
    "duration": 161,
    "start_time": "2021-07-22T16:25:03.932Z"
   },
   {
    "duration": 153,
    "start_time": "2021-07-22T16:25:12.101Z"
   },
   {
    "duration": 157,
    "start_time": "2021-07-22T16:25:17.357Z"
   },
   {
    "duration": 155,
    "start_time": "2021-07-22T16:25:34.829Z"
   },
   {
    "duration": 156,
    "start_time": "2021-07-22T16:26:02.421Z"
   },
   {
    "duration": 156,
    "start_time": "2021-07-22T16:26:12.037Z"
   },
   {
    "duration": 153,
    "start_time": "2021-07-22T16:26:17.397Z"
   },
   {
    "duration": 156,
    "start_time": "2021-07-22T16:26:26.422Z"
   },
   {
    "duration": 170,
    "start_time": "2021-07-22T16:26:47.309Z"
   },
   {
    "duration": 166,
    "start_time": "2021-07-22T16:26:55.645Z"
   },
   {
    "duration": 7,
    "start_time": "2021-07-22T16:27:35.615Z"
   },
   {
    "duration": 7,
    "start_time": "2021-07-22T16:27:41.470Z"
   },
   {
    "duration": 7,
    "start_time": "2021-07-22T16:32:00.379Z"
   },
   {
    "duration": 8,
    "start_time": "2021-07-22T16:32:06.979Z"
   },
   {
    "duration": 25122,
    "start_time": "2021-07-22T16:32:07.730Z"
   },
   {
    "duration": 7,
    "start_time": "2021-07-22T16:32:32.854Z"
   },
   {
    "duration": 25022,
    "start_time": "2021-07-22T16:33:00.803Z"
   },
   {
    "duration": 156,
    "start_time": "2021-07-22T16:33:53.652Z"
   },
   {
    "duration": 156,
    "start_time": "2021-07-22T16:34:11.925Z"
   },
   {
    "duration": 350,
    "start_time": "2021-07-22T16:34:21.637Z"
   },
   {
    "duration": 191,
    "start_time": "2021-07-22T16:34:27.846Z"
   },
   {
    "duration": 158,
    "start_time": "2021-07-22T16:34:53.206Z"
   },
   {
    "duration": 154,
    "start_time": "2021-07-22T16:35:02.647Z"
   },
   {
    "duration": 156,
    "start_time": "2021-07-22T16:35:29.662Z"
   },
   {
    "duration": 158,
    "start_time": "2021-07-22T16:35:34.183Z"
   },
   {
    "duration": 157,
    "start_time": "2021-07-22T16:35:38.462Z"
   },
   {
    "duration": 156,
    "start_time": "2021-07-22T16:36:04.231Z"
   },
   {
    "duration": 163,
    "start_time": "2021-07-22T16:36:15.167Z"
   },
   {
    "duration": 156,
    "start_time": "2021-07-22T16:36:16.967Z"
   },
   {
    "duration": 8,
    "start_time": "2021-07-22T16:39:06.450Z"
   },
   {
    "duration": 160,
    "start_time": "2021-07-22T16:39:38.610Z"
   },
   {
    "duration": 5,
    "start_time": "2021-07-22T16:39:47.699Z"
   },
   {
    "duration": 5,
    "start_time": "2021-07-22T16:39:49.851Z"
   },
   {
    "duration": 5,
    "start_time": "2021-07-22T16:39:59.827Z"
   },
   {
    "duration": 5,
    "start_time": "2021-07-22T16:40:17.324Z"
   },
   {
    "duration": 5,
    "start_time": "2021-07-22T16:40:20.187Z"
   },
   {
    "duration": 5,
    "start_time": "2021-07-22T16:40:22.348Z"
   },
   {
    "duration": 5,
    "start_time": "2021-07-22T16:40:24.555Z"
   },
   {
    "duration": 160,
    "start_time": "2021-07-22T16:40:33.827Z"
   },
   {
    "duration": 161,
    "start_time": "2021-07-22T16:41:03.468Z"
   },
   {
    "duration": 154,
    "start_time": "2021-07-22T16:42:04.949Z"
   },
   {
    "duration": 156,
    "start_time": "2021-07-22T16:42:15.950Z"
   },
   {
    "duration": 162,
    "start_time": "2021-07-22T16:42:26.061Z"
   },
   {
    "duration": 159,
    "start_time": "2021-07-22T16:42:33.695Z"
   },
   {
    "duration": 167,
    "start_time": "2021-07-22T16:42:41.982Z"
   },
   {
    "duration": 163,
    "start_time": "2021-07-22T16:42:49.126Z"
   },
   {
    "duration": 252,
    "start_time": "2021-07-22T16:46:03.305Z"
   },
   {
    "duration": 181,
    "start_time": "2021-07-22T16:46:10.785Z"
   },
   {
    "duration": 3,
    "start_time": "2021-07-22T16:50:29.334Z"
   },
   {
    "duration": 4,
    "start_time": "2021-07-22T16:50:33.629Z"
   },
   {
    "duration": 5,
    "start_time": "2021-07-22T16:50:52.950Z"
   },
   {
    "duration": 5,
    "start_time": "2021-07-22T16:51:06.222Z"
   },
   {
    "duration": 4,
    "start_time": "2021-07-22T16:51:10.831Z"
   },
   {
    "duration": 5,
    "start_time": "2021-07-22T16:51:22.166Z"
   },
   {
    "duration": 4,
    "start_time": "2021-07-22T16:52:02.467Z"
   },
   {
    "duration": 336,
    "start_time": "2021-07-22T16:54:19.634Z"
   },
   {
    "duration": 168,
    "start_time": "2021-07-22T16:54:27.154Z"
   },
   {
    "duration": 6,
    "start_time": "2021-07-22T16:59:42.424Z"
   },
   {
    "duration": 5,
    "start_time": "2021-07-22T16:59:53.599Z"
   },
   {
    "duration": 5,
    "start_time": "2021-07-22T17:03:19.459Z"
   },
   {
    "duration": 5,
    "start_time": "2021-07-22T17:03:27.947Z"
   },
   {
    "duration": 5,
    "start_time": "2021-07-22T17:03:54.283Z"
   },
   {
    "duration": 167,
    "start_time": "2021-07-22T17:04:04.820Z"
   },
   {
    "duration": 167,
    "start_time": "2021-07-22T17:05:27.205Z"
   },
   {
    "duration": 5,
    "start_time": "2021-07-22T17:07:43.455Z"
   },
   {
    "duration": 160,
    "start_time": "2021-07-22T17:08:09.895Z"
   },
   {
    "duration": 172,
    "start_time": "2021-07-22T17:08:43.192Z"
   },
   {
    "duration": 171,
    "start_time": "2021-07-22T17:08:48.920Z"
   },
   {
    "duration": 201,
    "start_time": "2021-07-22T17:08:56.992Z"
   },
   {
    "duration": 163,
    "start_time": "2021-07-22T17:09:25.571Z"
   },
   {
    "duration": 166,
    "start_time": "2021-07-22T17:09:43.945Z"
   },
   {
    "duration": 160,
    "start_time": "2021-07-22T17:09:50.314Z"
   },
   {
    "duration": 197,
    "start_time": "2021-07-22T17:09:57.162Z"
   },
   {
    "duration": 395,
    "start_time": "2021-07-22T17:10:02.778Z"
   },
   {
    "duration": 79,
    "start_time": "2021-07-22T17:10:08.954Z"
   },
   {
    "duration": 172,
    "start_time": "2021-07-22T17:10:12.041Z"
   },
   {
    "duration": 165,
    "start_time": "2021-07-22T17:10:32.626Z"
   },
   {
    "duration": 166,
    "start_time": "2021-07-22T17:10:36.178Z"
   },
   {
    "duration": 168,
    "start_time": "2021-07-22T17:11:05.355Z"
   },
   {
    "duration": 173,
    "start_time": "2021-07-22T17:11:58.621Z"
   },
   {
    "duration": 6,
    "start_time": "2021-07-22T17:15:08.199Z"
   },
   {
    "duration": 5,
    "start_time": "2021-07-22T17:15:12.215Z"
   },
   {
    "duration": 179,
    "start_time": "2021-07-22T17:15:34.712Z"
   },
   {
    "duration": 166,
    "start_time": "2021-07-22T17:15:44.279Z"
   },
   {
    "duration": 171,
    "start_time": "2021-07-22T17:16:10.399Z"
   },
   {
    "duration": 173,
    "start_time": "2021-07-22T17:16:23.192Z"
   },
   {
    "duration": 176,
    "start_time": "2021-07-22T17:16:28.472Z"
   },
   {
    "duration": 167,
    "start_time": "2021-07-22T17:16:34.785Z"
   },
   {
    "duration": 165,
    "start_time": "2021-07-22T17:16:39.841Z"
   },
   {
    "duration": 164,
    "start_time": "2021-07-22T17:16:44.760Z"
   },
   {
    "duration": 168,
    "start_time": "2021-07-22T17:16:48.336Z"
   },
   {
    "duration": 173,
    "start_time": "2021-07-22T17:16:52.153Z"
   },
   {
    "duration": 193,
    "start_time": "2021-07-22T17:16:57.704Z"
   },
   {
    "duration": 176,
    "start_time": "2021-07-22T17:17:12.737Z"
   },
   {
    "duration": 175,
    "start_time": "2021-07-22T17:17:37.857Z"
   },
   {
    "duration": 161,
    "start_time": "2021-07-22T17:18:03.550Z"
   },
   {
    "duration": 171,
    "start_time": "2021-07-22T17:18:20.466Z"
   },
   {
    "duration": 170,
    "start_time": "2021-07-22T17:18:35.859Z"
   },
   {
    "duration": 201,
    "start_time": "2021-07-22T17:18:49.690Z"
   },
   {
    "duration": 5,
    "start_time": "2021-07-22T17:21:12.069Z"
   },
   {
    "duration": 5,
    "start_time": "2021-07-22T17:21:52.550Z"
   },
   {
    "duration": 5,
    "start_time": "2021-07-22T17:22:06.190Z"
   },
   {
    "duration": 194,
    "start_time": "2021-07-22T17:22:56.774Z"
   },
   {
    "duration": 158,
    "start_time": "2021-07-22T17:24:38.306Z"
   },
   {
    "duration": 167,
    "start_time": "2021-07-22T17:24:45.448Z"
   },
   {
    "duration": 160,
    "start_time": "2021-07-22T17:24:50.801Z"
   },
   {
    "duration": 183,
    "start_time": "2021-07-22T17:25:00.489Z"
   },
   {
    "duration": 5,
    "start_time": "2021-07-22T17:27:10.107Z"
   },
   {
    "duration": 5,
    "start_time": "2021-07-22T17:27:13.370Z"
   },
   {
    "duration": 166,
    "start_time": "2021-07-22T17:27:28.179Z"
   },
   {
    "duration": 177,
    "start_time": "2021-07-22T17:27:44.580Z"
   },
   {
    "duration": 168,
    "start_time": "2021-07-22T17:28:50.806Z"
   },
   {
    "duration": 4,
    "start_time": "2021-07-22T17:42:53.467Z"
   },
   {
    "duration": 6,
    "start_time": "2021-07-22T17:42:58.266Z"
   },
   {
    "duration": 4,
    "start_time": "2021-07-22T17:48:20.792Z"
   },
   {
    "duration": 228,
    "start_time": "2021-07-22T17:49:03.905Z"
   },
   {
    "duration": 5,
    "start_time": "2021-07-22T17:49:07.928Z"
   },
   {
    "duration": 5,
    "start_time": "2021-07-22T17:50:21.186Z"
   },
   {
    "duration": 5,
    "start_time": "2021-07-22T17:56:52.880Z"
   },
   {
    "duration": 4,
    "start_time": "2021-07-22T18:04:43.921Z"
   },
   {
    "duration": 251,
    "start_time": "2021-07-22T18:05:46.906Z"
   },
   {
    "duration": 5,
    "start_time": "2021-07-22T18:05:52.121Z"
   },
   {
    "duration": 4,
    "start_time": "2021-07-22T18:06:15.442Z"
   },
   {
    "duration": 5,
    "start_time": "2021-07-22T18:07:08.994Z"
   },
   {
    "duration": 5,
    "start_time": "2021-07-22T18:07:33.331Z"
   },
   {
    "duration": 5,
    "start_time": "2021-07-22T18:07:40.203Z"
   },
   {
    "duration": 4,
    "start_time": "2021-07-22T18:09:08.349Z"
   },
   {
    "duration": 4,
    "start_time": "2021-07-22T18:09:10.029Z"
   },
   {
    "duration": 4,
    "start_time": "2021-07-22T18:09:16.380Z"
   },
   {
    "duration": 26,
    "start_time": "2021-07-22T18:14:18.330Z"
   },
   {
    "duration": 27,
    "start_time": "2021-07-22T18:14:27.156Z"
   },
   {
    "duration": 414,
    "start_time": "2021-07-22T18:15:11.764Z"
   },
   {
    "duration": 10,
    "start_time": "2021-07-22T18:15:37.276Z"
   },
   {
    "duration": 5,
    "start_time": "2021-07-22T18:18:36.134Z"
   },
   {
    "duration": 5,
    "start_time": "2021-07-22T18:18:44.798Z"
   },
   {
    "duration": 10,
    "start_time": "2021-07-22T18:19:30.176Z"
   },
   {
    "duration": 1717,
    "start_time": "2021-07-22T23:32:17.425Z"
   },
   {
    "duration": 71,
    "start_time": "2021-07-22T23:32:19.144Z"
   },
   {
    "duration": 11,
    "start_time": "2021-07-22T23:32:19.218Z"
   },
   {
    "duration": 72,
    "start_time": "2021-07-22T23:32:19.232Z"
   },
   {
    "duration": 12,
    "start_time": "2021-07-22T23:32:19.306Z"
   },
   {
    "duration": 33,
    "start_time": "2021-07-22T23:32:19.320Z"
   },
   {
    "duration": 9,
    "start_time": "2021-07-22T23:32:19.356Z"
   },
   {
    "duration": 74,
    "start_time": "2021-07-22T23:32:19.369Z"
   },
   {
    "duration": 11,
    "start_time": "2021-07-22T23:32:19.446Z"
   },
   {
    "duration": 59,
    "start_time": "2021-07-22T23:32:19.459Z"
   },
   {
    "duration": 14,
    "start_time": "2021-07-22T23:32:19.520Z"
   },
   {
    "duration": 78,
    "start_time": "2021-07-22T23:32:19.537Z"
   },
   {
    "duration": 42,
    "start_time": "2021-07-22T23:32:19.618Z"
   },
   {
    "duration": 57,
    "start_time": "2021-07-22T23:32:19.662Z"
   },
   {
    "duration": 15,
    "start_time": "2021-07-22T23:32:19.721Z"
   },
   {
    "duration": 16,
    "start_time": "2021-07-22T23:32:19.739Z"
   },
   {
    "duration": 45,
    "start_time": "2021-07-22T23:32:19.757Z"
   },
   {
    "duration": 36,
    "start_time": "2021-07-22T23:32:19.804Z"
   },
   {
    "duration": 529,
    "start_time": "2021-07-22T23:32:19.843Z"
   },
   {
    "duration": 408,
    "start_time": "2021-07-22T23:32:20.374Z"
   },
   {
    "duration": 36,
    "start_time": "2021-07-22T23:32:20.785Z"
   },
   {
    "duration": 18,
    "start_time": "2021-07-22T23:32:20.825Z"
   },
   {
    "duration": 59,
    "start_time": "2021-07-22T23:32:20.859Z"
   },
   {
    "duration": 92,
    "start_time": "2021-07-22T23:32:20.923Z"
   },
   {
    "duration": 15,
    "start_time": "2021-07-22T23:32:21.019Z"
   },
   {
    "duration": 47,
    "start_time": "2021-07-22T23:32:21.039Z"
   },
   {
    "duration": 63,
    "start_time": "2021-07-22T23:32:21.092Z"
   },
   {
    "duration": 386,
    "start_time": "2021-07-22T23:32:21.166Z"
   },
   {
    "duration": 382,
    "start_time": "2021-07-22T23:32:21.555Z"
   },
   {
    "duration": 31,
    "start_time": "2021-07-22T23:32:21.940Z"
   },
   {
    "duration": 33,
    "start_time": "2021-07-22T23:32:21.974Z"
   },
   {
    "duration": 22,
    "start_time": "2021-07-22T23:32:22.010Z"
   },
   {
    "duration": 26,
    "start_time": "2021-07-22T23:32:22.035Z"
   },
   {
    "duration": 57,
    "start_time": "2021-07-22T23:32:22.064Z"
   },
   {
    "duration": 8154,
    "start_time": "2021-07-22T23:32:22.124Z"
   },
   {
    "duration": 3805,
    "start_time": "2021-07-22T23:32:30.282Z"
   },
   {
    "duration": 5220,
    "start_time": "2021-07-22T23:32:34.090Z"
   },
   {
    "duration": 57,
    "start_time": "2021-07-22T23:32:39.312Z"
   },
   {
    "duration": 57,
    "start_time": "2021-07-22T23:32:39.371Z"
   },
   {
    "duration": 11,
    "start_time": "2021-07-22T23:32:39.430Z"
   },
   {
    "duration": 13,
    "start_time": "2021-07-22T23:32:39.443Z"
   },
   {
    "duration": 48644,
    "start_time": "2021-07-22T23:32:39.458Z"
   },
   {
    "duration": 329,
    "start_time": "2021-07-22T23:33:28.104Z"
   },
   {
    "duration": 11,
    "start_time": "2021-07-22T23:33:28.436Z"
   },
   {
    "duration": 9,
    "start_time": "2021-07-22T23:33:28.450Z"
   },
   {
    "duration": 396,
    "start_time": "2021-07-22T23:33:28.461Z"
   },
   {
    "duration": 8,
    "start_time": "2021-07-22T23:33:28.859Z"
   },
   {
    "duration": 335,
    "start_time": "2021-07-22T23:33:28.869Z"
   },
   {
    "duration": 8,
    "start_time": "2021-07-22T23:33:29.206Z"
   },
   {
    "duration": 339,
    "start_time": "2021-07-22T23:33:29.216Z"
   },
   {
    "duration": 7,
    "start_time": "2021-07-22T23:33:29.558Z"
   },
   {
    "duration": 317,
    "start_time": "2021-07-22T23:33:29.568Z"
   },
   {
    "duration": 326,
    "start_time": "2021-07-22T23:33:29.887Z"
   },
   {
    "duration": 8,
    "start_time": "2021-07-22T23:33:30.215Z"
   },
   {
    "duration": 322,
    "start_time": "2021-07-22T23:33:30.225Z"
   },
   {
    "duration": 7,
    "start_time": "2021-07-22T23:33:30.550Z"
   },
   {
    "duration": 318,
    "start_time": "2021-07-22T23:33:30.559Z"
   },
   {
    "duration": 7,
    "start_time": "2021-07-22T23:33:30.879Z"
   },
   {
    "duration": 16,
    "start_time": "2021-07-22T23:33:30.888Z"
   },
   {
    "duration": 14,
    "start_time": "2021-07-22T23:33:30.907Z"
   },
   {
    "duration": 1761,
    "start_time": "2021-07-23T07:49:24.199Z"
   },
   {
    "duration": 75,
    "start_time": "2021-07-23T07:49:25.963Z"
   },
   {
    "duration": 12,
    "start_time": "2021-07-23T07:49:26.042Z"
   },
   {
    "duration": 75,
    "start_time": "2021-07-23T07:49:26.056Z"
   },
   {
    "duration": 12,
    "start_time": "2021-07-23T07:49:26.133Z"
   },
   {
    "duration": 58,
    "start_time": "2021-07-23T07:49:26.147Z"
   },
   {
    "duration": 9,
    "start_time": "2021-07-23T07:49:26.207Z"
   },
   {
    "duration": 72,
    "start_time": "2021-07-23T07:49:26.220Z"
   },
   {
    "duration": 12,
    "start_time": "2021-07-23T07:49:26.295Z"
   },
   {
    "duration": 27,
    "start_time": "2021-07-23T07:49:26.309Z"
   },
   {
    "duration": 52,
    "start_time": "2021-07-23T07:49:26.338Z"
   },
   {
    "duration": 59,
    "start_time": "2021-07-23T07:49:26.392Z"
   },
   {
    "duration": 70,
    "start_time": "2021-07-23T07:49:26.454Z"
   },
   {
    "duration": 35,
    "start_time": "2021-07-23T07:49:26.527Z"
   },
   {
    "duration": 31,
    "start_time": "2021-07-23T07:49:26.565Z"
   },
   {
    "duration": 16,
    "start_time": "2021-07-23T07:49:26.600Z"
   },
   {
    "duration": 19,
    "start_time": "2021-07-23T07:49:26.618Z"
   },
   {
    "duration": 75,
    "start_time": "2021-07-23T07:49:26.640Z"
   },
   {
    "duration": 528,
    "start_time": "2021-07-23T07:49:26.718Z"
   },
   {
    "duration": 410,
    "start_time": "2021-07-23T07:49:27.248Z"
   },
   {
    "duration": 33,
    "start_time": "2021-07-23T07:49:27.660Z"
   },
   {
    "duration": 5,
    "start_time": "2021-07-23T07:49:27.696Z"
   },
   {
    "duration": 22,
    "start_time": "2021-07-23T07:49:27.707Z"
   },
   {
    "duration": 71,
    "start_time": "2021-07-23T07:49:27.732Z"
   },
   {
    "duration": 11,
    "start_time": "2021-07-23T07:49:27.806Z"
   },
   {
    "duration": 25,
    "start_time": "2021-07-23T07:49:27.820Z"
   },
   {
    "duration": 60,
    "start_time": "2021-07-23T07:49:27.849Z"
   },
   {
    "duration": 380,
    "start_time": "2021-07-23T07:49:27.912Z"
   },
   {
    "duration": 424,
    "start_time": "2021-07-23T07:49:28.295Z"
   },
   {
    "duration": 29,
    "start_time": "2021-07-23T07:49:28.721Z"
   },
   {
    "duration": 38,
    "start_time": "2021-07-23T07:49:28.752Z"
   },
   {
    "duration": 21,
    "start_time": "2021-07-23T07:49:28.793Z"
   },
   {
    "duration": 27,
    "start_time": "2021-07-23T07:49:28.816Z"
   },
   {
    "duration": 55,
    "start_time": "2021-07-23T07:49:28.846Z"
   },
   {
    "duration": 8773,
    "start_time": "2021-07-23T07:49:28.904Z"
   },
   {
    "duration": 3870,
    "start_time": "2021-07-23T07:49:37.685Z"
   },
   {
    "duration": 5727,
    "start_time": "2021-07-23T07:49:41.558Z"
   },
   {
    "duration": 60,
    "start_time": "2021-07-23T07:49:47.288Z"
   },
   {
    "duration": 56,
    "start_time": "2021-07-23T07:49:47.351Z"
   },
   {
    "duration": 12,
    "start_time": "2021-07-23T07:49:47.410Z"
   },
   {
    "duration": 18,
    "start_time": "2021-07-23T07:49:47.425Z"
   },
   {
    "duration": 51317,
    "start_time": "2021-07-23T07:49:47.445Z"
   },
   {
    "duration": 394,
    "start_time": "2021-07-23T07:50:38.764Z"
   },
   {
    "duration": 11,
    "start_time": "2021-07-23T07:50:39.160Z"
   },
   {
    "duration": 16,
    "start_time": "2021-07-23T07:50:39.173Z"
   },
   {
    "duration": 404,
    "start_time": "2021-07-23T07:50:39.191Z"
   },
   {
    "duration": 7,
    "start_time": "2021-07-23T07:50:39.597Z"
   },
   {
    "duration": 455,
    "start_time": "2021-07-23T07:50:39.606Z"
   },
   {
    "duration": 22,
    "start_time": "2021-07-23T07:50:40.064Z"
   },
   {
    "duration": 377,
    "start_time": "2021-07-23T07:50:40.089Z"
   },
   {
    "duration": 17,
    "start_time": "2021-07-23T07:50:40.468Z"
   },
   {
    "duration": 323,
    "start_time": "2021-07-23T07:50:40.488Z"
   },
   {
    "duration": 350,
    "start_time": "2021-07-23T07:50:40.813Z"
   },
   {
    "duration": 7,
    "start_time": "2021-07-23T07:50:41.165Z"
   },
   {
    "duration": 332,
    "start_time": "2021-07-23T07:50:41.186Z"
   },
   {
    "duration": 6,
    "start_time": "2021-07-23T07:50:41.521Z"
   },
   {
    "duration": 341,
    "start_time": "2021-07-23T07:50:41.530Z"
   },
   {
    "duration": 12,
    "start_time": "2021-07-23T07:50:41.873Z"
   },
   {
    "duration": 9,
    "start_time": "2021-07-23T07:50:41.888Z"
   },
   {
    "duration": 15,
    "start_time": "2021-07-23T07:50:41.899Z"
   },
   {
    "duration": 28,
    "start_time": "2021-07-23T08:03:05.321Z"
   },
   {
    "duration": 13381,
    "start_time": "2021-07-23T08:05:55.760Z"
   },
   {
    "duration": 1389,
    "start_time": "2021-07-23T08:06:35.384Z"
   },
   {
    "duration": 14,
    "start_time": "2021-07-23T08:09:41.625Z"
   },
   {
    "duration": 13,
    "start_time": "2021-07-23T08:09:48.796Z"
   },
   {
    "duration": 1435,
    "start_time": "2021-07-23T08:09:51.621Z"
   },
   {
    "duration": 6,
    "start_time": "2021-07-23T08:10:02.286Z"
   },
   {
    "duration": 11,
    "start_time": "2021-07-23T08:10:24.890Z"
   },
   {
    "duration": 539,
    "start_time": "2021-07-23T08:10:43.266Z"
   },
   {
    "duration": 7,
    "start_time": "2021-07-23T08:11:41.911Z"
   },
   {
    "duration": 11,
    "start_time": "2021-07-23T08:12:25.609Z"
   },
   {
    "duration": 28,
    "start_time": "2021-07-23T08:13:35.427Z"
   },
   {
    "duration": 4642,
    "start_time": "2021-07-23T08:14:15.465Z"
   },
   {
    "duration": 1144,
    "start_time": "2021-07-23T08:25:02.710Z"
   },
   {
    "duration": 1673,
    "start_time": "2021-07-23T11:20:19.729Z"
   },
   {
    "duration": 72,
    "start_time": "2021-07-23T11:20:21.404Z"
   },
   {
    "duration": 11,
    "start_time": "2021-07-23T11:20:21.483Z"
   },
   {
    "duration": 60,
    "start_time": "2021-07-23T11:20:21.496Z"
   },
   {
    "duration": 30,
    "start_time": "2021-07-23T11:20:21.558Z"
   },
   {
    "duration": 35,
    "start_time": "2021-07-23T11:20:21.590Z"
   },
   {
    "duration": 9,
    "start_time": "2021-07-23T11:20:21.627Z"
   },
   {
    "duration": 76,
    "start_time": "2021-07-23T11:20:21.640Z"
   },
   {
    "duration": 11,
    "start_time": "2021-07-23T11:20:21.720Z"
   },
   {
    "duration": 53,
    "start_time": "2021-07-23T11:20:21.734Z"
   },
   {
    "duration": 14,
    "start_time": "2021-07-23T11:20:21.789Z"
   },
   {
    "duration": 82,
    "start_time": "2021-07-23T11:20:21.806Z"
   },
   {
    "duration": 43,
    "start_time": "2021-07-23T11:20:21.890Z"
   },
   {
    "duration": 60,
    "start_time": "2021-07-23T11:20:21.935Z"
   },
   {
    "duration": 14,
    "start_time": "2021-07-23T11:20:21.998Z"
   },
   {
    "duration": 17,
    "start_time": "2021-07-23T11:20:22.015Z"
   },
   {
    "duration": 18,
    "start_time": "2021-07-23T11:20:22.034Z"
   },
   {
    "duration": 36,
    "start_time": "2021-07-23T11:20:22.083Z"
   },
   {
    "duration": 535,
    "start_time": "2021-07-23T11:20:22.121Z"
   },
   {
    "duration": 432,
    "start_time": "2021-07-23T11:20:22.659Z"
   },
   {
    "duration": 26,
    "start_time": "2021-07-23T11:20:23.094Z"
   },
   {
    "duration": 6,
    "start_time": "2021-07-23T11:20:23.122Z"
   },
   {
    "duration": 53,
    "start_time": "2021-07-23T11:20:23.136Z"
   },
   {
    "duration": 39,
    "start_time": "2021-07-23T11:20:23.193Z"
   },
   {
    "duration": 10,
    "start_time": "2021-07-23T11:20:23.235Z"
   },
   {
    "duration": 20,
    "start_time": "2021-07-23T11:20:23.283Z"
   },
   {
    "duration": 35,
    "start_time": "2021-07-23T11:20:23.306Z"
   },
   {
    "duration": 405,
    "start_time": "2021-07-23T11:20:23.344Z"
   },
   {
    "duration": 413,
    "start_time": "2021-07-23T11:20:23.752Z"
   },
   {
    "duration": 42,
    "start_time": "2021-07-23T11:20:24.168Z"
   },
   {
    "duration": 17,
    "start_time": "2021-07-23T11:20:24.213Z"
   },
   {
    "duration": 22,
    "start_time": "2021-07-23T11:20:24.232Z"
   },
   {
    "duration": 26,
    "start_time": "2021-07-23T11:20:24.282Z"
   },
   {
    "duration": 22,
    "start_time": "2021-07-23T11:20:24.311Z"
   },
   {
    "duration": 8467,
    "start_time": "2021-07-23T11:20:24.335Z"
   },
   {
    "duration": 3845,
    "start_time": "2021-07-23T11:20:32.805Z"
   },
   {
    "duration": 5678,
    "start_time": "2021-07-23T11:20:36.652Z"
   },
   {
    "duration": 70,
    "start_time": "2021-07-23T11:20:42.333Z"
   },
   {
    "duration": 33,
    "start_time": "2021-07-23T11:20:42.405Z"
   },
   {
    "duration": 12,
    "start_time": "2021-07-23T11:20:42.440Z"
   },
   {
    "duration": 13,
    "start_time": "2021-07-23T11:20:42.482Z"
   },
   {
    "duration": 50195,
    "start_time": "2021-07-23T11:20:42.498Z"
   },
   {
    "duration": 357,
    "start_time": "2021-07-23T11:21:32.696Z"
   },
   {
    "duration": 11,
    "start_time": "2021-07-23T11:21:33.055Z"
   },
   {
    "duration": 21,
    "start_time": "2021-07-23T11:21:33.068Z"
   },
   {
    "duration": 377,
    "start_time": "2021-07-23T11:21:33.091Z"
   },
   {
    "duration": 13,
    "start_time": "2021-07-23T11:21:33.471Z"
   },
   {
    "duration": 683,
    "start_time": "2021-07-23T11:21:33.488Z"
   },
   {
    "duration": 346,
    "start_time": "2021-07-23T11:21:34.176Z"
   },
   {
    "duration": 8,
    "start_time": "2021-07-23T11:21:34.524Z"
   },
   {
    "duration": 353,
    "start_time": "2021-07-23T11:21:34.534Z"
   },
   {
    "duration": 8,
    "start_time": "2021-07-23T11:21:34.889Z"
   },
   {
    "duration": 333,
    "start_time": "2021-07-23T11:21:34.900Z"
   },
   {
    "duration": 347,
    "start_time": "2021-07-23T11:21:35.235Z"
   },
   {
    "duration": 8,
    "start_time": "2021-07-23T11:21:35.584Z"
   },
   {
    "duration": 368,
    "start_time": "2021-07-23T11:21:35.595Z"
   },
   {
    "duration": 16,
    "start_time": "2021-07-23T11:21:35.965Z"
   },
   {
    "duration": 430,
    "start_time": "2021-07-23T11:21:35.984Z"
   },
   {
    "duration": 8,
    "start_time": "2021-07-23T11:21:36.418Z"
   },
   {
    "duration": 13,
    "start_time": "2021-07-23T11:21:36.429Z"
   },
   {
    "duration": 46,
    "start_time": "2021-07-23T11:21:36.445Z"
   },
   {
    "duration": 389,
    "start_time": "2021-07-23T11:29:00.519Z"
   },
   {
    "duration": 310,
    "start_time": "2021-07-23T11:29:08.913Z"
   },
   {
    "duration": 95,
    "start_time": "2021-07-23T11:29:40.148Z"
   },
   {
    "duration": 303,
    "start_time": "2021-07-23T11:29:47.158Z"
   },
   {
    "duration": 263,
    "start_time": "2021-07-23T11:31:20.247Z"
   },
   {
    "duration": 364,
    "start_time": "2021-07-23T11:31:52.746Z"
   },
   {
    "duration": 362,
    "start_time": "2021-07-23T11:32:28.390Z"
   },
   {
    "duration": 271,
    "start_time": "2021-07-23T11:32:43.470Z"
   },
   {
    "duration": 259,
    "start_time": "2021-07-23T11:34:08.995Z"
   },
   {
    "duration": 257,
    "start_time": "2021-07-23T11:34:39.869Z"
   },
   {
    "duration": 33427,
    "start_time": "2021-07-23T11:34:50.082Z"
   },
   {
    "duration": 24,
    "start_time": "2021-07-23T11:35:33.473Z"
   },
   {
    "duration": 14832,
    "start_time": "2021-07-23T11:37:24.772Z"
   },
   {
    "duration": 15148,
    "start_time": "2021-07-23T11:38:49.483Z"
   },
   {
    "duration": 25,
    "start_time": "2021-07-23T11:39:08.615Z"
   },
   {
    "duration": 502,
    "start_time": "2021-07-23T11:43:50.628Z"
   },
   {
    "duration": 63,
    "start_time": "2021-07-23T11:43:51.134Z"
   },
   {
    "duration": 11,
    "start_time": "2021-07-23T11:43:51.199Z"
   },
   {
    "duration": 82,
    "start_time": "2021-07-23T11:43:51.213Z"
   },
   {
    "duration": 12,
    "start_time": "2021-07-23T11:43:51.297Z"
   },
   {
    "duration": 38,
    "start_time": "2021-07-23T11:43:51.311Z"
   },
   {
    "duration": 37,
    "start_time": "2021-07-23T11:43:51.351Z"
   },
   {
    "duration": 48,
    "start_time": "2021-07-23T11:43:51.392Z"
   },
   {
    "duration": 41,
    "start_time": "2021-07-23T11:43:51.444Z"
   },
   {
    "duration": 30,
    "start_time": "2021-07-23T11:43:51.488Z"
   },
   {
    "duration": 16,
    "start_time": "2021-07-23T11:43:51.521Z"
   },
   {
    "duration": 91,
    "start_time": "2021-07-23T11:43:51.540Z"
   },
   {
    "duration": 64,
    "start_time": "2021-07-23T11:43:51.634Z"
   },
   {
    "duration": 37,
    "start_time": "2021-07-23T11:43:51.701Z"
   },
   {
    "duration": 42,
    "start_time": "2021-07-23T11:43:51.741Z"
   },
   {
    "duration": 14,
    "start_time": "2021-07-23T11:43:51.785Z"
   },
   {
    "duration": 17,
    "start_time": "2021-07-23T11:43:51.802Z"
   },
   {
    "duration": 65,
    "start_time": "2021-07-23T11:43:51.822Z"
   },
   {
    "duration": 378,
    "start_time": "2021-07-23T11:43:51.891Z"
   },
   {
    "duration": 402,
    "start_time": "2021-07-23T11:43:52.284Z"
   },
   {
    "duration": 27,
    "start_time": "2021-07-23T11:43:52.689Z"
   },
   {
    "duration": 5,
    "start_time": "2021-07-23T11:43:52.718Z"
   },
   {
    "duration": 24,
    "start_time": "2021-07-23T11:43:52.726Z"
   },
   {
    "duration": 67,
    "start_time": "2021-07-23T11:43:52.752Z"
   },
   {
    "duration": 9,
    "start_time": "2021-07-23T11:43:52.821Z"
   },
   {
    "duration": 28,
    "start_time": "2021-07-23T11:43:52.832Z"
   },
   {
    "duration": 45,
    "start_time": "2021-07-23T11:43:52.882Z"
   },
   {
    "duration": 380,
    "start_time": "2021-07-23T11:43:52.931Z"
   },
   {
    "duration": 407,
    "start_time": "2021-07-23T11:43:53.314Z"
   },
   {
    "duration": 28,
    "start_time": "2021-07-23T11:43:53.724Z"
   },
   {
    "duration": 38,
    "start_time": "2021-07-23T11:43:53.755Z"
   },
   {
    "duration": 23,
    "start_time": "2021-07-23T11:43:53.795Z"
   },
   {
    "duration": 25,
    "start_time": "2021-07-23T11:43:53.820Z"
   },
   {
    "duration": 51,
    "start_time": "2021-07-23T11:43:53.847Z"
   },
   {
    "duration": 8851,
    "start_time": "2021-07-23T11:43:53.900Z"
   },
   {
    "duration": 3807,
    "start_time": "2021-07-23T11:44:02.753Z"
   },
   {
    "duration": 5538,
    "start_time": "2021-07-23T11:44:06.563Z"
   },
   {
    "duration": 57,
    "start_time": "2021-07-23T11:44:12.104Z"
   },
   {
    "duration": 35,
    "start_time": "2021-07-23T11:44:12.182Z"
   },
   {
    "duration": 10,
    "start_time": "2021-07-23T11:44:12.220Z"
   },
   {
    "duration": 5,
    "start_time": "2021-07-23T11:44:12.233Z"
   },
   {
    "duration": 15469,
    "start_time": "2021-07-23T11:44:12.240Z"
   },
   {
    "duration": 23,
    "start_time": "2021-07-23T11:44:27.711Z"
   },
   {
    "duration": 359,
    "start_time": "2021-07-23T11:44:27.737Z"
   },
   {
    "duration": 13,
    "start_time": "2021-07-23T11:44:28.098Z"
   },
   {
    "duration": 8,
    "start_time": "2021-07-23T11:44:28.113Z"
   },
   {
    "duration": 364,
    "start_time": "2021-07-23T11:44:28.124Z"
   },
   {
    "duration": 7,
    "start_time": "2021-07-23T11:44:28.490Z"
   },
   {
    "duration": 43,
    "start_time": "2021-07-23T11:44:28.499Z"
   },
   {
    "duration": 365,
    "start_time": "2021-07-23T11:44:28.545Z"
   },
   {
    "duration": 9,
    "start_time": "2021-07-23T11:44:28.912Z"
   },
   {
    "duration": 394,
    "start_time": "2021-07-23T11:44:28.923Z"
   },
   {
    "duration": 8,
    "start_time": "2021-07-23T11:44:29.319Z"
   },
   {
    "duration": 364,
    "start_time": "2021-07-23T11:44:29.329Z"
   },
   {
    "duration": 561,
    "start_time": "2021-07-23T11:44:29.696Z"
   },
   {
    "duration": 8,
    "start_time": "2021-07-23T11:44:30.260Z"
   },
   {
    "duration": 325,
    "start_time": "2021-07-23T11:44:30.283Z"
   },
   {
    "duration": 8,
    "start_time": "2021-07-23T11:44:30.611Z"
   },
   {
    "duration": 347,
    "start_time": "2021-07-23T11:44:30.622Z"
   },
   {
    "duration": 13,
    "start_time": "2021-07-23T11:44:30.972Z"
   },
   {
    "duration": 35,
    "start_time": "2021-07-23T11:44:30.987Z"
   },
   {
    "duration": 26,
    "start_time": "2021-07-23T11:44:31.025Z"
   },
   {
    "duration": 513,
    "start_time": "2021-07-23T11:46:26.253Z"
   },
   {
    "duration": 507,
    "start_time": "2021-07-23T11:46:55.035Z"
   },
   {
    "duration": 255,
    "start_time": "2021-07-23T11:47:21.005Z"
   },
   {
    "duration": 168,
    "start_time": "2021-07-23T11:47:27.425Z"
   },
   {
    "duration": 160,
    "start_time": "2021-07-23T11:47:57.441Z"
   },
   {
    "duration": 112,
    "start_time": "2021-07-23T11:48:01.483Z"
   },
   {
    "duration": 95,
    "start_time": "2021-07-23T11:48:06.666Z"
   },
   {
    "duration": 120,
    "start_time": "2021-07-23T11:48:12.407Z"
   },
   {
    "duration": 384,
    "start_time": "2021-07-23T11:49:21.568Z"
   },
   {
    "duration": 94,
    "start_time": "2021-07-23T11:49:32.161Z"
   },
   {
    "duration": 112,
    "start_time": "2021-07-23T11:49:44.023Z"
   },
   {
    "duration": 250,
    "start_time": "2021-07-23T11:50:21.827Z"
   },
   {
    "duration": 254,
    "start_time": "2021-07-23T11:50:26.571Z"
   },
   {
    "duration": 141,
    "start_time": "2021-07-23T11:50:31.004Z"
   },
   {
    "duration": 114,
    "start_time": "2021-07-23T11:50:41.460Z"
   },
   {
    "duration": 180,
    "start_time": "2021-07-23T11:50:54.073Z"
   },
   {
    "duration": 184,
    "start_time": "2021-07-23T11:51:49.538Z"
   },
   {
    "duration": 183,
    "start_time": "2021-07-23T11:52:01.687Z"
   },
   {
    "duration": 197,
    "start_time": "2021-07-23T11:52:15.628Z"
   },
   {
    "duration": 197,
    "start_time": "2021-07-23T11:52:35.400Z"
   },
   {
    "duration": 266,
    "start_time": "2021-07-23T11:54:18.947Z"
   },
   {
    "duration": 218,
    "start_time": "2021-07-23T11:54:24.972Z"
   },
   {
    "duration": 201,
    "start_time": "2021-07-23T11:55:11.907Z"
   },
   {
    "duration": 216,
    "start_time": "2021-07-23T11:55:29.877Z"
   },
   {
    "duration": 204,
    "start_time": "2021-07-23T11:55:50.912Z"
   },
   {
    "duration": 205,
    "start_time": "2021-07-23T11:56:19.839Z"
   },
   {
    "duration": 201,
    "start_time": "2021-07-23T11:56:37.041Z"
   },
   {
    "duration": 203,
    "start_time": "2021-07-23T11:56:58.550Z"
   },
   {
    "duration": 57,
    "start_time": "2021-07-23T11:58:41.900Z"
   },
   {
    "duration": 43,
    "start_time": "2021-07-23T11:58:42.039Z"
   },
   {
    "duration": 36,
    "start_time": "2021-07-23T11:58:54.072Z"
   },
   {
    "duration": 16,
    "start_time": "2021-07-23T11:58:54.238Z"
   },
   {
    "duration": 14,
    "start_time": "2021-07-23T11:58:55.064Z"
   },
   {
    "duration": 19,
    "start_time": "2021-07-23T11:58:55.802Z"
   },
   {
    "duration": 13,
    "start_time": "2021-07-23T11:59:23.121Z"
   },
   {
    "duration": 13,
    "start_time": "2021-07-23T11:59:37.167Z"
   },
   {
    "duration": 20,
    "start_time": "2021-07-23T12:01:01.010Z"
   },
   {
    "duration": 36,
    "start_time": "2021-07-23T12:01:03.588Z"
   },
   {
    "duration": 354,
    "start_time": "2021-07-23T12:02:12.595Z"
   },
   {
    "duration": 387,
    "start_time": "2021-07-23T12:02:18.075Z"
   },
   {
    "duration": 21,
    "start_time": "2021-07-23T12:02:25.811Z"
   },
   {
    "duration": 5,
    "start_time": "2021-07-23T12:02:27.447Z"
   },
   {
    "duration": 21,
    "start_time": "2021-07-23T12:02:32.973Z"
   },
   {
    "duration": 36,
    "start_time": "2021-07-23T12:02:33.519Z"
   },
   {
    "duration": 519,
    "start_time": "2021-07-23T12:02:55.893Z"
   },
   {
    "duration": 193,
    "start_time": "2021-07-23T12:02:58.922Z"
   },
   {
    "duration": 55,
    "start_time": "2021-07-23T12:03:00.707Z"
   },
   {
    "duration": 43,
    "start_time": "2021-07-23T12:03:00.889Z"
   },
   {
    "duration": 39,
    "start_time": "2021-07-23T12:03:01.238Z"
   },
   {
    "duration": 15,
    "start_time": "2021-07-23T12:03:01.422Z"
   },
   {
    "duration": 13,
    "start_time": "2021-07-23T12:03:02.173Z"
   },
   {
    "duration": 20,
    "start_time": "2021-07-23T12:03:02.699Z"
   },
   {
    "duration": 36,
    "start_time": "2021-07-23T12:03:02.929Z"
   },
   {
    "duration": 341,
    "start_time": "2021-07-23T12:03:05.501Z"
   },
   {
    "duration": 380,
    "start_time": "2021-07-23T12:03:06.076Z"
   },
   {
    "duration": 19,
    "start_time": "2021-07-23T12:03:07.965Z"
   },
   {
    "duration": 4,
    "start_time": "2021-07-23T12:03:08.159Z"
   },
   {
    "duration": 20,
    "start_time": "2021-07-23T12:03:09.458Z"
   },
   {
    "duration": 31,
    "start_time": "2021-07-23T12:03:10.613Z"
   },
   {
    "duration": 375,
    "start_time": "2021-07-23T12:04:45.161Z"
   },
   {
    "duration": 413,
    "start_time": "2021-07-23T12:04:49.115Z"
   },
   {
    "duration": 28,
    "start_time": "2021-07-23T12:04:58.639Z"
   },
   {
    "duration": 24,
    "start_time": "2021-07-23T12:05:09.581Z"
   },
   {
    "duration": 25,
    "start_time": "2021-07-23T12:05:12.479Z"
   },
   {
    "duration": 28,
    "start_time": "2021-07-23T12:05:13.958Z"
   },
   {
    "duration": 23,
    "start_time": "2021-07-23T12:05:14.663Z"
   },
   {
    "duration": 8715,
    "start_time": "2021-07-23T12:05:21.358Z"
   },
   {
    "duration": 3976,
    "start_time": "2021-07-23T12:05:35.247Z"
   },
   {
    "duration": 5510,
    "start_time": "2021-07-23T12:05:39.226Z"
   },
   {
    "duration": 56,
    "start_time": "2021-07-23T12:05:44.800Z"
   },
   {
    "duration": 35,
    "start_time": "2021-07-23T12:05:54.637Z"
   },
   {
    "duration": 11,
    "start_time": "2021-07-23T12:05:56.569Z"
   },
   {
    "duration": 4,
    "start_time": "2021-07-23T12:05:57.751Z"
   },
   {
    "duration": 15386,
    "start_time": "2021-07-23T12:06:00.767Z"
   },
   {
    "duration": 24,
    "start_time": "2021-07-23T12:06:23.149Z"
   },
   {
    "duration": 25,
    "start_time": "2021-07-23T12:06:45.504Z"
   },
   {
    "duration": 306,
    "start_time": "2021-07-23T12:06:55.254Z"
   },
   {
    "duration": 304,
    "start_time": "2021-07-23T12:07:00.971Z"
   },
   {
    "duration": 12,
    "start_time": "2021-07-23T12:08:06.962Z"
   },
   {
    "duration": 8,
    "start_time": "2021-07-23T12:08:08.733Z"
   },
   {
    "duration": 577,
    "start_time": "2021-07-23T12:11:25.018Z"
   },
   {
    "duration": 708,
    "start_time": "2021-07-23T12:11:52.428Z"
   },
   {
    "duration": 653,
    "start_time": "2021-07-23T12:14:50.005Z"
   },
   {
    "duration": 37,
    "start_time": "2021-07-23T12:15:05.577Z"
   },
   {
    "duration": 647,
    "start_time": "2021-07-23T12:16:04.716Z"
   },
   {
    "duration": 997,
    "start_time": "2021-07-23T12:19:00.880Z"
   },
   {
    "duration": 614,
    "start_time": "2021-07-23T12:19:05.449Z"
   },
   {
    "duration": 743,
    "start_time": "2021-07-23T12:19:19.471Z"
   },
   {
    "duration": 649,
    "start_time": "2021-07-23T12:19:42.857Z"
   },
   {
    "duration": 684,
    "start_time": "2021-07-23T12:20:47.538Z"
   },
   {
    "duration": 680,
    "start_time": "2021-07-23T12:20:52.386Z"
   },
   {
    "duration": 633,
    "start_time": "2021-07-23T12:21:48.021Z"
   },
   {
    "duration": 636,
    "start_time": "2021-07-23T12:21:53.055Z"
   },
   {
    "duration": 8,
    "start_time": "2021-07-23T12:23:29.235Z"
   },
   {
    "duration": 8,
    "start_time": "2021-07-23T12:23:29.691Z"
   },
   {
    "duration": 18,
    "start_time": "2021-07-23T12:23:30.335Z"
   },
   {
    "duration": 1903,
    "start_time": "2021-07-23T14:09:43.483Z"
   },
   {
    "duration": 217,
    "start_time": "2021-07-23T14:09:45.389Z"
   },
   {
    "duration": 83,
    "start_time": "2021-07-23T14:09:45.609Z"
   },
   {
    "duration": 47,
    "start_time": "2021-07-23T14:09:45.695Z"
   },
   {
    "duration": 59,
    "start_time": "2021-07-23T14:09:45.745Z"
   },
   {
    "duration": 14,
    "start_time": "2021-07-23T14:09:45.806Z"
   },
   {
    "duration": 47,
    "start_time": "2021-07-23T14:09:45.822Z"
   },
   {
    "duration": 22,
    "start_time": "2021-07-23T14:09:45.874Z"
   },
   {
    "duration": 39,
    "start_time": "2021-07-23T14:09:45.899Z"
   },
   {
    "duration": 598,
    "start_time": "2021-07-23T14:09:45.940Z"
   },
   {
    "duration": 453,
    "start_time": "2021-07-23T14:09:46.540Z"
   },
   {
    "duration": 27,
    "start_time": "2021-07-23T14:09:46.995Z"
   },
   {
    "duration": 5,
    "start_time": "2021-07-23T14:09:47.024Z"
   },
   {
    "duration": 52,
    "start_time": "2021-07-23T14:09:47.031Z"
   },
   {
    "duration": 32,
    "start_time": "2021-07-23T14:09:47.085Z"
   },
   {
    "duration": 423,
    "start_time": "2021-07-23T14:09:47.119Z"
   },
   {
    "duration": 447,
    "start_time": "2021-07-23T14:09:47.544Z"
   },
   {
    "duration": 25,
    "start_time": "2021-07-23T14:09:47.993Z"
   },
   {
    "duration": 15,
    "start_time": "2021-07-23T14:09:48.021Z"
   },
   {
    "duration": 46,
    "start_time": "2021-07-23T14:09:48.038Z"
   },
   {
    "duration": 26,
    "start_time": "2021-07-23T14:09:48.087Z"
   },
   {
    "duration": 53,
    "start_time": "2021-07-23T14:09:48.115Z"
   },
   {
    "duration": 9486,
    "start_time": "2021-07-23T14:09:48.173Z"
   },
   {
    "duration": 4270,
    "start_time": "2021-07-23T14:09:57.667Z"
   },
   {
    "duration": 6046,
    "start_time": "2021-07-23T14:10:01.940Z"
   },
   {
    "duration": 82,
    "start_time": "2021-07-23T14:10:07.989Z"
   },
   {
    "duration": 36,
    "start_time": "2021-07-23T14:10:08.075Z"
   },
   {
    "duration": 11,
    "start_time": "2021-07-23T14:10:08.114Z"
   },
   {
    "duration": 20,
    "start_time": "2021-07-23T14:10:08.128Z"
   },
   {
    "duration": 16636,
    "start_time": "2021-07-23T14:10:08.150Z"
   },
   {
    "duration": 28,
    "start_time": "2021-07-23T14:10:24.788Z"
   },
   {
    "duration": 360,
    "start_time": "2021-07-23T14:10:24.819Z"
   },
   {
    "duration": 14,
    "start_time": "2021-07-23T14:10:25.182Z"
   },
   {
    "duration": 8,
    "start_time": "2021-07-23T14:10:25.199Z"
   },
   {
    "duration": 1360,
    "start_time": "2021-07-23T14:10:25.210Z"
   },
   {
    "duration": 819,
    "start_time": "2021-07-23T14:10:26.574Z"
   },
   {
    "duration": 737,
    "start_time": "2021-07-23T14:10:27.396Z"
   },
   {
    "duration": 780,
    "start_time": "2021-07-23T14:10:28.136Z"
   },
   {
    "duration": 58,
    "start_time": "2021-07-23T14:10:28.918Z"
   },
   {
    "duration": 8,
    "start_time": "2021-07-23T14:10:28.978Z"
   },
   {
    "duration": 14,
    "start_time": "2021-07-23T14:10:28.988Z"
   },
   {
    "duration": 17,
    "start_time": "2021-07-23T14:10:29.004Z"
   },
   {
    "duration": 1783,
    "start_time": "2021-07-23T21:11:30.591Z"
   },
   {
    "duration": 210,
    "start_time": "2021-07-23T21:11:32.377Z"
   },
   {
    "duration": 60,
    "start_time": "2021-07-23T21:11:32.591Z"
   },
   {
    "duration": 62,
    "start_time": "2021-07-23T21:11:32.654Z"
   },
   {
    "duration": 42,
    "start_time": "2021-07-23T21:11:32.719Z"
   },
   {
    "duration": 32,
    "start_time": "2021-07-23T21:11:32.763Z"
   },
   {
    "duration": 33,
    "start_time": "2021-07-23T21:11:32.797Z"
   },
   {
    "duration": 19,
    "start_time": "2021-07-23T21:11:32.836Z"
   },
   {
    "duration": 38,
    "start_time": "2021-07-23T21:11:32.887Z"
   },
   {
    "duration": 531,
    "start_time": "2021-07-23T21:11:32.927Z"
   },
   {
    "duration": 406,
    "start_time": "2021-07-23T21:11:33.461Z"
   },
   {
    "duration": 33,
    "start_time": "2021-07-23T21:11:33.870Z"
   },
   {
    "duration": 5,
    "start_time": "2021-07-23T21:11:33.905Z"
   },
   {
    "duration": 22,
    "start_time": "2021-07-23T21:11:33.912Z"
   },
   {
    "duration": 70,
    "start_time": "2021-07-23T21:11:33.937Z"
   },
   {
    "duration": 389,
    "start_time": "2021-07-23T21:11:34.010Z"
   },
   {
    "duration": 403,
    "start_time": "2021-07-23T21:11:34.402Z"
   },
   {
    "duration": 26,
    "start_time": "2021-07-23T21:11:34.808Z"
   },
   {
    "duration": 15,
    "start_time": "2021-07-23T21:11:34.837Z"
   },
   {
    "duration": 50,
    "start_time": "2021-07-23T21:11:34.855Z"
   },
   {
    "duration": 26,
    "start_time": "2021-07-23T21:11:34.907Z"
   },
   {
    "duration": 51,
    "start_time": "2021-07-23T21:11:34.936Z"
   },
   {
    "duration": 8310,
    "start_time": "2021-07-23T21:11:34.994Z"
   },
   {
    "duration": 3827,
    "start_time": "2021-07-23T21:11:43.309Z"
   },
   {
    "duration": 5317,
    "start_time": "2021-07-23T21:11:47.139Z"
   },
   {
    "duration": 69,
    "start_time": "2021-07-23T21:11:52.459Z"
   },
   {
    "duration": 34,
    "start_time": "2021-07-23T21:11:52.530Z"
   },
   {
    "duration": 28,
    "start_time": "2021-07-23T21:11:52.566Z"
   },
   {
    "duration": 4,
    "start_time": "2021-07-23T21:11:52.597Z"
   },
   {
    "duration": 15085,
    "start_time": "2021-07-23T21:11:52.604Z"
   },
   {
    "duration": 6,
    "start_time": "2021-07-23T21:12:07.691Z"
   },
   {
    "duration": 30,
    "start_time": "2021-07-23T21:12:07.700Z"
   },
   {
    "duration": 325,
    "start_time": "2021-07-23T21:12:07.733Z"
   },
   {
    "duration": 27,
    "start_time": "2021-07-23T21:12:08.061Z"
   },
   {
    "duration": 11,
    "start_time": "2021-07-23T21:12:08.091Z"
   },
   {
    "duration": 1695,
    "start_time": "2021-07-23T21:12:08.104Z"
   },
   {
    "duration": 734,
    "start_time": "2021-07-23T21:12:09.802Z"
   },
   {
    "duration": 661,
    "start_time": "2021-07-23T21:12:10.539Z"
   },
   {
    "duration": 714,
    "start_time": "2021-07-23T21:12:11.202Z"
   },
   {
    "duration": 39,
    "start_time": "2021-07-23T21:12:11.920Z"
   },
   {
    "duration": 24,
    "start_time": "2021-07-23T21:12:11.961Z"
   },
   {
    "duration": 7,
    "start_time": "2021-07-23T21:12:11.987Z"
   },
   {
    "duration": 27,
    "start_time": "2021-07-23T21:12:11.997Z"
   },
   {
    "duration": 41,
    "start_time": "2021-07-23T21:12:30.481Z"
   },
   {
    "duration": 7879,
    "start_time": "2021-07-23T21:18:31.095Z"
   },
   {
    "duration": 39,
    "start_time": "2021-07-23T21:19:18.887Z"
   },
   {
    "duration": 52,
    "start_time": "2021-07-23T21:20:21.376Z"
   },
   {
    "duration": 11,
    "start_time": "2021-07-23T21:20:58.425Z"
   },
   {
    "duration": 495,
    "start_time": "2021-07-23T21:21:39.660Z"
   },
   {
    "duration": 25,
    "start_time": "2021-07-23T21:21:46.483Z"
   },
   {
    "duration": 31,
    "start_time": "2021-07-23T21:22:07.463Z"
   }
  ],
  "kernelspec": {
   "display_name": "Python 3",
   "language": "python",
   "name": "python3"
  },
  "language_info": {
   "codemirror_mode": {
    "name": "ipython",
    "version": 3
   },
   "file_extension": ".py",
   "mimetype": "text/x-python",
   "name": "python",
   "nbconvert_exporter": "python",
   "pygments_lexer": "ipython3",
   "version": "3.7.6"
  },
  "toc": {
   "base_numbering": 1,
   "nav_menu": {
    "height": "198px",
    "width": "290px"
   },
   "number_sections": true,
   "sideBar": true,
   "skip_h1_title": true,
   "title_cell": "Table of Contents",
   "title_sidebar": "Contents",
   "toc_cell": false,
   "toc_position": {},
   "toc_section_display": true,
   "toc_window_display": false
  }
 },
 "nbformat": 4,
 "nbformat_minor": 2
}
